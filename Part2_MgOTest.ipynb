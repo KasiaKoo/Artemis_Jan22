{
 "cells": [
  {
   "cell_type": "code",
   "execution_count": null,
   "id": "a25be0ae-08ed-406d-90d0-f3dd4d6408ff",
   "metadata": {},
   "outputs": [],
   "source": [
    "import numpy as np\n",
    "import matplotlib.pyplot as plt\n",
    "from functions import loading, plot_heatmap, plot_linouts, plot_all,add_har_order, cmap_map, Alps1, plot_har_yield\n",
    "import os\n",
    "from scipy import ndimage\n",
    "import pandas as pd\n",
    "from matplotlib import cycler\n",
    "from matplotlib.colors import Normalize, LogNorm, TwoSlopeNorm, PowerNorm, FuncNorm\n",
    "from matplotlib import colorbar\n",
    "from matplotlib.ticker import MultipleLocator\n",
    "from mycolorpy import colorlist as mcp\n",
    "from HARP.units import Unit as u\n",
    "light_cmap = plt.get_cmap('magma')#cmap_map(lambda x: x/2 + 0.5, plt.get_cmap('magma'))\n",
    "from scipy.signal import savgol_filter, butter, find_peaks\n",
    "def cm_to_inch(x):\n",
    "    return x/2.54\n",
    "from itertools import product\n",
    "plt.rcParams.update({'axes.labelsize':18, 'image.cmap': light_cmap, 'font.family':'Arial', \"figure.figsize\":(cm_to_inch(18),cm_to_inch(11.5)), 'font.size':18})\n",
    "\n"
   ]
  },
  {
   "cell_type": "code",
   "execution_count": null,
   "id": "7ec2f7f9-bbeb-4d24-9d14-26c6cf6b0f3d",
   "metadata": {},
   "outputs": [],
   "source": [
    "save_folder_art = '/Volumes/KasiaDrive/Processed_Artemis'\n",
    "filesart = [i for i in os.listdir(save_folder_art) if 'MgO' and 'part2' in i]\n",
    "filesart.sort()\n",
    "filesart"
   ]
  },
  {
   "cell_type": "markdown",
   "id": "ad7107c5-cd07-4b57-a3b2-b9246e6d3dc2",
   "metadata": {
    "tags": []
   },
   "source": [
    "## Testing Rotations Scans\n"
   ]
  },
  {
   "cell_type": "code",
   "execution_count": null,
   "id": "488ce22a-314f-4589-b05f-99dcf36e1fa9",
   "metadata": {},
   "outputs": [],
   "source": [
    "rot800 = loading(save_folder_art, \"Scan_220620_('MgO200',)um_800longnm_part2_test_theta_multi_70000MCP.npz\")"
   ]
  },
  {
   "cell_type": "code",
   "execution_count": null,
   "id": "754994d8-df22-483b-899c-15475c776f15",
   "metadata": {},
   "outputs": [],
   "source": [
    "rot800"
   ]
  },
  {
   "cell_type": "code",
   "execution_count": null,
   "id": "e280b97e-1bff-460a-9d25-ffbd59f940c9",
   "metadata": {},
   "outputs": [],
   "source": [
    "fig, ax  = plt.subplots(1, figsize=(15,15))\n",
    "plot_all(rot800, 'rotation', (3.3*1240/780,14), (0,-1), 780, fig = fig, ax=ax, dp=5)\n",
    "plt.show()"
   ]
  },
  {
   "cell_type": "code",
   "execution_count": null,
   "id": "fe0941d6-5ba3-4938-a85d-ee53941d1eaa",
   "metadata": {},
   "outputs": [],
   "source": [
    "scan = rot800.copy()\n",
    "#scan.data = scan.data.apply(lambda x: x - min(x.flatten()))\n",
    "#scan.data = scan.data.apply(lambda x: savgol_filter(x,11,3))"
   ]
  },
  {
   "cell_type": "code",
   "execution_count": null,
   "id": "453f5650-0571-4b73-96dd-c7c3cb79d0c3",
   "metadata": {},
   "outputs": [],
   "source": [
    "fig, ax  = plt.subplots(1, figsize=(15,15))\n",
    "plot_all(scan, 'rotation', (3.3*1240/780,14), (250,350), 780, fig = fig, ax=ax, dp=10, norm = LogNorm())\n",
    "plt.show()"
   ]
  },
  {
   "cell_type": "code",
   "execution_count": null,
   "id": "808698a6-3f38-4ae2-ae54-524d9257b6fc",
   "metadata": {},
   "outputs": [],
   "source": [
    "fig, ax  = plt.subplots(1)\n",
    "ev, deg, Z = plot_heatmap(scan, 'rotation', (3.3*1240/780,12), (250,350), 780, fig = fig, ax=ax, dp=10, norm = LogNorm(vmax=2e2))\n",
    "plt.show()"
   ]
  },
  {
   "cell_type": "code",
   "execution_count": null,
   "id": "85a859bc-10bc-42bc-83bc-da2715ea3d1b",
   "metadata": {},
   "outputs": [],
   "source": [
    "fig, ax = plt.subplots(1,2, figsize=(20,10), subplot_kw={'projection': 'polar'})\n",
    "\n",
    "\n",
    "cmap = plt.get_cmap('BuPu')\n",
    "r, theta = np.meshgrid(ev, np.radians(deg))\n",
    "im = ax[0].contourf(theta,r, Z, cmap='BuPu', levels=50, vmin=120)\n",
    "# ax[0].set_thetalim(np.radians(0), np.radians(180))\n",
    "ax[0].set_rlim(5,9)\n",
    "ax[0].set_rticks([6,8])\n",
    "ax[0].set_xlabel('Energy [eV]')\n",
    "\n",
    "im2 = ax[1].contourf(theta,r, Z, cmap='BuPu', vmax=120,levels=100)\n",
    "#ax[1].set_thetalim(np.radians(0), np.radians(180))\n",
    "ax[1].set_rlim(8,12)\n",
    "ax[1].set_rticks([8,10,12])\n",
    "ax[1].set_xlabel('Energy [eV]')\n"
   ]
  },
  {
   "cell_type": "markdown",
   "id": "316b0a5b-e1ef-4216-a043-691c28781390",
   "metadata": {
    "heading_collapsed": "true",
    "tags": []
   },
   "source": [
    "## Intensity Focus Scans\n"
   ]
  },
  {
   "cell_type": "code",
   "execution_count": null,
   "id": "9be43db4-7f98-412e-b014-c41ec7a18c7d",
   "metadata": {},
   "outputs": [],
   "source": []
  },
  {
   "cell_type": "code",
   "execution_count": null,
   "id": "33077213-2c04-40fc-b398-4d009aa95582",
   "metadata": {},
   "outputs": [],
   "source": [
    "int800 = loading(save_folder_art, \"Scan_220620_('MgO200',)um_800longnm_part2_intensityfocusscan_70000MCP.npz\")"
   ]
  },
  {
   "cell_type": "code",
   "execution_count": null,
   "id": "0acb0670-1417-4496-9900-c0cd10fe59ac",
   "metadata": {},
   "outputs": [],
   "source": [
    "scan = int800.copy()\n",
    "scan.iris.unique()"
   ]
  },
  {
   "cell_type": "markdown",
   "id": "4ca1b1e2-38a8-43f5-879e-c0c9473902a5",
   "metadata": {
    "tags": []
   },
   "source": [
    "### Plotting traces only"
   ]
  },
  {
   "cell_type": "code",
   "execution_count": null,
   "id": "1c8ab39b-6897-42b0-917f-9145262e1d4b",
   "metadata": {},
   "outputs": [],
   "source": [
    "for iris in [82,83,84,85]:\n",
    "    fig, ax = plt.subplots(1, figsize=(15,8))\n",
    "    stage='sampleX'\n",
    "    countbig = 0\n",
    "    scan = int800.copy()\n",
    "    scan = int800.copy()[scan.iris == iris]\n",
    "    N = len(scan[stage].unique())\n",
    "    shape = scan.data.values[0].shape\n",
    "    print(shape)\n",
    "    Z = np.zeros((N, shape[0], shape[1]))\n",
    "    Y = np.zeros(N)\n",
    "    count = 0\n",
    "    for i in np.arange(N)[scan[stage].unique().argsort()]:\n",
    "        Z[count] = scan[scan[stage]==scan[stage].unique()[i]].data.mean()\n",
    "        Y[count] = scan[stage].unique()[i]\n",
    "        count+=1\n",
    "    print(Z.shape)\n",
    "    y = np.arange(len(Y)*(shape[0]))\n",
    "    im = ax.imshow(Z.reshape(31*(shape[0]),shape[1]), aspect = 'auto', norm=LogNorm(vmax=1000, vmin=100), cmap='ocean_r')\n",
    "    ax.set_title(('WP position', iris))\n",
    "    ax.set_yticks(y[shape[0]//2::shape[0]])\n",
    "    ax.set_yticklabels(Y)\n",
    "    plt.colorbar(im, ax=ax)\n",
    "    plt.xlim(0,1200)\n",
    "    plt.show()"
   ]
  },
  {
   "cell_type": "markdown",
   "id": "e3d047a1-b168-4406-8e58-1bf5d3d575c0",
   "metadata": {
    "heading_collapsed": "true",
    "tags": []
   },
   "source": [
    "### Tracing Harmonics"
   ]
  },
  {
   "cell_type": "code",
   "execution_count": null,
   "id": "c2a9f7e6-a3ae-49d3-8dc5-ce876e8ea7ed",
   "metadata": {},
   "outputs": [],
   "source": [
    "for iris in [82,83,84,85]:\n",
    "    fig, ax = plt.subplots(1, figsize=(15,8))\n",
    "    stage='sampleX'\n",
    "    countbig = 0\n",
    "    scan = int800.copy()\n",
    "    scan = int800.copy()[scan.iris == iris]\n",
    "    N = len(scan[stage].unique())\n",
    "    shape = scan.data.values[0].shape\n",
    "    print(shape)\n",
    "    Z = np.zeros((N, shape[0], shape[1]))\n",
    "    Y = np.zeros(N)\n",
    "    count = 0\n",
    "    for i in np.arange(N)[scan[stage].unique().argsort()]:\n",
    "        Z[count] = scan[scan[stage]==scan[stage].unique()[i]].data.mean()\n",
    "        Y[count] = scan[stage].unique()[i]\n",
    "        count+=1\n",
    "    y = np.arange(len(Y)*shape[0])\n",
    "    im = ax.imshow(Z.reshape(31*shape[0],shape[1]), aspect = 'auto', norm=LogNorm(vmax=1000, vmin=100), cmap='ocean_r')\n",
    "    ax.axvspan(20,120, alpha=0.2, color='red')\n",
    "    ax.axvspan(160,290, alpha=0.2, color='blue')\n",
    "    ax.axvspan(450,550, alpha=0.2, color='white')\n",
    "    ax.axvspan(550,650, alpha=0.2, color='yellow')\n",
    "    ax.axvspan(800,950, alpha=0.2, color='orange')\n",
    "    ax.axvspan(1020,1100, alpha=0.2, color='purple')\n",
    "    ax.axvspan(1120,1200, alpha=0.2, color='black')\n",
    "\n",
    "    ax.set_title(('WP position', iris))\n",
    "    ax.set_yticks(y[shape[0]//2::shape[0]])\n",
    "    ax.set_yticklabels(Y)\n",
    "    plt.colorbar(im, ax=ax)\n",
    "    plt.xlim(0,1300)\n",
    "    plt.show()\n",
    "    \n",
    "\n",
    "hlim = [(20,120), (160,290), (450,550), (550,650), (800,950), (1020,1100), (1120,1200)]\n",
    "h_color = ['Red', 'Blue (5th?)', 'White', 'Yellow (7th?)', 'Orange (9th?)', 'Pink (11th?)', 'Black']"
   ]
  },
  {
   "cell_type": "code",
   "execution_count": null,
   "id": "e3ff525b-be5c-4091-88d3-b9a0beb58a95",
   "metadata": {},
   "outputs": [],
   "source": [
    "for iris in [82, 83, 84, 85]:\n",
    "    fig, ax = plt.subplots(1, figsize=(15,8))\n",
    "    stage='sampleX'\n",
    "    countbig = 0\n",
    "    vspan = hlim[0]\n",
    "    scan = int800.copy()\n",
    "    scan = int800.copy()[scan.iris == iris]\n",
    "    N = len(scan[stage].unique())\n",
    "    shape = scan.data.values[0].shape\n",
    "    print(shape)\n",
    "    Z = np.zeros((N, shape[0],vspan[1]-vspan[0]))\n",
    "    Y = np.zeros(N)\n",
    "    count = 0\n",
    "    for i in np.arange(N)[scan[stage].unique().argsort()]:\n",
    "        Z[count] = scan[scan[stage]==scan[stage].unique()[i]].data.mean()[:,vspan[0]:vspan[1]]\n",
    "        Y[count] = scan[stage].unique()[i]\n",
    "        count+=1\n",
    "\n",
    "    ax.axes.set_prop_cycle(cycler(color = mcp.gen_color(cmap=\"plasma\",n=N+1)))\n",
    "    for i in range(Z.shape[0]):\n",
    "        ax.plot(savgol_filter(Z.mean(axis=1)[i], 21, 3) - min(savgol_filter(Z.mean(axis=1)[i], 21, 3)), label=Y[i])\n",
    "\n",
    "    ax.set_title((h_color[0],'WP position', iris, ))\n",
    "    plt.legend(loc='center left', bbox_to_anchor=(1, 0.5))\n"
   ]
  },
  {
   "cell_type": "code",
   "execution_count": null,
   "id": "60e53b14-f9f1-45af-871f-4963fd7870c7",
   "metadata": {},
   "outputs": [],
   "source": [
    "for iris in [82, 83, 84, 85]:\n",
    "    fig, ax = plt.subplots(1, figsize=(15,8))\n",
    "    stage='sampleX'\n",
    "    countbig = 0\n",
    "    vspan = hlim[1]\n",
    "    scan = int800.copy()\n",
    "    scan = int800.copy()[scan.iris == iris]\n",
    "    N = len(scan[stage].unique())\n",
    "    shape = scan.data.values[0].shape\n",
    "    print(shape)\n",
    "    Z = np.zeros((N, shape[0],vspan[1]-vspan[0]))\n",
    "    Y = np.zeros(N)\n",
    "    count = 0\n",
    "    for i in np.arange(N)[scan[stage].unique().argsort()]:\n",
    "        Z[count] = scan[scan[stage]==scan[stage].unique()[i]].data.mean()[:,vspan[0]:vspan[1]]\n",
    "        Y[count] = scan[stage].unique()[i]\n",
    "        count+=1\n",
    "\n",
    "    ax.axes.set_prop_cycle(cycler(color = mcp.gen_color(cmap=\"plasma\",n=N+1)))\n",
    "    for i in range(Z.shape[0]):\n",
    "        ax.plot(savgol_filter(Z.mean(axis=1)[i], 21, 3), label=Y[i])\n",
    "\n",
    "    ax.set_title((h_color[1],'WP position', iris, ))\n",
    "    plt.legend(loc='center left', bbox_to_anchor=(1, 0.5))\n"
   ]
  },
  {
   "cell_type": "code",
   "execution_count": null,
   "id": "ebaff1f4-37b5-4829-85be-e02f94629eae",
   "metadata": {},
   "outputs": [],
   "source": [
    "for iris in [82, 83, 84, 85]:\n",
    "    fig, ax = plt.subplots(1, figsize=(15,8))\n",
    "    stage='sampleX'\n",
    "    countbig = 0\n",
    "    vspan = hlim[2]\n",
    "    scan = int800.copy()\n",
    "    scan = int800.copy()[scan.iris == iris]\n",
    "    N = len(scan[stage].unique())\n",
    "    shape = scan.data.values[0].shape\n",
    "    print(shape)\n",
    "    Z = np.zeros((N, shape[0],vspan[1]-vspan[0]))\n",
    "    Y = np.zeros(N)\n",
    "    count = 0\n",
    "    for i in np.arange(N)[scan[stage].unique().argsort()]:\n",
    "        Z[count] = scan[scan[stage]==scan[stage].unique()[i]].data.mean()[:,vspan[0]:vspan[1]]\n",
    "        Y[count] = scan[stage].unique()[i]\n",
    "        count+=1\n",
    "\n",
    "    ax.axes.set_prop_cycle(cycler(color = mcp.gen_color(cmap=\"plasma\",n=N+1)))\n",
    "    for i in range(Z.shape[0]):\n",
    "        ax.plot(savgol_filter(Z.mean(axis=1)[i], 21, 3) - min(savgol_filter(Z.mean(axis=1)[i], 21, 3)), label=Y[i])\n",
    "\n",
    "    ax.set_title((h_color[2],'WP position', iris, ))\n",
    "    plt.legend(loc='center left', bbox_to_anchor=(1, 0.5))\n"
   ]
  },
  {
   "cell_type": "code",
   "execution_count": null,
   "id": "9d396c97-8597-48cc-9466-9440effbdcdf",
   "metadata": {},
   "outputs": [],
   "source": [
    "for iris in [82, 83, 84, 85]:\n",
    "    fig, ax = plt.subplots(1, figsize=(15,8))\n",
    "    stage='sampleX'\n",
    "    countbig = 0\n",
    "    vspan = hlim[3]\n",
    "    scan = int800.copy()\n",
    "    scan = int800.copy()[scan.iris == iris]\n",
    "    N = len(scan[stage].unique())\n",
    "    shape = scan.data.values[0].shape\n",
    "    print(shape)\n",
    "    Z = np.zeros((N, shape[0],vspan[1]-vspan[0]))\n",
    "    Y = np.zeros(N)\n",
    "    count = 0\n",
    "    for i in np.arange(N)[scan[stage].unique().argsort()]:\n",
    "        Z[count] = scan[scan[stage]==scan[stage].unique()[i]].data.mean()[:,vspan[0]:vspan[1]]\n",
    "        Y[count] = scan[stage].unique()[i]\n",
    "        count+=1\n",
    "\n",
    "    ax.axes.set_prop_cycle(cycler(color = mcp.gen_color(cmap=\"plasma\",n=N+1)))\n",
    "    for i in range(Z.shape[0]):\n",
    "        ax.plot(savgol_filter(Z.mean(axis=1)[i], 21, 3) - min(savgol_filter(Z.mean(axis=1)[i], 21, 3)), label=Y[i])\n",
    "\n",
    "    ax.set_title((h_color[3],'WP position', iris, ))\n",
    "    plt.legend(loc='center left', bbox_to_anchor=(1, 0.5))\n"
   ]
  },
  {
   "cell_type": "code",
   "execution_count": null,
   "id": "1bb40c94-2cf4-4bb7-808a-c023ba482aae",
   "metadata": {},
   "outputs": [],
   "source": [
    "for iris in [82, 83, 84, 85]:\n",
    "    fig, ax = plt.subplots(1, figsize=(15,8))\n",
    "    stage='sampleX'\n",
    "    countbig = 0\n",
    "    vspan = hlim[4]\n",
    "    scan = int800.copy()\n",
    "    scan = int800.copy()[scan.iris == iris]\n",
    "    N = len(scan[stage].unique())\n",
    "    shape = scan.data.values[0].shape\n",
    "    print(shape)\n",
    "    Z = np.zeros((N, shape[0],vspan[1]-vspan[0]))\n",
    "    Y = np.zeros(N)\n",
    "    count = 0\n",
    "    for i in np.arange(N)[scan[stage].unique().argsort()]:\n",
    "        Z[count] = scan[scan[stage]==scan[stage].unique()[i]].data.mean()[:,vspan[0]:vspan[1]]\n",
    "        Y[count] = scan[stage].unique()[i]\n",
    "        count+=1\n",
    "\n",
    "    ax.axes.set_prop_cycle(cycler(color = mcp.gen_color(cmap=\"plasma\",n=N+1)))\n",
    "    for i in range(Z.shape[0]):\n",
    "        ax.plot(savgol_filter(Z.mean(axis=1)[i], 21, 3) - min(savgol_filter(Z.mean(axis=1)[i], 21, 3)), label=Y[i])\n",
    "\n",
    "    ax.set_title((h_color[4],'WP position', iris, ))\n",
    "    plt.legend(loc='center left', bbox_to_anchor=(1, 0.5))\n"
   ]
  },
  {
   "cell_type": "code",
   "execution_count": null,
   "id": "311cefd9-2748-46d8-be66-75f0b6e42c74",
   "metadata": {},
   "outputs": [],
   "source": [
    "for iris in [82, 83, 84, 85]:\n",
    "    fig, ax = plt.subplots(1, figsize=(15,8))\n",
    "    stage='sampleX'\n",
    "    countbig = 0\n",
    "    vspan = hlim[5]\n",
    "    scan = int800.copy()\n",
    "    scan = int800.copy()[scan.iris == iris]\n",
    "    N = len(scan[stage].unique())\n",
    "    shape = scan.data.values[0].shape\n",
    "    print(shape)\n",
    "    Z = np.zeros((N, shape[0],vspan[1]-vspan[0]))\n",
    "    Y = np.zeros(N)\n",
    "    count = 0\n",
    "    for i in np.arange(N)[scan[stage].unique().argsort()]:\n",
    "        Z[count] = scan[scan[stage]==scan[stage].unique()[i]].data.mean()[:,vspan[0]:vspan[1]]\n",
    "        Y[count] = scan[stage].unique()[i]\n",
    "        count+=1\n",
    "\n",
    "    ax.axes.set_prop_cycle(cycler(color = mcp.gen_color(cmap=\"plasma\",n=N+1)))\n",
    "    for i in range(Z.shape[0]):\n",
    "        ax.plot(savgol_filter(Z.mean(axis=1)[i], 21, 3) - min(savgol_filter(Z.mean(axis=1)[i], 21, 3)), label=Y[i])\n",
    "\n",
    "    ax.set_title((h_color[5],'WP position', iris, ))\n",
    "    plt.legend(loc='center left', bbox_to_anchor=(1, 0.5))\n"
   ]
  },
  {
   "cell_type": "code",
   "execution_count": null,
   "id": "ad72557b-fd63-4a12-baa6-0e84c250506a",
   "metadata": {},
   "outputs": [],
   "source": [
    "for iris in [82, 83, 84, 85]:\n",
    "    fig, ax = plt.subplots(1, figsize=(15,8))\n",
    "    stage='sampleX'\n",
    "    countbig = 0\n",
    "    vspan = hlim[6]\n",
    "    scan = int800.copy()\n",
    "    scan = int800.copy()[scan.iris == iris]\n",
    "    N = len(scan[stage].unique())\n",
    "    shape = scan.data.values[0].shape\n",
    "    print(shape)\n",
    "    Z = np.zeros((N, shape[0],vspan[1]-vspan[0]))\n",
    "    Y = np.zeros(N)\n",
    "    count = 0\n",
    "    for i in np.arange(N)[scan[stage].unique().argsort()]:\n",
    "        Z[count] = scan[scan[stage]==scan[stage].unique()[i]].data.mean()[:,vspan[0]:vspan[1]]\n",
    "        Y[count] = scan[stage].unique()[i]\n",
    "        count+=1\n",
    "\n",
    "    ax.axes.set_prop_cycle(cycler(color = mcp.gen_color(cmap=\"plasma\",n=N+1)))\n",
    "    for i in range(Z.shape[0]):\n",
    "        ax.plot(savgol_filter(Z.mean(axis=1)[i], 21, 3) - min(savgol_filter(Z.mean(axis=1)[i], 21, 3)), label=Y[i])\n",
    "\n",
    "    ax.set_title((h_color[6],'WP position', iris, ))\n",
    "    plt.legend(loc='center left', bbox_to_anchor=(1, 0.5))\n"
   ]
  },
  {
   "cell_type": "markdown",
   "id": "1e16a771-fc62-4895-83c4-3fa1aa346436",
   "metadata": {
    "tags": []
   },
   "source": [
    "### Tracing Thin Harmonics"
   ]
  },
  {
   "cell_type": "code",
   "execution_count": null,
   "id": "d88110de-84e1-47fc-b836-09dde0aeb9c5",
   "metadata": {},
   "outputs": [],
   "source": [
    "vlim = (250,300)\n",
    "for iris in [82,83,84,85]:\n",
    "    fig, ax = plt.subplots(1, figsize=(15,8))\n",
    "    stage='sampleX'\n",
    "    countbig = 0\n",
    "    scan = int800.copy()\n",
    "    scan = int800.copy()[scan.iris == iris]\n",
    "    N = len(scan[stage].unique())\n",
    "    shape = scan.data.values[0].shape\n",
    "    print(shape)\n",
    "    Z = np.zeros((N, vlim[1]-vlim[0], shape[1]))\n",
    "    Y = np.zeros(N)\n",
    "    count = 0\n",
    "    for i in np.arange(N)[scan[stage].unique().argsort()]:\n",
    "        Z[count] = scan[scan[stage]==scan[stage].unique()[i]].data.mean()[vlim[0]:vlim[1],:]\n",
    "        Y[count] = scan[stage].unique()[i]\n",
    "        count+=1\n",
    "    y = np.arange(len(Y)*(vlim[1]-vlim[0]))\n",
    "    im = ax.imshow(Z.reshape(31*(vlim[1]-vlim[0]),shape[1]), aspect = 'auto', norm=LogNorm(vmin=100), cmap='ocean_r')\n",
    "    ax.set_title(('WP position', iris))\n",
    "    ax.axvspan(20,120, alpha=0.2, color='red')\n",
    "    ax.axvspan(160,290, alpha=0.2, color='blue')\n",
    "    ax.axvspan(450,550, alpha=0.2, color='white')\n",
    "    ax.axvspan(550,650, alpha=0.2, color='yellow')\n",
    "    ax.axvspan(800,950, alpha=0.2, color='orange')\n",
    "    ax.axvspan(1020,1100, alpha=0.2, color='purple')\n",
    "    ax.axvspan(1120,1200, alpha=0.2, color='black')\n",
    "\n",
    "    ax.set_title(('WP position', iris))\n",
    "\n",
    "    plt.colorbar(im, ax=ax)\n",
    "    plt.xlim(0,1300)\n",
    "    plt.show()\n",
    "    \n",
    "    \n",
    "\n",
    "hlim = [(20,120), (160,290), (450,550), (550,650), (800,950), (1020,1100), (1120,1200)]\n",
    "h_color = ['Red', 'Blue (5th?)', 'White', 'Yellow (7th?)', 'Orange (9th?)', 'Pink (11th?)', 'Black']"
   ]
  },
  {
   "cell_type": "code",
   "execution_count": null,
   "id": "80d47d3b-38be-4d8e-b2fa-c510a8def495",
   "metadata": {},
   "outputs": [],
   "source": [
    "vlim = (250,300)\n",
    "for h_index in range(len(hlim)):\n",
    "    print()\n",
    "    print()\n",
    "    print(h_color[h_index])\n",
    "    for iris in [82, 83, 84, 85]:\n",
    "        fig, ax = plt.subplots(1, figsize=(15,8))\n",
    "        stage='sampleX'\n",
    "        countbig = 0\n",
    "        vspan = hlim[h_index]\n",
    "        scan = int800.copy()\n",
    "        scan = int800.copy()[scan.iris == iris]\n",
    "        N = len(scan[stage].unique())\n",
    "        shape = scan.data.values[0].shape\n",
    "        print(shape)\n",
    "        Z = np.zeros((N, vlim[1]-vlim[0],vspan[1]-vspan[0]))\n",
    "        Y = np.zeros(N)\n",
    "        count = 0\n",
    "        for i in np.arange(N)[scan[stage].unique().argsort()]:\n",
    "            Z[count] = scan[scan[stage]==scan[stage].unique()[i]].data.mean()[vlim[0]:vlim[1],vspan[0]:vspan[1]]\n",
    "            Y[count] = scan[stage].unique()[i]\n",
    "            count+=1\n",
    "\n",
    "        ax.axes.set_prop_cycle(cycler(color = mcp.gen_color(cmap=\"plasma\",n=N+1)))\n",
    "        for i in range(Z.shape[0]):\n",
    "            ax.plot(savgol_filter(Z.mean(axis=1)[i], 21, 3) - min(savgol_filter(Z.mean(axis=1)[i], 21, 3)), label=Y[i])\n",
    "\n",
    "        ax.set_title((h_color[h_index],'WP position', iris, ))\n",
    "        plt.legend(loc='center left', bbox_to_anchor=(1, 0.5))\n",
    "    \n",
    "    plt.show()\n"
   ]
  },
  {
   "cell_type": "markdown",
   "id": "a34dae69-6b2a-47b0-a1ba-269db22deb23",
   "metadata": {
    "heading_collapsed": "true",
    "tags": []
   },
   "source": [
    "## Intensity Rotation Scan"
   ]
  },
  {
   "cell_type": "code",
   "execution_count": null,
   "id": "c2afe7e8-3002-4ca5-ad43-fe91a4b1b003",
   "metadata": {},
   "outputs": [],
   "source": [
    "lowint = loading(save_folder_art, \"Scan_220621_('MgO200',)um_800longnm_part2_rotationfocusscan_0to500_70000MCP.npz\")\n",
    "midint = loading(save_folder_art, \"Scan_220621_('MgO200',)um_800longnm_part2_rotationfocusscan_500to1000_70000MCP.npz\")\n",
    "highint = loading(save_folder_art,\"Scan_220621_('MgO200',)um_800longnm_part2_rotationfocusscan_1000to1210_70000MCP.npz\")\n",
    "int_rot = pd.concat([lowint, midint, highint], ignore_index=True)"
   ]
  },
  {
   "cell_type": "code",
   "execution_count": null,
   "id": "314b83e9-7d2c-4ad9-96c5-9d69e056c22d",
   "metadata": {},
   "outputs": [],
   "source": [
    "print('wp positions',int_rot['wp'].unique())\n",
    "print('rotation degrees',int_rot['rotation'].unique())"
   ]
  },
  {
   "cell_type": "code",
   "execution_count": null,
   "id": "090e33e2-c972-494f-b173-0402e0c6a2ce",
   "metadata": {},
   "outputs": [],
   "source": [
    "scan = int_rot.copy()\n",
    "iris = int_rot['wp'].unique()[5]\n",
    "fig, ax = plt.subplots(1, figsize=(15,8))\n",
    "stage='rotation'\n",
    "countbig = 0\n",
    "scan = scan[scan.wp == iris]\n",
    "N = len(scan[stage].unique())\n",
    "shape = scan.data.values[0].shape\n",
    "print(shape)\n",
    "Z = np.zeros((N, shape[0], shape[1]))\n",
    "Y = np.zeros(N)\n",
    "count = 0\n",
    "for i in np.arange(N)[scan[stage].unique().argsort()]:\n",
    "    Z[count] = scan[scan[stage]==scan[stage].unique()[i]].data.mean()\n",
    "    Y[count] = scan[stage].unique()[i]\n",
    "    count+=1\n",
    "print(Z.shape)\n",
    "y = np.arange(len(Y)*(shape[0]))\n",
    "im = ax.imshow(Z.reshape(Z.shape[0]*(shape[0]),shape[1]), aspect = 'auto', norm=LogNorm(vmin=100,vmax=1000), cmap='ocean_r')\n",
    "ax.set_title(('WP position', iris))\n",
    "ax.set_yticks([])\n",
    "#ax.set_yticklabels(Y)\n",
    "ax.set_ylabel('Rotation over 360 deg')\n",
    "plt.colorbar(im, ax=ax)\n",
    "plt.xlim(0,1200)\n",
    "plt.show()"
   ]
  },
  {
   "cell_type": "code",
   "execution_count": null,
   "id": "77886025-3adc-460d-8c3e-08226406e7a9",
   "metadata": {},
   "outputs": [],
   "source": [
    "scan = int_rot.copy()\n",
    "iris = int_rot['wp'].unique()[6]\n",
    "fig, ax = plt.subplots(1, figsize=(15,8))\n",
    "stage='rotation'\n",
    "countbig = 0\n",
    "scan = scan[scan.wp == iris]\n",
    "N = len(scan[stage].unique())\n",
    "shape = scan.data.values[0].shape\n",
    "print(shape)\n",
    "vlow = 190\n",
    "vhigh = 350\n",
    "Z = np.zeros((N, vhigh-vlow, shape[1]))\n",
    "Y = np.zeros(N)\n",
    "count = 0\n",
    "for i in np.arange(N)[scan[stage].unique().argsort()]:\n",
    "    Z[count] = scan[scan[stage]==scan[stage].unique()[i]].data.mean()[vlow:vhigh]\n",
    "    Y[count] = scan[stage].unique()[i]\n",
    "    count+=1\n",
    "print(Z.shape)\n",
    "y = np.arange(len(Y)*(shape[0]))\n",
    "im = ax.imshow(Z.reshape(Z.shape[0]*(Z.shape[1]),shape[1])[:Z.shape[0]*(vhigh-vlow)//4], aspect = 'auto', norm=LogNorm(vmin=100,vmax=2100), cmap='ocean_r')\n",
    "ax.set_title(('WP position', iris))\n",
    "ax.set_yticks([])\n",
    "#ax.set_yticklabels(Y)\n",
    "ax.set_ylabel('Rotation over 90 deg')\n",
    "plt.colorbar(im, ax=ax)\n",
    "plt.xlim(0,1200)\n",
    "plt.savefig('zoom.png')\n",
    "plt.show()"
   ]
  },
  {
   "cell_type": "code",
   "execution_count": null,
   "id": "6d2ee5a0-dee5-4643-93f5-a9da9a824843",
   "metadata": {},
   "outputs": [],
   "source": [
    "vlim = [250,500,800,900,1000,1200,1600,2000,2200,2400, 2100]\n",
    "for i in np.arange(len(int_rot['wp'].unique())):\n",
    "    print(i)\n",
    "    print(vlim[i])\n",
    "    vmax = int(vlim[i])\n",
    "    scan = int_rot.copy()\n",
    "    iris = int_rot['wp'].unique()[i]\n",
    "    fig, ax = plt.subplots(1, figsize=(15,8))\n",
    "    stage='rotation'\n",
    "    countbig = 0\n",
    "    scan = scan[scan.wp == iris]\n",
    "    N = len(scan[stage].unique())\n",
    "    shape = scan.data.values[0].shape\n",
    "    print(shape)\n",
    "    vlow = 190\n",
    "    vhigh = 350\n",
    "    Z = np.zeros((N, vhigh-vlow, shape[1]))\n",
    "    Y = np.zeros(N)\n",
    "    count = 0\n",
    "    for i in np.arange(N)[scan[stage].unique().argsort()]:\n",
    "        Z[count] = scan[scan[stage]==scan[stage].unique()[i]].data.mean()[vlow:vhigh]\n",
    "        Y[count] = scan[stage].unique()[i]\n",
    "        count+=1\n",
    "    print(Z.shape)\n",
    "    y = np.arange(len(Y)*(shape[0]))\n",
    "    im = ax.imshow(Z.reshape(Z.shape[0]*(Z.shape[1]),shape[1])[:Z.shape[0]*(vhigh-vlow)//4], aspect = 'auto', norm=LogNorm(vmin=100,vmax=vmax), cmap='ocean_r')\n",
    "    ax.set_title(('WP position', iris))\n",
    "    ax.set_yticks([])\n",
    "    #ax.set_yticklabels(Y)\n",
    "    ax.set_ylabel('Rotation over 90 deg')\n",
    "    plt.colorbar(im, ax=ax)\n",
    "    plt.xlim(0,1200)\n",
    "    plt.show()"
   ]
  },
  {
   "cell_type": "code",
   "execution_count": null,
   "id": "e8984d03-b77b-410f-943f-ef629ffd10ff",
   "metadata": {},
   "outputs": [],
   "source": [
    "scan = int_rot.copy()\n",
    "scan = scan[scan.wp == int_rot['wp'].unique()[5]]\n",
    "fig, ax  = plt.subplots(1)\n",
    "ev, deg, Z = plot_heatmap(scan, 'rotation', (3*1240/780,20), (190,350), 780, fig = fig, ax=ax, dp=10, norm = LogNorm(vmax=3e2))\n"
   ]
  },
  {
   "cell_type": "code",
   "execution_count": null,
   "id": "29cdfaef-4ba7-4b21-92c4-10e3ab2dda69",
   "metadata": {},
   "outputs": [],
   "source": [
    "fig, ax = plt.subplots(1, figsize=(20,10), subplot_kw={'projection': 'polar'})\n",
    "\n",
    "\n",
    "cmap = plt.get_cmap('BuPu')\n",
    "r, theta = np.meshgrid(np.arange(len(ev)), np.radians(deg))\n",
    "im = ax.contourf(theta,r, np.log10(Z), levels=50, cmap='ocean_r',vmin =2,vmax=3)\n",
    "\n",
    "\n"
   ]
  },
  {
   "cell_type": "code",
   "execution_count": null,
   "id": "c87160d9-32b3-4e40-a9a4-95ae3e3f1e1a",
   "metadata": {},
   "outputs": [],
   "source": [
    "vlim = (190,350)\n",
    "vmax_list= [250,500,800,900,1000,1200,1600,2000,2200,2400, 2100]\n",
    "hlim = [(0,130), (90,300), (380,480), (500,670), (720,960), (920,1100), (1120,1200)]\n",
    "h_color = ['red', 'orange' , 'yellow', 'green', 'blue', 'indigo', 'violet']\n",
    "for i in range(len(int_rot.wp.unique()))[5:10:2]:\n",
    "    iris = int_rot.wp.unique()[i]\n",
    "    vmax = vmax_list[i]\n",
    "    fig, ax = plt.subplots(1, figsize=(15,8))\n",
    "    stage='rotation'\n",
    "    countbig = 0\n",
    "    scan = int_rot.copy()\n",
    "    scan = int_rot.copy()[scan.wp == iris]\n",
    "    N = len(scan[stage].unique())\n",
    "    shape = scan.data.values[0].shape\n",
    "    print(shape)\n",
    "    Z = np.zeros((N, vlim[1]-vlim[0], shape[1]))\n",
    "    Y = np.zeros(N)\n",
    "    count = 0\n",
    "    for i in np.arange(N)[scan[stage].unique().argsort()]:\n",
    "        Z[count] = scan[scan[stage]==scan[stage].unique()[i]].data.mean()[vlim[0]:vlim[1],:]\n",
    "        Y[count] = scan[stage].unique()[i]\n",
    "        count+=1\n",
    "    y = np.arange(len(Y)*(vlim[1]-vlim[0]))\n",
    "    im = ax.imshow(Z.reshape(Z.shape[0]*(vlim[1]-vlim[0]),Z.shape[2]), aspect = 'auto', norm=LogNorm(vmin=100, vmax=vmax), cmap='ocean_r')\n",
    "    ax.set_title(('WP position', iris))\n",
    "    for h in range(len(hlim)):\n",
    "        ax.axvspan(hlim[h][0],hlim[h][1], alpha=0.2, color=h_color[h])\n",
    "\n",
    "\n",
    "    ax.set_title(('WP position', iris))\n",
    "\n",
    "    plt.colorbar(im, ax=ax)\n",
    "    plt.show()\n",
    "    \n",
    "    \n"
   ]
  },
  {
   "cell_type": "code",
   "execution_count": null,
   "id": "aa2f37f6-be62-423e-9522-6284179e8a44",
   "metadata": {},
   "outputs": [],
   "source": []
  },
  {
   "cell_type": "markdown",
   "id": "1e974528-52ac-4a90-ac2c-ba5121c36236",
   "metadata": {
    "heading_collapsed": "true",
    "tags": []
   },
   "source": [
    "## Short Pulse"
   ]
  },
  {
   "cell_type": "code",
   "execution_count": null,
   "id": "6f7048f4-7386-4f6c-bbb9-fa697b5d8098",
   "metadata": {},
   "outputs": [],
   "source": [
    "lowint = loading(save_folder_art, \"Scan_220621_('MgO200',)um_800longnm_part2_intfocus_short_0to300_70000MCP.npz\")\n",
    "highint = loading(save_folder_art,\"Scan_220621_('MgO200',)um_800longnm_part2_intfocus_short_300toend_70000MCP.npz\")\n",
    "both = pd.concat([lowint, highint], ignore_index=True)"
   ]
  },
  {
   "cell_type": "code",
   "execution_count": null,
   "id": "4e9e784b-3024-4e25-8493-315193f8142b",
   "metadata": {},
   "outputs": [],
   "source": [
    "both.wp.unique()"
   ]
  },
  {
   "cell_type": "code",
   "execution_count": null,
   "id": "771fcaa0-1bfe-4f69-b25a-69b9a0cb5710",
   "metadata": {},
   "outputs": [],
   "source": [
    "normlim = [(100,200), (100,200), (100,300), (100,400), (100, 500), (100,500), (100,500)]\n",
    "count_lim = 0\n",
    "lowlim = 200\n",
    "highlim = 400\n",
    "for iris in both.wp.unique():\n",
    "    fig, ax = plt.subplots(1, figsize=(15,8))\n",
    "    vmin = normlim[count_lim][0]\n",
    "    vmax = normlim[count_lim][1]\n",
    "    count_lim += 1\n",
    "    stage='rotation'\n",
    "    countbig = 0\n",
    "    scan = both.copy()\n",
    "    scan = both.copy()[scan.wp == iris]\n",
    "    N = len(scan[stage].unique())\n",
    "    shape = scan.data.values[0].shape\n",
    "    print(shape)\n",
    "    Z = np.zeros((N, highlim-lowlim, shape[1]))\n",
    "    Y = np.zeros(N)\n",
    "    count = 0\n",
    "    for i in np.arange(N)[scan[stage].unique().argsort()]:\n",
    "        Z[count] = scan[scan[stage]==scan[stage].unique()[i]].data.mean()[lowlim:highlim,:]\n",
    "        Y[count] = scan[stage].unique()[i]\n",
    "        count+=1\n",
    "    print(Z.shape)\n",
    "    y = np.arange(len(Y)*(shape[0]))\n",
    "    im = ax.pcolormesh(Z.reshape(Z.shape[0]*(highlim-lowlim),Z.shape[2]), norm=LogNorm(vmin=100,vmax=500), cmap='ocean_r')\n",
    "    ax.set_title(('WP position', iris))\n",
    "    ax.set_yticks([])\n",
    "    ax.set_ylabel('Rotation over 180')\n",
    "    plt.colorbar(im, ax=ax)\n",
    "    plt.show()"
   ]
  },
  {
   "cell_type": "markdown",
   "id": "0bd413e4-aa66-470e-9f3b-5a44a4d5fce6",
   "metadata": {
    "heading_collapsed": "true",
    "tags": []
   },
   "source": [
    "# Argon Polarisation Test\n"
   ]
  },
  {
   "cell_type": "code",
   "execution_count": null,
   "id": "bcc8ad12-e8ec-4279-9074-a47e471b49a7",
   "metadata": {},
   "outputs": [],
   "source": [
    "ar = loading(save_folder_art, \"Scan_220621_('Ar',)um_800nm_part2_polarisation_30000MCP.npz\")"
   ]
  },
  {
   "cell_type": "code",
   "execution_count": null,
   "id": "7d81565d-c606-48bc-a463-12a9ec0df641",
   "metadata": {},
   "outputs": [],
   "source": [
    "print('wp positions',ar['wp'].unique())\n",
    "print('rotation degrees',ar['wp2'].unique())"
   ]
  },
  {
   "cell_type": "code",
   "execution_count": null,
   "id": "da831648-1594-480b-b822-0e2043bd1212",
   "metadata": {},
   "outputs": [],
   "source": [
    "ar.head()"
   ]
  },
  {
   "cell_type": "code",
   "execution_count": null,
   "id": "4f5a08dd-4e30-4176-8ba4-0d017b9dabf5",
   "metadata": {},
   "outputs": [],
   "source": [
    "vlim = [250,500,800,900,1000,1200,1600,2000,2200,2400, 2100]\n",
    "for i in np.arange(len(ar['wp'].unique()))[-2:]:\n",
    "    vmax = int(vlim[i])\n",
    "    vmax = 10000\n",
    "    scan = ar.copy()\n",
    "    iris = ar['wp'].unique()[i]\n",
    "    print(iris)\n",
    "    fig, ax = plt.subplots(1, figsize=(15,8))\n",
    "    stage='wp2'\n",
    "    countbig = 0\n",
    "    scan = scan[scan.wp == iris]\n",
    "    N = len(scan[stage].unique())\n",
    "    shape = scan.data.values[0].shape\n",
    "    print(shape)\n",
    "    vlow = 275\n",
    "    vhigh = 355\n",
    "    shape = (vhigh-vlow, shape[1])\n",
    "    Z = np.zeros((N, shape[0], shape[1]))\n",
    "    Y = np.zeros(N)\n",
    "    count = 0\n",
    "\n",
    "    for i in np.arange(N)[scan[stage].unique().argsort()]:\n",
    "        Z[count] = scan[scan[stage]==scan[stage].unique()[i]].data.mean()[vlow:vhigh]\n",
    "        Y[count] = scan[stage].unique()[i]\n",
    "        count+=1\n",
    "    print(Z.shape)\n",
    "    y = np.arange(len(Y)*(Z.shape[1]))\n",
    "    im = ax.pcolormesh(Z.reshape(Z.shape[0]*(Z.shape[1]),Z.shape[2]), norm=LogNorm(vmin=100,vmax=vmax), cmap='ocean_r')\n",
    "    #ax.set_title(('WP position', iris))\n",
    "    #ax.set_yticks(y[Z.shape[1]//2::Z.shape[1]])\n",
    "    #ax.set_yticklabels(Y)\n",
    "    #plt.colorbar(im, ax=ax)\n",
    "    plt.show()"
   ]
  },
  {
   "cell_type": "code",
   "execution_count": null,
   "id": "e43c5e88-412c-40d1-addf-ede34ced3eea",
   "metadata": {},
   "outputs": [],
   "source": [
    "print(Y)"
   ]
  },
  {
   "cell_type": "code",
   "execution_count": null,
   "id": "1a89707c-9a7e-4a01-b99e-1af3b847d081",
   "metadata": {},
   "outputs": [],
   "source": [
    "plt.imshow(ar['data'][100], vmin=100, vmax=2000, cmap='ocean_r')\n",
    "plt.ylim(, 355)"
   ]
  },
  {
   "cell_type": "code",
   "execution_count": null,
   "id": "f73ee2ec-7319-4708-a80e-55a6462b9d9a",
   "metadata": {},
   "outputs": [],
   "source": [
    "vlim = [250,500,800,900,1000,1200,1600,2000,2200,2400, 2100]\n",
    "for i in np.arange(len(ar['wp'].unique()))[-2:]:\n",
    "    vmax = int(vlim[i])\n",
    "    vmax = 10000\n",
    "    scan = ar.copy()\n",
    "    iris = ar['wp'].unique()[i]\n",
    "    print(iris)\n",
    "    fig, ax = plt.subplots(1, figsize=(15,8))\n",
    "    stage='wp2'\n",
    "    countbig = 0\n",
    "    scan = scan[scan.wp == iris]\n",
    "    N = len(scan[stage].unique())\n",
    "    shape = scan.data.values[0].shape\n",
    "    print(shape)\n",
    "    vlow = 275\n",
    "    vhigh = 355\n",
    "    shape = (vhigh-vlow, shape[1])\n",
    "    Z = np.zeros((N, shape[1]))\n",
    "    Y = np.zeros(N)\n",
    "    count = 0\n",
    "    for i in np.arange(N)[scan[stage].unique().argsort()]:\n",
    "        Z[count] = scan[scan[stage]==scan[stage].unique()[i]].data.mean()[vlow:vhigh].sum(axis=0)\n",
    "        Y[count] = scan[stage].unique()[i]\n",
    "        count+=1\n",
    "    im = ax.pcolormesh(np.arange(shape[1]), Y, Z, norm=LogNorm(), cmap='ocean_r')\n",
    "    \n",
    "    line_list = [45, 140, 230, 275, 459, 879,1055, 1179, 1275, 1345]\n",
    "    for line in line_list:\n",
    "        ax.axvline(line, color='red')\n",
    "    \n",
    "    plt.show()"
   ]
  },
  {
   "cell_type": "code",
   "execution_count": null,
   "id": "dcbe177b-df20-4be2-94be-656b2ded0e3f",
   "metadata": {},
   "outputs": [],
   "source": [
    "vlim = [250,500,800,900,1000,1200,1600,2000,2200,2400, 2100]\n",
    "Z_array = {}\n",
    "for i in np.arange(len(ar['wp'].unique())):\n",
    "    vmax = int(vlim[i])\n",
    "    vmax = 10000\n",
    "    scan = ar.copy()\n",
    "    iris = ar['wp'].unique()[i]\n",
    "    print(iris)\n",
    "    stage='wp2'\n",
    "    countbig = 0\n",
    "    scan = scan[scan.wp == iris]\n",
    "    N = len(scan[stage].unique())\n",
    "    shape = scan.data.values[0].shape\n",
    "    print(shape)\n",
    "    vlow = 275\n",
    "    vhigh = 355\n",
    "    shape = (vhigh-vlow, shape[1])\n",
    "    Z = np.zeros((N, shape[1]))\n",
    "    Y = np.zeros(N)\n",
    "    count = 0\n",
    "    for i in np.arange(N)[scan[stage].unique().argsort()]:\n",
    "        Z[count] = scan[scan[stage]==scan[stage].unique()[i]].data.mean()[vlow:vhigh].sum(axis=0)\n",
    "        Y[count] = scan[stage].unique()[i]\n",
    "        count+=1\n",
    "    Z_array[iris] = [Y, Z]"
   ]
  },
  {
   "cell_type": "code",
   "execution_count": null,
   "id": "baa7f726-be11-4577-9121-a2ed9f3404e7",
   "metadata": {},
   "outputs": [],
   "source": [
    "Z_array"
   ]
  },
  {
   "cell_type": "code",
   "execution_count": null,
   "id": "89f7a270-346b-4481-b0c4-12090782f043",
   "metadata": {},
   "outputs": [],
   "source": [
    "test[1].shape"
   ]
  },
  {
   "cell_type": "code",
   "execution_count": null,
   "id": "dae66e2a-cc60-4514-86a5-8a8a1c626f59",
   "metadata": {},
   "outputs": [],
   "source": [
    "for wp_iris in list(Z_array.keys()):\n",
    "    fig, ax = plt.subplots(1)\n",
    "    ax.axes.set_prop_cycle(cycler(color = mcp.gen_color(cmap=\"plasma\",n=len(line_list)+1)))\n",
    "    test = Z_array[wp_iris]\n",
    "    for line in line_list:\n",
    "        plt.plot(test[0], savgol_filter(test[1][:,line]/max(test[1][:,line]), 11, 3), label = 'pix number {}'.format(line))\n",
    "\n",
    "    ax.set_title('Waveplate 1 : {}'.format(wp_iris))\n",
    "    plt.xlabel('Polariser Angle')\n",
    "    plt.legend(loc='center left', bbox_to_anchor=(1, 0.5))"
   ]
  },
  {
   "cell_type": "code",
   "execution_count": null,
   "id": "1e3d7f3d-fcfd-4779-ac33-d131b3ae7f5a",
   "metadata": {},
   "outputs": [],
   "source": [
    "Z_array[list(Z_array.keys())[0]]"
   ]
  },
  {
   "cell_type": "code",
   "execution_count": null,
   "id": "316ab5a3-839e-4421-bed8-90b21ba38865",
   "metadata": {},
   "outputs": [],
   "source": [
    "wp_iris = list(Z_array.keys())[-1]\n",
    "fig, ax = plt.subplots(1)\n",
    "ax.axes.set_prop_cycle(cycler(color = mcp.gen_color(cmap=\"plasma\",n=len(line_list)+1)))\n",
    "test = Z_array[wp_iris]\n",
    "for line in line_list:\n",
    "    peaks, _ = find_peaks(test[1][:,line]/max(test[1][:,line]), )\n",
    "    plt.plot(test[0], savgol_filter(test[1][:,line]/max(test[1][:,line]), 11, 3), label = 'pix number {}'.format(line))\n",
    "\n",
    "ax.set_title('Waveplate 1 : {}'.format(wp_iris))\n",
    "plt.xlabel('Polariser Angle')\n",
    "plt.legend(loc='center left', bbox_to_anchor=(1, 0.5))"
   ]
  },
  {
   "cell_type": "markdown",
   "id": "e3e079ef-1266-4bf4-8d04-e88bc9d07781",
   "metadata": {
    "tags": []
   },
   "source": [
    "# Polarisation Scan "
   ]
  },
  {
   "cell_type": "code",
   "execution_count": null,
   "id": "41dbde18-ea03-481e-8391-7fde9ce3c518",
   "metadata": {},
   "outputs": [],
   "source": [
    "pol = loading(save_folder_art, \"Scan_220621_('MgO',)um_800nm_part2_polar_rotation_comparison_course_30000MCP.npz\")"
   ]
  },
  {
   "cell_type": "code",
   "execution_count": null,
   "id": "438b77ed-f41e-4290-bacc-b1d78759c72d",
   "metadata": {},
   "outputs": [],
   "source": [
    "plt.imshow(pol['data'][301], cmap='ocean_r', norm = LogNorm(vmax=300))\n",
    "plt.title('Polarisation {}, Rotation {}'.format(pol['wp2'][301],pol['rotation'][301]))\n",
    "plt.axhline(200)\n",
    "plt.axhline(400)\n",
    "plt.ylim()"
   ]
  },
  {
   "cell_type": "code",
   "execution_count": null,
   "id": "3b13df10-faab-44cd-8e6e-215c33e3c38e",
   "metadata": {},
   "outputs": [],
   "source": [
    "plt.imshow(pol['data'][501], cmap='ocean_r', norm = LogNorm(vmax=300))\n",
    "plt.title('Polarisation {}, Rotation {}'.format(pol['wp2'][501],pol['rotation'][501]))\n",
    "plt.axhline(100)\n",
    "plt.axhline(300)\n",
    "plt.ylim()"
   ]
  },
  {
   "cell_type": "code",
   "execution_count": null,
   "id": "d38ef130-1c5c-4f69-9549-7008143eae24",
   "metadata": {},
   "outputs": [],
   "source": [
    "pol['rotation'].unique()\n",
    "check['data'].values[0]"
   ]
  },
  {
   "cell_type": "code",
   "execution_count": null,
   "id": "8f70d1db-4a67-4907-b8fd-18debe0b3c67",
   "metadata": {},
   "outputs": [],
   "source": [
    "check"
   ]
  },
  {
   "cell_type": "code",
   "execution_count": null,
   "id": "256cde14-958e-4c5d-9263-d10144cab4cf",
   "metadata": {},
   "outputs": [],
   "source": [
    "check = pol[pol['rotation']==90]\n",
    "idx=0\n",
    "plt.imshow(check['data'].values[idx], cmap='ocean_r', norm = LogNorm(vmax=300))\n",
    "plt.title('Polarisation {}, Rotation {}'.format(check['wp2'].values[idx],check['rotation'].values[idx]))\n",
    "plt.axhline(100)\n",
    "plt.axhline(480)\n",
    "plt.ylim()"
   ]
  },
  {
   "cell_type": "code",
   "execution_count": null,
   "id": "39963c98-3a2f-4119-8e74-31423b3cb82b",
   "metadata": {},
   "outputs": [],
   "source": [
    "for p in pol['wp2'].unique():\n",
    "    forscan = pol[pol['wp2']==p]\n",
    "    forscan = forscan[forscan['wp']==60]\n",
    "    fig, ax = plt.subplots(2,3, figsize = (10,4))\n",
    "    fig.suptitle(\"Polarisation {}\".format(p), fontsize=16)\n",
    "    ax = ax.flatten()\n",
    "    count = 0\n",
    "    for rot in [30,60,90,120,150,180]:\n",
    "        ax[count].imshow(forscan[forscan['rotation']==rot]['data'].values[0],cmap='ocean_r', norm = LogNorm(vmax=300))\n",
    "        peaks, _ = find_peaks(forscan[forscan['rotation']==rot]['data'].values[0].mean(axis=0), width = 20)\n",
    "        ax[count].axhline(np.argmax(forscan[forscan['rotation']==rot]['data'].values[0][:,peaks].mean(axis=1)), color='red')\n",
    "        ax[count].set_xlabel('Rotation {}'.format(rot, fontsize=14))\n",
    "        count +=1\n",
    "    \n",
    "    plt.tight_layout()"
   ]
  },
  {
   "cell_type": "code",
   "execution_count": null,
   "id": "a628b983-d94e-43ad-94ce-f275886ed5ff",
   "metadata": {},
   "outputs": [],
   "source": [
    "plt.plot(savgol_filter(forscan[forscan['rotation']==90]['data'].values[0].mean(axis=0), 11,3))\n",
    "peaks, _ = find_peaks(savgol_filter(forscan[forscan['rotation']==90]['data'].values[0].mean(axis=0),11,3), width = 20)\n",
    "plt.plot(peaks, forscan[forscan['rotation']==90]['data'].values[0].mean(axis=0)[peaks], 'rx')\n",
    "plt.show()\n",
    "\n",
    "plt.imshow(forscan[forscan['rotation']==90]['data'].values[0],cmap='ocean_r', norm = LogNorm(vmax=300))\n",
    "plt.axhline(np.argmax(forscan[forscan['rotation']==90]['data'].values[0][:,peaks].mean(axis=1)), color='red')\n",
    "\n"
   ]
  },
  {
   "cell_type": "code",
   "execution_count": null,
   "id": "e1248b08-7483-4547-a5d2-fc569c8e9531",
   "metadata": {},
   "outputs": [],
   "source": [
    "forscan = pol[pol['wp2']==p]\n",
    "forscan = forscan[forscan['wp']==60]\n",
    "fig, ax = plt.subplots(2,3, figsize = (10,4))\n",
    "fig.suptitle(\"Polarisation {}\".format(p), fontsize=16)\n",
    "ax = ax.flatten()\n",
    "count = 0\n",
    "for rot in [30,60,90,120,150,180]:\n",
    "    ax[count].plot(forscan[forscan['rotation']==rot]['data'].values[0].sum(axis=0)- forscan[forscan['rotation']==rot]['data'].values[0].sum(axis=0)[1300:1500].min())\n",
    "    peaks, _ = find_peaks(forscan[forscan['rotation']==rot]['data'].values[0].sum(axis=0), width = 20)\n",
    "    #ax[count].plot(peaks,forscan[forscan['rotation']==rot]['data'].values[0].sum(axis=0)[peaks],'rx')\n",
    "    ax[count].set_xlabel('Rotation {}'.format(rot, fontsize=14))\n",
    "    count +=1\n"
   ]
  },
  {
   "cell_type": "code",
   "execution_count": null,
   "id": "f15bf972-0d11-42d7-840a-e260b41b4931",
   "metadata": {},
   "outputs": [],
   "source": [
    "forscan = pol[pol['wp2']==p]\n",
    "forscan = forscan[forscan['wp']==60]\n",
    "fig, ax = plt.subplots(1)\n",
    "ax.axes.set_prop_cycle(cycler(color = mcp.gen_color(cmap=\"plasma\",n=len(forscan['rotation'].unique()[::3])+1)))\n",
    "for rot in forscan['rotation'].unique()[::3]:\n",
    "    plt.plot(forscan[forscan['rotation']==rot]['data'].values[0].sum(axis=0), label = rot)\n",
    "    peaks, _ = find_peaks(forscan[forscan['rotation']==rot]['data'].values[0].sum(axis=0), width = 20)\n",
    "    plt.plot(peaks,forscan[forscan['rotation']==rot]['data'].values[0].sum(axis=0)[peaks],'rx')\n",
    "\n",
    "plt.legend(loc='center left', bbox_to_anchor=(1, 0.5))"
   ]
  },
  {
   "cell_type": "code",
   "execution_count": null,
   "id": "3e5add3c-9726-423b-8a3a-a336370f1b50",
   "metadata": {},
   "outputs": [],
   "source": [
    "p"
   ]
  },
  {
   "cell_type": "code",
   "execution_count": null,
   "id": "d418dc69-53ce-4869-ad52-6fe65207a15c",
   "metadata": {},
   "outputs": [],
   "source": [
    "forscan = pol[pol['wp2']==p]\n",
    "forscan = forscan[forscan['wp']==60]\n",
    "fig, ax = plt.subplots(1, figsize = (10,4))\n",
    "fig.suptitle(\"Polarisation {}\".format(p), fontsize=16)\n",
    "Z = np.zeros((len(forscan['rotation'].unique()),forscan['data'].values[0].shape[1]))\n",
    "count = 0\n",
    "peak_list = []\n",
    "rot_ax = np.zeros(len(forscan['rotation'].unique()))\n",
    "for rot in forscan['rotation'].unique():\n",
    "    Z[count] = forscan[forscan['rotation']==rot]['data'].values[0].sum(axis=0) - forscan[forscan['rotation']==rot]['data'].values[0].sum(axis=0)[1300:1500].min()\n",
    "    rot_ax[count]=rot\n",
    "    peaks, _ = find_peaks(forscan[forscan['rotation']==rot]['data'].values[0].sum(axis=0), width = 20)\n",
    "    peak_list.append(peaks)\n",
    "    count +=1\n",
    "ax.contourf(np.arange(Z.shape[1]), rot_ax, Z, levels= 100)"
   ]
  },
  {
   "cell_type": "code",
   "execution_count": null,
   "id": "c07f227f-d494-4dcb-b3d6-bda27656294e",
   "metadata": {},
   "outputs": [],
   "source": [
    "\n",
    "for p in pol['wp2'].unique():\n",
    "    forscan = pol[pol['wp2']==p]\n",
    "    forscan = forscan[forscan['wp']==50]\n",
    "    fig, ax = plt.subplots(1, figsize = (10,4))\n",
    "    fig.suptitle(\"Polarisation {}\".format(p), fontsize=16)\n",
    "    Z = np.zeros((len(forscan['rotation'].unique()),forscan['data'].values[0].shape[1]))\n",
    "    count = 0\n",
    "    peak_list = []\n",
    "    rot_ax = np.zeros(len(forscan['rotation'].unique()))\n",
    "    for rot in forscan['rotation'].unique():\n",
    "        Z[count] = forscan[forscan['rotation']==rot]['data'].values[0].sum(axis=0) - forscan[forscan['rotation']==rot]['data'].values[0].sum(axis=0)[1300:1500].min()\n",
    "        rot_ax[count]=rot\n",
    "        peaks, _ = find_peaks(forscan[forscan['rotation']==rot]['data'].values[0].sum(axis=0), width = 20)\n",
    "        peak_list.append(peaks)\n",
    "        count +=1\n",
    "    im = ax.contourf(np.arange(Z.shape[1]), rot_ax, Z, cmap='ocean_r', vmin = 100, vmax=50000, levels=100)\n",
    "    plt.colorbar(im)\n",
    "    plt.ylabel('Rotation')\n",
    "    plt.tight_layout()"
   ]
  },
  {
   "cell_type": "code",
   "execution_count": null,
   "id": "a1d2f636-0b84-46a9-9e36-75bf3463338d",
   "metadata": {},
   "outputs": [],
   "source": [
    "p=110\n",
    "forscan = pol[pol['wp2']==p]\n",
    "forscan = forscan[forscan['wp']==60]\n",
    "fig, ax = plt.subplots(1, figsize = (10,4))\n",
    "fig.suptitle(\"Polarisation {}\".format(p), fontsize=16)\n",
    "Z = np.zeros((len(forscan['rotation'].unique()),forscan['data'].values[0].shape[1]))\n",
    "count = 0\n",
    "peak_list = []\n",
    "rot_ax = np.zeros(len(forscan['rotation'].unique()))\n",
    "for rot in forscan['rotation'].unique():\n",
    "    Z[count] = forscan[forscan['rotation']==rot]['data'].values[0].sum(axis=0) - forscan[forscan['rotation']==rot]['data'].values[0].sum(axis=0)[1300:1500].min()\n",
    "    rot_ax[count]=rot\n",
    "    peaks, _ = find_peaks(forscan[forscan['rotation']==rot]['data'].values[0].sum(axis=0), width = 20)\n",
    "    peak_list.append(peaks)\n",
    "    count +=1\n",
    "im = ax.contourf(np.arange(Z.shape[1]), rot_ax, Z, cmap='ocean_r', vmin = 100, vmax=50000, levels=100)\n",
    "for loc in [220, 385,752,1035]:\n",
    "    ax.axvspan(loc-20, loc+10, color='red', alpha=0.2)\n",
    "plt.colorbar(im)\n",
    "plt.ylabel('Rotation')\n",
    "plt.tight_layout()"
   ]
  },
  {
   "cell_type": "code",
   "execution_count": null,
   "id": "eab45549-a589-4bda-afb1-ba47934a9158",
   "metadata": {},
   "outputs": [],
   "source": [
    "peak_loc = [220, 385,752,1035]\n",
    "loc_low = -20\n",
    "loc_high = 10"
   ]
  },
  {
   "cell_type": "code",
   "execution_count": null,
   "id": "9507658e-d3dc-46ef-ae9f-45b8bfe9a44d",
   "metadata": {},
   "outputs": [],
   "source": [
    "Z.shape"
   ]
  },
  {
   "cell_type": "code",
   "execution_count": null,
   "id": "7bb9d3ac-d5bc-4441-8475-64ea4306ef3b",
   "metadata": {},
   "outputs": [],
   "source": [
    "p=40\n",
    "forscan = pol[pol['wp2']==p]\n",
    "forscan = forscan[forscan['wp']==60]\n",
    "fig, ax = plt.subplots(1, figsize = (10,10),subplot_kw={'projection': 'polar'})\n",
    "fig.suptitle(\"Polarisation {}\".format(p), fontsize=16)\n",
    "Z = np.zeros((len(forscan['rotation'].unique()),forscan['data'].values[0].shape[1]))\n",
    "count = 0\n",
    "peak_list = []\n",
    "rot_ax = np.zeros(len(forscan['rotation'].unique()))\n",
    "for rot in forscan['rotation'].unique():\n",
    "    Z[count] = forscan[forscan['rotation']==rot]['data'].values[0].sum(axis=0) - forscan[forscan['rotation']==rot]['data'].values[0].sum(axis=0)[1300:1500].min()\n",
    "    rot_ax[count]=rot\n",
    "    peaks, _ = find_peaks(forscan[forscan['rotation']==rot]['data'].values[0].sum(axis=0), width = 20)\n",
    "    peak_list.append(peaks)\n",
    "    count +=1\n",
    "for loc in peak_loc:\n",
    "    plt.plot(np.radians(rot_ax), np.log10(Z[:,loc+loc_low:loc+loc_high].mean(axis=1)/min(Z[:,loc+loc_low:loc+loc_high].mean(axis=1))))\n",
    "\n",
    "plt.tight_layout()"
   ]
  },
  {
   "cell_type": "code",
   "execution_count": null,
   "id": "35f64b39-3b3f-4bac-9d39-315d6a7d210a",
   "metadata": {},
   "outputs": [],
   "source": [
    "for p in pol['wp2'].unique():\n",
    "    forscan = pol[pol['wp2']==p]\n",
    "    forscan = forscan[forscan['wp']==60]\n",
    "    fig, ax = plt.subplots(1, figsize = (5,10),subplot_kw={'projection': 'polar'})\n",
    "    Z = np.zeros((len(forscan['rotation'].unique()),forscan['data'].values[0].shape[1]))\n",
    "    count = 0\n",
    "    peak_list = []\n",
    "    rot_ax = np.zeros(len(forscan['rotation'].unique()))\n",
    "    for rot in forscan['rotation'].unique():\n",
    "        Z[count] = forscan[forscan['rotation']==rot]['data'].values[0].sum(axis=0) - forscan[forscan['rotation']==rot]['data'].values[0].sum(axis=0)[1300:1500].min()\n",
    "        rot_ax[count]=rot\n",
    "        peaks, _ = find_peaks(forscan[forscan['rotation']==rot]['data'].values[0].sum(axis=0), width = 20)\n",
    "        peak_list.append(peaks)\n",
    "        count +=1\n",
    "    for loc in peak_loc:\n",
    "        ax.plot(np.radians(rot_ax), np.log10(Z[:,loc+loc_low:loc+loc_high].mean(axis=1)))\n",
    "    ax.set_thetalim(0,np.radians(180))\n",
    "    ax.set_rlim(2.5)\n",
    "    plt.title('Polarisation {}'.format(p))\n",
    "    plt.legend(['1st', '2nd', '3rd', '4th'])\n",
    "    plt.tight_layout()"
   ]
  },
  {
   "cell_type": "code",
   "execution_count": null,
   "id": "d7887924-5e74-4034-a041-1ebbee7f10d3",
   "metadata": {},
   "outputs": [],
   "source": [
    "har1 = {}\n",
    "har2 = {}\n",
    "har3 = {}\n",
    "har4 = {}\n",
    "for p in pol['wp2'].unique():\n",
    "    forscan = pol[pol['wp2']==p]\n",
    "    forscan = forscan[forscan['wp']==60]\n",
    "    Z = np.zeros((len(forscan['rotation'].unique()),forscan['data'].values[0].shape[1]))\n",
    "    count = 0\n",
    "    peak_list = []\n",
    "    rot_ax = np.zeros(len(forscan['rotation'].unique()))\n",
    "    for rot in forscan['rotation'].unique():\n",
    "        Z[count] = forscan[forscan['rotation']==rot]['data'].values[0].sum(axis=0) - forscan[forscan['rotation']==rot]['data'].values[0].sum(axis=0)[1300:1500].min()\n",
    "        rot_ax[count]=rot\n",
    "        peaks, _ = find_peaks(forscan[forscan['rotation']==rot]['data'].values[0].sum(axis=0), width = 20)\n",
    "        peak_list.append(peaks)\n",
    "        count +=1\n",
    "    \n",
    "    har1[p] = [np.radians(rot_ax), Z[:,peak_loc[0]+loc_low:peak_loc[0]+loc_high].mean(axis=1)]\n",
    "    har2[p] = [np.radians(rot_ax), Z[:,peak_loc[1]+loc_low:peak_loc[1]+loc_high].mean(axis=1)]\n",
    "    har3[p] = [np.radians(rot_ax), Z[:,peak_loc[2]+loc_low:peak_loc[2]+loc_high].mean(axis=1)]\n",
    "    har4[p] = [np.radians(rot_ax), Z[:,peak_loc[3]+loc_low:peak_loc[3]+loc_high].mean(axis=1)]\n",
    "                                                                  "
   ]
  },
  {
   "cell_type": "code",
   "execution_count": null,
   "id": "0d12081c-5add-46f3-a746-258106daf704",
   "metadata": {},
   "outputs": [],
   "source": [
    "fig, ax = plt.subplots(2,2, figsize = (10,10),subplot_kw={'projection': 'polar'})\n",
    "ax = ax.flatten()\n",
    "\n",
    "har_list = [ har3, har4,har1, har2]\n",
    "h_name = ['3rd','4th','1st', '2nd',]\n",
    "for h in range(4):\n",
    "    ax[h].set_title(h_name[h])\n",
    "    ax[h].axes.set_prop_cycle(cycler(color = mcp.gen_color(cmap=\"plasma\",n=19)[::2]))\n",
    "    dic = har_list[h]\n",
    "    for polar in list(dic.keys()):\n",
    "        ax[h].plot(dic[polar][0][1:-1], savgol_filter(dic[polar][1][1:-1]/max(dic[polar][1][1:-1]),9,3), label = polar)\n",
    "    ax[h].set_thetalim(np.radians(6), np.radians(172))\n",
    "    ax[h].set_xticks(np.arange(np.radians(6), np.radians(172),np.radians(6)),endpoint=False)\n",
    "    ax[h].set_xticklabels([])\n",
    "    ax[h].set_rlim(min(savgol_filter(dic[polar][1][1:-1]/max(dic[polar][1][1:-1]),9,3))-0.1)\n",
    "    ax[h].legend(fontsize=10)\n",
    "\n",
    "plt.tight_layout()"
   ]
  },
  {
   "cell_type": "code",
   "execution_count": null,
   "id": "58e8f983-8a24-484d-91a9-6bf040377f9f",
   "metadata": {},
   "outputs": [],
   "source": [
    "plt.plot(np.linspace(30,110,9), [104,72,54,43,40,48,48,36+45,18+90])\n",
    "plt.xlabel('polarisation')\n",
    "plt.ylabel('Angle of the peak')"
   ]
  },
  {
   "cell_type": "code",
   "execution_count": null,
   "id": "310ed2e5-96ad-403b-b905-b637c4fa4157",
   "metadata": {},
   "outputs": [],
   "source": []
  }
 ],
 "metadata": {
  "kernelspec": {
   "display_name": "Python 3",
   "language": "python",
   "name": "python3"
  },
  "language_info": {
   "codemirror_mode": {
    "name": "ipython",
    "version": 3
   },
   "file_extension": ".py",
   "mimetype": "text/x-python",
   "name": "python",
   "nbconvert_exporter": "python",
   "pygments_lexer": "ipython3",
   "version": "3.8.8"
  }
 },
 "nbformat": 4,
 "nbformat_minor": 5
}
