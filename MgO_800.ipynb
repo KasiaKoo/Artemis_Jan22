{
 "cells": [
  {
   "cell_type": "markdown",
   "metadata": {},
   "source": [
    "# MgO Analysis Manual Scans\n",
    "\n",
    "We start with manual scans from MgO 1800 nm short pulses"
   ]
  },
  {
   "cell_type": "code",
   "execution_count": null,
   "metadata": {},
   "outputs": [],
   "source": [
    "## necessary import statements\n",
    "from HARP.scan_anal import Scan\n",
    "from HARP.iris_functions import Iris\n",
    "from HARP.image_processing import Image\n",
    "import os\n",
    "from scipy.optimize import curve_fit\n",
    "from scipy.signal import find_peaks, savgol_filter, peak_widths\n",
    "import numpy as np \n",
    "import matplotlib.pyplot as plt\n",
    "from functions import Andor_calib\n",
    "from functions import Adams_wedge_thickness, gaus\n",
    "import warnings\n",
    "import pandas as pd\n",
    "warnings.filterwarnings('ignore')"
   ]
  },
  {
   "cell_type": "code",
   "execution_count": null,
   "metadata": {},
   "outputs": [],
   "source": [
    "#Iris calibration from 28th Jan at 1800 nm short pulse\n",
    "\"\"\" 1800 nm scans\"\"\"\n",
    "power = np.array([780 ,745 ,635 ,490 ,300 ,95 ,10 ,10.5 ,14 ,20 ,26 ,33 ,41 ,50 ,59 ,69 ,80 ,10\n",
    ",6 ,3 ,1.2 ,0 ,470])*1e-3\n",
    "iris_pos = np.array([45,30,15\t,0,-15,-30,-40,-39,-38,-37,-36,-35,-34,-33,-32,-31,-30,-40,-41,-42,-43,-44,0])\n",
    "\n",
    "\n",
    "iris_27 = Iris()\n",
    "iris_27.specify_calib(iris_positions=iris_pos, powers=power)\n",
    "iris_27.specify_params(w0_init=100e-6, f=0.75, wl=800e-9, M2=1, reprate=1000,pulse_duration=15e-15)\n"
   ]
  },
  {
   "cell_type": "code",
   "execution_count": null,
   "metadata": {},
   "outputs": [],
   "source": [
    "data_folder = '/Volumes/qolslc/20120009 - Matthews' \n",
    "data_folder = os.path.join(data_folder,'2022-01-27')\n",
    "os.listdir(data_folder)"
   ]
  },
  {
   "cell_type": "markdown",
   "metadata": {},
   "source": [
    "# Trans 30000\n",
    "Manual Scans but this is the data we have from the MgO"
   ]
  },
  {
   "cell_type": "code",
   "execution_count": null,
   "metadata": {},
   "outputs": [],
   "source": [
    "folder = os.path.join(data_folder,'Rotation_Scan_MgO_30000trans_min22deg_coarse')\n"
   ]
  },
  {
   "cell_type": "code",
   "execution_count": null,
   "metadata": {},
   "outputs": [],
   "source": [
    "Rot = Scan()\n",
    "Rot.set_folder(folder)\n",
    "Rot.set_verlim(0, 5000)\n",
    "files = [i for i in os.listdir(folder)]\n",
    "bg = []\n",
    "exclude = bg+[]\n",
    "files = [i for i in files if i not in exclude]\n",
    "print(files)"
   ]
  },
  {
   "cell_type": "code",
   "execution_count": null,
   "metadata": {},
   "outputs": [],
   "source": [
    "files[1].split('d')"
   ]
  },
  {
   "cell_type": "code",
   "execution_count": null,
   "metadata": {},
   "outputs": [],
   "source": [
    "variables = [float(i.split('d')[0]) for i in files]\n",
    "Rot.set_params(wedge=1060, MCPPos=30000,iris=-22)\n",
    "Rot.set_eVlim((8,35))\n",
    "stage = 'rotation'\n",
    "variables.sort()\n",
    "\n",
    "print(variables)"
   ]
  },
  {
   "cell_type": "code",
   "execution_count": null,
   "metadata": {},
   "outputs": [],
   "source": [
    "Rot.populate_scan_manual(files, variables, stage=stage, function = Andor_calib)\n",
    "Rot.add_calibration_stage('intensity', iris_27.get_intensity_TWcm2, 'iris')\n",
    "Rot.substract_bg(byitself=True, bg_lim=[0,0,10,10])\n",
    "Rot.sort_by_stage(stage)"
   ]
  },
  {
   "cell_type": "code",
   "execution_count": null,
   "metadata": {},
   "outputs": [],
   "source": [
    "fig, ax = plt.subplots(2)\n",
    "im, ax[0], ax2 = Rot.plot_average(ax[0])\n",
    "ax[0].set_title('Average Trace')\n",
    "ax[0].xaxis.tick_top()\n",
    "ax[0].set_xlabel('Energy [eV]', va = 'top')\n",
    "ax[0].set_ylabel('Divergence [a.u.]')\n",
    "im, ax[1] = Rot.plot_scan_mean(ax[1], stage)\n",
    "ax[1].set_xlabel('Rotation')\n",
    "ax[1].set_ylabel('Energy eV')\n",
    "plt.show()"
   ]
  },
  {
   "cell_type": "code",
   "execution_count": null,
   "metadata": {},
   "outputs": [],
   "source": [
    "\n",
    "x, y, Z = Rot.return_scan_data('rotation')\n",
    "fig, ax = plt.subplots(subplot_kw={'projection': 'polar'}, figsize=(20,10))\n",
    "r,theta = np.meshgrid(y,np.radians(x))\n",
    "vmin = 10000\n",
    "Z[Z<vmin]=vmin\n",
    "pc = ax.contourf(theta, r, np.log10(Z), levels=50, cmap='nipy_spectral')\n",
    "ax.set_thetalim(np.radians(min(x)), np.radians(max(x)))\n",
    "ax.set_rlim(8,22)\n",
    "cbc = plt.colorbar(pc, ax=ax)\n",
    "\n"
   ]
  },
  {
   "cell_type": "code",
   "execution_count": null,
   "metadata": {},
   "outputs": [],
   "source": []
  },
  {
   "cell_type": "markdown",
   "metadata": {},
   "source": [
    "# Intensity Scans"
   ]
  },
  {
   "cell_type": "markdown",
   "metadata": {},
   "source": [
    "## Making the scan"
   ]
  },
  {
   "cell_type": "code",
   "execution_count": null,
   "metadata": {},
   "outputs": [],
   "source": [
    "folder = os.path.join(data_folder,'Iris_Scan_MgO_800_trans40000')\n",
    "scan = Scan()\n",
    "scan.set_folder(folder)\n",
    "scan.set_verlim(0, 5000)\n",
    "files = [i for i in os.listdir(folder)]\n",
    "bg = []\n",
    "exclude = bg+[]\n",
    "files = [i for i in files if i not in exclude]\n",
    "print(files)\n",
    "\n"
   ]
  },
  {
   "cell_type": "code",
   "execution_count": null,
   "metadata": {},
   "outputs": [],
   "source": [
    "variables = [-1*float(i.split('d')[0].split('n')[1]) for i in files]\n",
    "scan.set_params(wedge=1060, MCPPos=40000,iris=-22)\n",
    "scan.set_eVlim((8,35))\n",
    "stage = 'intensity'\n",
    "variables.sort()\n",
    "\n",
    "print(variables)"
   ]
  },
  {
   "cell_type": "code",
   "execution_count": null,
   "metadata": {},
   "outputs": [],
   "source": [
    "scan.populate_scan_manual(files, variables, stage='iris', function = Andor_calib)\n",
    "scan.add_calibration_stage('intensity', iris_27.get_intensity_TWcm2, 'iris')\n",
    "scan.substract_bg(byitself=True, bg_lim=[0,0,10,10])\n",
    "scan.sort_by_stage(stage)\n"
   ]
  },
  {
   "cell_type": "code",
   "execution_count": null,
   "metadata": {},
   "outputs": [],
   "source": [
    "scan.substract_bg(byitself=True, bg_lim=[0,0,10,10])"
   ]
  },
  {
   "cell_type": "markdown",
   "metadata": {},
   "source": [
    "## Seeing what it looks like"
   ]
  },
  {
   "cell_type": "code",
   "execution_count": null,
   "metadata": {},
   "outputs": [],
   "source": [
    "fig, ax = plt.subplots(2)\n",
    "im, ax[0], ax2 = scan.plot_average(ax[0])\n",
    "ax[0].set_title('Average Trace')\n",
    "ax[0].xaxis.tick_top()\n",
    "ax[0].set_xlabel('Energy [eV]', va = 'top')\n",
    "ax[0].set_ylabel('Divergence [a.u.]')\n",
    "im, ax[1] = scan.plot_scan_mean(ax[1], stage)\n",
    "ax[1].set_xlabel(stage)\n",
    "ax[1].set_ylabel('Energy eV')\n",
    "plt.show()"
   ]
  },
  {
   "cell_type": "code",
   "execution_count": null,
   "metadata": {},
   "outputs": [],
   "source": [
    "df = scan.scan_data[scan.scan_data['iris']<=-25]"
   ]
  },
  {
   "cell_type": "code",
   "execution_count": null,
   "metadata": {},
   "outputs": [],
   "source": [
    "x, y, Z = scan.return_scan_data('intensity',df)"
   ]
  },
  {
   "cell_type": "code",
   "execution_count": null,
   "metadata": {},
   "outputs": [],
   "source": [
    "fig, ax = plt.subplots(figsize = (20,10))\n",
    "vmin=5000\n",
    "Z[Z<vmin]=vmin\n",
    "cma = ax.contourf(y,x,np.log10(Z), levels=50, cmap='nipy_spectral')\n",
    "cba = plt.colorbar(cma, ax=ax)\n"
   ]
  },
  {
   "cell_type": "code",
   "execution_count": null,
   "metadata": {},
   "outputs": [],
   "source": [
    "tr = scan.scan_data[scan.scan_data['iris']==-24]['Data'].values[0]"
   ]
  },
  {
   "cell_type": "code",
   "execution_count": null,
   "metadata": {},
   "outputs": [],
   "source": [
    "tr.data"
   ]
  },
  {
   "cell_type": "code",
   "execution_count": null,
   "metadata": {},
   "outputs": [],
   "source": [
    "plt.imshow(tr.data, cmap='nipy_spectral', vmax=20)\n",
    "plt.colorbar()"
   ]
  },
  {
   "cell_type": "code",
   "execution_count": null,
   "metadata": {},
   "outputs": [],
   "source": []
  }
 ],
 "metadata": {
  "interpreter": {
   "hash": "96267f45aa239f7579941d6828f831f322b79bfb76f99871cc5e25b5a2000bd9"
  },
  "kernelspec": {
   "display_name": "Python 3.8.8 ('base')",
   "language": "python",
   "name": "python3"
  },
  "language_info": {
   "codemirror_mode": {
    "name": "ipython",
    "version": 3
   },
   "file_extension": ".py",
   "mimetype": "text/x-python",
   "name": "python",
   "nbconvert_exporter": "python",
   "pygments_lexer": "ipython3",
   "version": "3.8.8"
  },
  "orig_nbformat": 4
 },
 "nbformat": 4,
 "nbformat_minor": 2
}
