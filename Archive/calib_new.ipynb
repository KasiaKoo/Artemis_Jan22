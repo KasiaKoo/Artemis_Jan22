{
 "cells": [
  {
   "cell_type": "code",
   "execution_count": null,
   "metadata": {},
   "outputs": [],
   "source": [
    "import h5py as h5\n",
    "import matplotlib.pyplot as plt\n",
    "import numpy as np\n",
    "import glob\n",
    "from scipy import interpolate\n",
    "from scipy.optimize import curve_fit\n",
    "from functions import Andor_calib, Adam_calib"
   ]
  },
  {
   "cell_type": "code",
   "execution_count": null,
   "metadata": {},
   "outputs": [],
   "source": [
    "dic = {}\n",
    "fps = glob.glob('Calibration.mat')\n",
    "for idx, fp in enumerate(fps):\n",
    "    with h5.File(fp, 'r') as f:\n",
    "        for i in f.keys():\n",
    "            dic[i] = np.array(f[i])\n",
    "        #stages = np.array(f['Settings']['Axes']['Names'])\n",
    "            #positions = np.array(f['Settings']['Axes']['Positions'])\n",
    "            #data_t = np.array(f['Data'][:,:,:])\n",
    "            #data_t = data_t[:,:,:]\n",
    "            #if idx == 0:\n",
    "                #data= np.zeros((len(fps),*data_t.shape))\n"
   ]
  },
  {
   "cell_type": "code",
   "execution_count": null,
   "metadata": {},
   "outputs": [],
   "source": [
    "for i in dic.keys():\n",
    "    print(i, dic[i].shape)"
   ]
  },
  {
   "cell_type": "code",
   "execution_count": null,
   "metadata": {},
   "outputs": [],
   "source": [
    "cmap = plt.get_cmap('nipy_spectral')\n",
    "cs = cmap(np.linspace(0,1,8))\n",
    "cs = ['red', 'orange', 'yellow', 'green', 'blue', 'indigo', 'violet', 'black']\n",
    "fig, ax = plt.subplots(4, figsize=(10,10))\n",
    "for j in range(8):\n",
    "    ax[0].plot(dic['Enq'][j,:], label=dic['Steps'][:,j], color = cs[j])\n",
    "    ax[1].plot(dic['I'][j,:], label=dic['Steps'][:,j], color = cs[j])\n",
    "    ax[2].plot(dic['lq'][j,:], label=dic['Steps'][:,j], color = cs[j])\n",
    "    ax[3].plot(dic['wq'][j,:], label=dic['Steps'][:,j], color = cs[j])\n",
    "\n",
    "ax[0].set_ylabel('Enq')\n",
    "ax[1].set_ylabel('I')\n",
    "ax[1].legend(loc='center left', bbox_to_anchor=(1, 0.5))\n",
    "ax[2].set_ylabel('lq')\n",
    "ax[3].set_ylabel('wq')\n"
   ]
  },
  {
   "cell_type": "code",
   "execution_count": null,
   "metadata": {},
   "outputs": [],
   "source": [
    "calib = []\n",
    "for steps in range(8):\n",
    "    calib.append(interpolate.interp1d(np.arange(2048),dic['lq'][j,:]))"
   ]
  },
  {
   "cell_type": "code",
   "execution_count": null,
   "metadata": {},
   "outputs": [],
   "source": [
    "calib[0](np.arange(0,2048,100))"
   ]
  },
  {
   "cell_type": "code",
   "execution_count": null,
   "metadata": {},
   "outputs": [],
   "source": [
    "def pol3(x, a, b, c, d):\n",
    "    return a*x**3 + b*x**2 + c*x + d"
   ]
  },
  {
   "cell_type": "code",
   "execution_count": null,
   "metadata": {},
   "outputs": [],
   "source": [
    "pcov, ppat = curve_fit(pol3, np.arange(0,2048,200), calib[0](np.arange(0,2048,200)))"
   ]
  },
  {
   "cell_type": "code",
   "execution_count": null,
   "metadata": {},
   "outputs": [],
   "source": [
    "plt.plot(np.linspace(0,2000), calib[0](np.linspace(0,2000)))\n",
    "plt.plot(np.arange(0,2048,200), pol3(np.arange(0,2048,200), *pcov), 'rx')\n"
   ]
  },
  {
   "cell_type": "code",
   "execution_count": null,
   "metadata": {},
   "outputs": [],
   "source": [
    "calib_coeff = np.ones((8,4))\n",
    "for s in range(8):\n",
    "    pcov, ppat = curve_fit(pol3, np.arange(2048),dic['lq'][s,:])\n",
    "    calib_coeff[s,:] = pcov\n",
    "    plt.plot(np.linspace(0,2000), calib[0](np.linspace(0,2000)), color=cs[s])\n",
    "    plt.plot(np.arange(0,2048,200), pol3(np.arange(0,2048,200), *pcov), marker = 'x', color=cs[s])\n",
    "    plt.plot(np.arange(2048),dic['lq'][s,:], color=cs[s])\n",
    "    "
   ]
  },
  {
   "cell_type": "code",
   "execution_count": null,
   "metadata": {},
   "outputs": [],
   "source": [
    "fig, ax = plt.subplots(4, figsize=(10,10))\n",
    "for coef in range(4):\n",
    "    ax[coef].plot(dic['Steps'].T,calib_coeff[:,coef])"
   ]
  },
  {
   "cell_type": "code",
   "execution_count": null,
   "metadata": {},
   "outputs": [],
   "source": [
    "def line(x, m,c):\n",
    "    return m*x + c"
   ]
  },
  {
   "cell_type": "code",
   "execution_count": null,
   "metadata": {},
   "outputs": [],
   "source": [
    "fig, ax = plt.subplots(4, figsize=(10,10))\n",
    "offset = np.zeros((4,2))\n",
    "for coef in range(4):\n",
    "    ax[coef].plot(dic['Steps'].T,calib_coeff[:,coef])\n",
    "    pcov, ppot = curve_fit(line, np.array(dic['Steps'])[0].T,np.array(calib_coeff[:,coef]))\n",
    "    ax[coef].plot(dic['Steps'].T, line(dic['Steps'].T, *pcov),'x')\n",
    "    offset[coef,:] = pcov\n"
   ]
  },
  {
   "cell_type": "code",
   "execution_count": null,
   "metadata": {},
   "outputs": [],
   "source": [
    "offset"
   ]
  },
  {
   "cell_type": "code",
   "execution_count": null,
   "metadata": {},
   "outputs": [],
   "source": [
    "# def Adam_calib(pix_no, pos):\n",
    "#     a = -9.32768153e-15*pos+2.52898805e-09\n",
    "#     b = 1.01644468e-10*pos +2.18827411e-05\n",
    "#     c = 6.96885173e-07*pos-2.65767535e-01\n",
    "#     d = -2.78778796e-03*pos+5.28655448e+02\n",
    "#     return a*pix_no**3 + b*pix_no**2 + c*pix_no +d\n",
    "    "
   ]
  },
  {
   "cell_type": "code",
   "execution_count": null,
   "metadata": {},
   "outputs": [],
   "source": [
    "\n",
    "for s in range(8):\n",
    "    x = 2048\n",
    "    plt.plot(np.arange(x),dic['lq'][s,:], color=cs[s], alpha=0.2, lw=4, label = np.array(dic['Steps']).T[s][0])\n",
    "    plt.plot(np.arange(x), Adam_calib(x, np.array(dic['Steps']).T[s][0]), ':', color=cs[s])\n",
    "    plt.plot(np.arange(x), Andor_calib(x, np.array(dic['Steps']).T[s][0]), '--', color=cs[s])\n",
    "\n",
    "plt.xlabel('Wavelength')\n",
    "plt.ylabel('Pix Number')\n",
    "plt.legend(loc='center left', bbox_to_anchor=(1, 0.5))\n",
    "plt.title('Given Arrays (shaded), Calculated Function (:), Previous Calib (--)')"
   ]
  },
  {
   "cell_type": "code",
   "execution_count": null,
   "metadata": {},
   "outputs": [],
   "source": [
    "np.array(dic['Steps']).T[s][0]"
   ]
  },
  {
   "cell_type": "markdown",
   "metadata": {},
   "source": []
  }
 ],
 "metadata": {
  "interpreter": {
   "hash": "96267f45aa239f7579941d6828f831f322b79bfb76f99871cc5e25b5a2000bd9"
  },
  "kernelspec": {
   "display_name": "Python 3.8.8 ('base': conda)",
   "language": "python",
   "name": "python3"
  },
  "language_info": {
   "codemirror_mode": {
    "name": "ipython",
    "version": 3
   },
   "file_extension": ".py",
   "mimetype": "text/x-python",
   "name": "python",
   "nbconvert_exporter": "python",
   "pygments_lexer": "ipython3",
   "version": "3.8.8"
  }
 },
 "nbformat": 4,
 "nbformat_minor": 2
}
