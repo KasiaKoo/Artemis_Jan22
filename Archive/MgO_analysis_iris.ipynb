{
 "cells": [
  {
   "cell_type": "markdown",
   "metadata": {},
   "source": [
    "# MgO Analysis Iris\n",
    "\n",
    "We start with manual scans from MgO 1800 nm short pulses"
   ]
  },
  {
   "cell_type": "code",
   "execution_count": null,
   "metadata": {},
   "outputs": [],
   "source": [
    "## necessary import statements\n",
    "from HARP.scan_anal import Scan\n",
    "from HARP.iris_functions import Iris\n",
    "from HARP.image_processing import Image\n",
    "import os\n",
    "from scipy.optimize import curve_fit\n",
    "import numpy as np \n",
    "import matplotlib.pyplot as plt\n",
    "from functions import Andor_calib\n",
    "from functions import Adams_wedge_thickness\n",
    "import warnings\n",
    "warnings.filterwarnings('ignore')"
   ]
  },
  {
   "cell_type": "code",
   "execution_count": null,
   "metadata": {},
   "outputs": [],
   "source": [
    "#Iris calibration from 28th Jan at 1800 nm short pulse\n",
    "\"\"\" 1800 nm scans\"\"\"\n",
    "power_2801_1800short = np.array([184, 180, 180,180,180,180,176, 180,180,165,162,150,130,110,86,58,31,11.5,4])*1e-3\n",
    "iris_pos_2801_1800short = np.linspace(45,-45,19)\n",
    "\n",
    "iris_2801 = Iris()\n",
    "iris_2801.specify_calib(iris_positions=iris_pos_2801_1800short, powers=power_2801_1800short)\n",
    "iris_2801.specify_params(w0_init=100e-6, f=0.75, wl=1800e-9, M2=1, reprate=1000,pulse_duration=15e-15)\n"
   ]
  },
  {
   "cell_type": "code",
   "execution_count": null,
   "metadata": {},
   "outputs": [],
   "source": [
    "data_folder = '../../../Data/' \n",
    "os.listdir(data_folder+'2022-01-28')"
   ]
  },
  {
   "cell_type": "markdown",
   "metadata": {},
   "source": [
    "# Iris Scan Analysis\n",
    "\n",
    "Manual Scans but this is the data we have from the MgO"
   ]
  },
  {
   "cell_type": "markdown",
   "metadata": {},
   "source": [
    "'Iris_scan_SampleX-10_Y-5.25_Z9.0_rot_2_MgO_SWIR_MCP1200V_scanningUp_MCPpos100'"
   ]
  },
  {
   "cell_type": "markdown",
   "metadata": {},
   "source": [
    "## MCP 100 Up "
   ]
  },
  {
   "cell_type": "code",
   "execution_count": null,
   "metadata": {},
   "outputs": [],
   "source": [
    "MCP100_Up_Iris_Folder = os.path.join(data_folder, '2022-01-28/','Iris_scan_SampleX-10_Y-5.25_Z9.0_rot_2_MgO_SWIR_MCP1200V_scanningUp_MCPpos100')\n",
    "MCP70_Up_Iris_Folder = os.path.join(data_folder, '2022-01-28/Iris_scan_SampleX-10_Y-5.25_Z9.0_rot_2_MgO_SWIR_MCP1200V_scanningUp_MCPpos70')\n",
    "MCP70_Down_Iris_Folder =  os.path.join(data_folder, '2022-01-28/Iris_scan_SampleX-10_Y-5.25_Z6.8_rot_2_MgO_SWIRMCP1200V_scanningDown_MCPpos70')\n",
    "Low_Iris = os.path.join(data_folder, '2022-01-28', 'LowInt_SampleX-10_Y-5.25_Z9.0_rot_2_MgO_SWIR')"
   ]
  },
  {
   "cell_type": "code",
   "execution_count": null,
   "metadata": {},
   "outputs": [],
   "source": [
    "MCP100_Iris = Scan()\n",
    "MCP100_Iris.set_folder(MCP100_Up_Iris_Folder)\n",
    "MCP100_Iris.set_verlim(100, 300)\n",
    "files = [i for i in os.listdir(MCP100_Up_Iris_Folder)]\n",
    "bg = ['-45_repeat2.tif','-45_repeat.tif']\n",
    "exclude = bg+['-28.5.tif','-22_repeat.tif','-28.5_repeat.tif', '-28.5_repeat2.tif','-24.5_repeat.tif','-22_mightbe22.5.tif' ]\n",
    "files = [i for i in files if i not in exclude]\n",
    "variables = [float(i[:-4]) for i in files]\n",
    "MCP100_Iris.set_params(rotation=0, MCPPos=100000,wedge=1060)\n",
    "MCP100_Iris.set_eVlim((5,50))\n",
    "stage = 'iris'\n"
   ]
  },
  {
   "cell_type": "code",
   "execution_count": null,
   "metadata": {},
   "outputs": [],
   "source": [
    "MCP100_Iris.populate_scan_manual(files, variables, stage='iris', function = Andor_calib)\n",
    "MCP100_Iris.add_calibration_stage('intensity', iris_2801.get_intensity_TWcm2, 'iris')\n",
    "stage = 'intensity'\n",
    "MCP100_Iris.sort_by_stage(stage)"
   ]
  },
  {
   "cell_type": "code",
   "execution_count": null,
   "metadata": {},
   "outputs": [],
   "source": [
    "fig, ax = plt.subplots(2)\n",
    "im, ax[0], ax2 = MCP100_Iris.plot_average(ax[0])\n",
    "ax[0].set_title('Average Trace')\n",
    "ax[0].xaxis.tick_top()\n",
    "ax[0].set_xlabel('Energy [eV]', va = 'top')\n",
    "ax[0].set_ylabel('Divergence [a.u.]')\n",
    "im, ax[1] = MCP100_Iris.plot_scan_mean(ax[1], 'intensity')\n",
    "ax[1].set_xlabel('Intensity [TW/cm2]')\n",
    "ax[1].set_ylabel('Energy eV')\n",
    "plt.show()"
   ]
  },
  {
   "cell_type": "markdown",
   "metadata": {},
   "source": [
    "So from the average intensity scan we can only see the plasmon. We can see that the plasmon starts at around 12 TW/cm2. So we need to mask it at around 28 iris position. The plasmon analysis should be done at some point too. "
   ]
  },
  {
   "cell_type": "code",
   "execution_count": null,
   "metadata": {},
   "outputs": [],
   "source": [
    "mask = MCP100_Iris.scan_data['iris']<=-26\n",
    "MCP100_Iris.mask_data(mask)\n",
    "fig, ax = plt.subplots(2)\n",
    "im, ax[0], ax2 = MCP100_Iris.plot_average(ax[0])\n",
    "ax[0].set_title('Average Trace')\n",
    "ax[0].xaxis.tick_top()\n",
    "ax[0].set_xlabel('Energy [eV]', va = 'top')\n",
    "ax[0].set_ylabel('Divergence [a.u.]')\n",
    "im, ax[1]= MCP100_Iris.plot_scan_mean(ax[1], 'intensity')\n",
    "bad_trace = ax[1]\n",
    "ax[1].set_xlabel('Intensity [TW/cm2]')\n",
    "ax[1].set_ylabel('Energy eV')\n",
    "plt.show()\n",
    "MCP100_Iris.revert_mask()"
   ]
  },
  {
   "cell_type": "markdown",
   "metadata": {},
   "source": [
    "The scatter seams constant throughout the Intensity scan so we can try to filter it out for out lineoutss - We need to check this is the same for all iris plots and all  samples and days!"
   ]
  },
  {
   "cell_type": "code",
   "execution_count": null,
   "metadata": {},
   "outputs": [],
   "source": [
    "\n",
    "MCP100_Iris.mask_data(mask)\n",
    "fig, ax = plt.subplots(2, sharex = True)\n",
    "ax[0] = MCP100_Iris.plot_lineouts_mean_all(ax[0], stage)\n",
    "MCP100_Iris.revert_mask()\n",
    "\n",
    "MCP100_Iris.define_bump((None,2))\n",
    "MCP100_Iris.mask_data(mask)\n",
    "\n",
    "ax[1] = MCP100_Iris.plot_lineouts_mean_all(ax[1], stage)\n",
    "ax[1].set_xlabel('Energy eV')\n",
    "plt.legend(loc='center left', bbox_to_anchor=(1, 1))\n",
    "plt.show()\n",
    "\n"
   ]
  },
  {
   "cell_type": "code",
   "execution_count": null,
   "metadata": {},
   "outputs": [],
   "source": [
    "\n",
    "fig, ax = plt.subplots(2)\n",
    "harm, ax[0], ax2 = MCP100_Iris.plot_average(ax[0])\n",
    "ax[0].set_title('Average Trace')\n",
    "ax[0].xaxis.tick_top()\n",
    "ax[0].set_xlabel('Energy [eV]', va = 'top')\n",
    "ax[0].set_ylabel('Divergence [a.u.]')\n",
    "im, ax[1] = MCP100_Iris.plot_scan_mean(ax[1], 'intensity')\n",
    "ax[1].set_xlabel('Intensity [TW/cm2]')\n",
    "ax[1].set_ylabel('Energy eV')\n",
    "plt.show()"
   ]
  },
  {
   "cell_type": "code",
   "execution_count": null,
   "metadata": {},
   "outputs": [],
   "source": [
    "MCP100_Iris.revert_mask()\n",
    "\n",
    "fig, ax = plt.subplots(2)\n",
    "harm, ax[0], ax2 = MCP100_Iris.plot_average(ax[0])\n",
    "ax[0].set_title('Average Trace')\n",
    "ax[0].xaxis.tick_top()\n",
    "ax[0].set_xlabel('Energy [eV]', va = 'top')\n",
    "ax[0].set_ylabel('Divergence [a.u.]')\n",
    "im, ax[1] = MCP100_Iris.plot_scan_mean(ax[1], 'intensity')\n",
    "ax[1].set_xlabel('Intensity [TW/cm2]')\n",
    "ax[1].set_ylabel('Energy eV')\n",
    "plt.show()"
   ]
  },
  {
   "cell_type": "code",
   "execution_count": null,
   "metadata": {},
   "outputs": [],
   "source": [
    "mask_low = MCP100_Iris.scan_data['intensity']>7\n",
    "fig, ax = plt.subplots(2, sharex = True)\n",
    "ax[0] = MCP100_Iris.plot_lineouts_mean_all(ax[0], stage)\n",
    "ax[0].set_title('Intensity Scans')\n",
    "ax[1] = MCP100_Iris.plot_lineouts_mean_all_log(ax[1], stage)\n",
    "ax[1].set_xlabel('Energy eV')\n",
    "ax[1].set_ylim(bottom=5)\n",
    "ax[1].set_ylabel('Counts Logarithmic')\n",
    "ax[0].set_ylabel('Counts Absolute')\n",
    "plt.legend(loc='center left', bbox_to_anchor=(1, 1))\n",
    "plt.show()\n",
    "MCP100_Iris.revert_mask()"
   ]
  },
  {
   "cell_type": "markdown",
   "metadata": {},
   "source": [
    "Obviously we would have to work on how to remove it from the traces a bit harder but I think we can for main analysis only look at the lineouts. There it seams to have unique improvement"
   ]
  },
  {
   "cell_type": "markdown",
   "metadata": {},
   "source": [
    "## Repeating for other Iris scans\n",
    "Iris_scan_SampleX-10_Y-5.25_Z9.0_rot_2_MgO_SWIR_MCP1200V_scanningUp_MCPpos70"
   ]
  },
  {
   "cell_type": "code",
   "execution_count": null,
   "metadata": {},
   "outputs": [],
   "source": [
    "MCP70_Iris = Scan()\n",
    "MCP70_Iris.set_folder(MCP70_Up_Iris_Folder)\n",
    "MCP70_Iris.set_verlim(100, 250)\n",
    "files = [i for i in os.listdir(MCP70_Up_Iris_Folder)]\n",
    "bg_files = ['-45_repeat1.tif', '-45_repeat2.tif']\n",
    "exclude = bg_files + ['-22_repeat.tif']\n",
    "files = [i for i in files if i not in exclude]\n",
    "variables = [float(i[:-4]) for i in files]\n",
    "MCP70_Iris.set_params(rotation=0, MCPPos=70000,wedge=1060)\n",
    "MCP70_Iris.set_eVlim((12,25))\n",
    "#stage = 'iris'"
   ]
  },
  {
   "cell_type": "code",
   "execution_count": null,
   "metadata": {},
   "outputs": [],
   "source": [
    "MCP70_Iris.populate_scan_manual(files, variables, stage='iris', function = Andor_calib)\n",
    "MCP70_Iris.add_calibration_stage('intensity', iris_2801.get_intensity_TWcm2, 'iris')\n",
    "stage = 'intensity'\n",
    "MCP70_Iris.sort_by_stage(stage)"
   ]
  },
  {
   "cell_type": "code",
   "execution_count": null,
   "metadata": {},
   "outputs": [],
   "source": [
    "fig, ax = plt.subplots(2)\n",
    "im, ax[0], ax2 = MCP70_Iris.plot_average(ax[0])\n",
    "ax[0].set_title('Average Trace')\n",
    "ax[0].xaxis.tick_top()\n",
    "ax[0].set_xlabel('Energy [eV]', va = 'top')\n",
    "ax[0].set_ylabel('Divergence [a.u.]')\n",
    "im, ax[1] = MCP70_Iris.plot_scan_mean(ax[1], 'intensity')\n",
    "ax[1].set_xlabel('Intensity [TW/cm2]')\n",
    "ax[1].set_ylabel('Energy eV')\n",
    "plt.show()"
   ]
  },
  {
   "cell_type": "markdown",
   "metadata": {},
   "source": [
    "So from the average intensity scan we can only see the plasmon. We can see that the plasmon starts at around 12 TW/cm2. So we need to mask it at around 28 iris position. The plasmon analysis should be done at some point too. "
   ]
  },
  {
   "cell_type": "code",
   "execution_count": null,
   "metadata": {},
   "outputs": [],
   "source": [
    "mask = MCP70_Iris.scan_data['iris']<=-28\n",
    "MCP70_Iris.mask_data(mask)\n",
    "fig, ax = plt.subplots(2)\n",
    "im, ax[0], ax2 = MCP70_Iris.plot_average(ax[0])\n",
    "ax[0].set_title('Average Trace')\n",
    "ax[0].xaxis.tick_top()\n",
    "ax[0].set_xlabel('Energy [eV]', va = 'top')\n",
    "ax[0].set_ylabel('Divergence [a.u.]')\n",
    "im, ax[1]= MCP70_Iris.plot_scan_mean(ax[1], 'intensity')\n",
    "bad_trace = ax[1]\n",
    "ax[1].set_xlabel('Intensity [TW/cm2]')\n",
    "ax[1].set_ylabel('Energy eV')\n",
    "plt.show()\n",
    "MCP70_Iris.revert_mask()"
   ]
  },
  {
   "cell_type": "markdown",
   "metadata": {},
   "source": [
    "The scatter seams constant throughout the Intensity scan so we can try to filter it out for out lineoutss - We need to check this is the same for all iris plots and all  samples and days!"
   ]
  },
  {
   "cell_type": "code",
   "execution_count": null,
   "metadata": {},
   "outputs": [],
   "source": [
    "MCP70_Iris.reset_bump()\n",
    "MCP70_Iris.mask_data(mask)\n",
    "fig, ax = plt.subplots(2, sharex = True)\n",
    "ax[0] = MCP70_Iris.plot_lineouts_mean_all(ax[0], stage)\n",
    "MCP70_Iris.revert_mask()\n",
    "\n",
    "MCP70_Iris.define_bump((1,4))\n",
    "MCP70_Iris.mask_data(mask)\n",
    "\n",
    "ax[1] = MCP70_Iris.plot_lineouts_mean_all(ax[1], stage)\n",
    "ax[1].set_xlabel('Energy eV')\n",
    "plt.legend(loc='center left', bbox_to_anchor=(1, 1))\n",
    "plt.show()\n"
   ]
  },
  {
   "cell_type": "code",
   "execution_count": null,
   "metadata": {},
   "outputs": [],
   "source": [
    "fig, ax = plt.subplots(2)\n",
    "harm, ax[0], ax2 = MCP70_Iris.plot_average(ax[0])\n",
    "ax[0].set_title('Average Trace')\n",
    "ax[0].xaxis.tick_top()\n",
    "ax[0].set_xlabel('Energy [eV]', va = 'top')\n",
    "ax[0].set_ylabel('Divergence [a.u.]')\n",
    "im, ax[1] = MCP70_Iris.plot_scan_mean(ax[1], 'intensity')\n",
    "improved_trace = ax[1]\n",
    "ax[1].set_xlabel('Intensity [TW/cm2]')\n",
    "ax[1].set_ylabel('Energy eV')\n",
    "plt.show()"
   ]
  },
  {
   "cell_type": "code",
   "execution_count": null,
   "metadata": {},
   "outputs": [],
   "source": [
    "\n",
    "MCP70_Iris.revert_mask()\n",
    "fig, ax = plt.subplots(2)\n",
    "harm, ax[0], ax2 = MCP70_Iris.plot_average(ax[0])\n",
    "ax[0].set_title('Average Trace')\n",
    "ax[0].xaxis.tick_top()\n",
    "ax[0].set_xlabel('Energy [eV]', va = 'top')\n",
    "ax[0].set_ylabel('Divergence [a.u.]')\n",
    "im, ax[1] = MCP70_Iris.plot_scan_mean(ax[1], 'intensity')\n",
    "improved_trace = ax[1]\n",
    "ax[1].set_xlabel('Intensity [TW/cm2]')\n",
    "ax[1].set_ylabel('Energy eV')\n",
    "plt.show()"
   ]
  },
  {
   "cell_type": "code",
   "execution_count": null,
   "metadata": {},
   "outputs": [],
   "source": [
    "mask_low = MCP70_Iris.scan_data['intensity']>2\n",
    "\n",
    "MCP70_Iris.mask_data(mask_low)\n",
    "fig, ax = plt.subplots(2, sharex = True)\n",
    "ax[0] = MCP70_Iris.plot_lineouts_mean_all(ax[0], stage)\n",
    "ax[0].set_title('Intensity Scans')\n",
    "ax[1] = MCP70_Iris.plot_lineouts_mean_all_log(ax[1], stage)\n",
    "ax[1].set_xlabel('Energy eV')\n",
    "ax[1].set_ylim(bottom=5)\n",
    "ax[1].set_ylabel('Counts Logarithmic')\n",
    "ax[0].set_ylabel('Counts Absolute')\n",
    "plt.legend(loc='center left', bbox_to_anchor=(1, 1))\n",
    "plt.show()\n",
    "MCP70_Iris.revert_mask()"
   ]
  },
  {
   "cell_type": "markdown",
   "metadata": {},
   "source": [
    "## scanning down"
   ]
  },
  {
   "cell_type": "markdown",
   "metadata": {},
   "source": [
    "2022-01-28/Iris_scan_SampleX-10_Y-5.25_Z6.8_rot_2_MgO_SWIRMCP1200V_scanningDown_MCPpos70"
   ]
  },
  {
   "cell_type": "code",
   "execution_count": null,
   "metadata": {},
   "outputs": [],
   "source": [
    "MCP70_Iris_Down = Scan()\n",
    "MCP70_Iris_Down.set_folder(MCP70_Down_Iris_Folder)\n",
    "MCP70_Iris_Down.set_verlim(100, 250)\n",
    "files = [i for i in os.listdir(MCP70_Down_Iris_Folder)]\n",
    "bg_files = []\n",
    "exclude = bg_files + ['-29_120secexp.tif', '-30_120secexp.tif']\n",
    "files = [i for i in files if i not in exclude]\n",
    "variables = [float(i[:-4]) for i in files]\n",
    "MCP70_Iris_Down.set_params(rotation=0, MCPPos=70000,wedge=1060)\n",
    "MCP70_Iris_Down.set_eVlim((12,25))\n"
   ]
  },
  {
   "cell_type": "code",
   "execution_count": null,
   "metadata": {},
   "outputs": [],
   "source": [
    "MCP70_Iris_Down.populate_scan_manual(files, variables, stage='iris', function = Andor_calib)\n",
    "MCP70_Iris_Down.add_calibration_stage('intensity', iris_2801.get_intensity_TWcm2, 'iris')\n",
    "stage = 'intensity'\n",
    "MCP70_Iris_Down.sort_by_stage(stage)"
   ]
  },
  {
   "cell_type": "code",
   "execution_count": null,
   "metadata": {},
   "outputs": [],
   "source": [
    "fig, ax = plt.subplots(2)\n",
    "im, ax[0], ax2 = MCP70_Iris_Down.plot_average(ax[0])\n",
    "ax[0].set_title('Average Trace')\n",
    "ax[0].xaxis.tick_top()\n",
    "ax[0].set_xlabel('Energy [eV]', va = 'top')\n",
    "ax[0].set_ylabel('Divergence [a.u.]')\n",
    "im, ax[1] = MCP70_Iris_Down.plot_scan_mean(ax[1], 'intensity')\n",
    "ax[1].set_xlabel('Intensity [TW/cm2]')\n",
    "ax[1].set_ylabel('Energy eV')\n",
    "plt.show()"
   ]
  },
  {
   "cell_type": "markdown",
   "metadata": {},
   "source": [
    "So from the average intensity scan we can only see the plasmon. We can see that the plasmon starts at around 12 TW/cm2. So we need to mask it at around 28 iris position. The plasmon analysis should be done at some point too. "
   ]
  },
  {
   "cell_type": "code",
   "execution_count": null,
   "metadata": {},
   "outputs": [],
   "source": [
    "mask = MCP70_Iris_Down.scan_data['iris']<=-28\n",
    "MCP70_Iris_Down.mask_data(mask)\n",
    "fig, ax = plt.subplots(2)\n",
    "im, ax[0], ax2 = MCP70_Iris_Down.plot_average(ax[0])\n",
    "ax[0].set_title('Average Trace')\n",
    "ax[0].xaxis.tick_top()\n",
    "ax[0].set_xlabel('Energy [eV]', va = 'top')\n",
    "ax[0].set_ylabel('Divergence [a.u.]')\n",
    "im, ax[1]= MCP70_Iris_Down.plot_scan_mean(ax[1], 'intensity')\n",
    "bad_trace = ax[1]\n",
    "ax[1].set_xlabel('Intensity [TW/cm2]')\n",
    "ax[1].set_ylabel('Energy eV')\n",
    "plt.show()\n",
    "MCP70_Iris_Down.revert_mask()"
   ]
  },
  {
   "cell_type": "markdown",
   "metadata": {},
   "source": [
    "The scatter seams constant throughout the Intensity scan so we can try to filter it out for out lineoutss - We need to check this is the same for all iris plots and all  samples and days!"
   ]
  },
  {
   "cell_type": "code",
   "execution_count": null,
   "metadata": {},
   "outputs": [],
   "source": [
    "MCP70_Iris_Down.reset_bump()\n",
    "MCP70_Iris_Down.mask_data(mask)\n",
    "fig, ax = plt.subplots(2, sharex = True)\n",
    "ax[0] = MCP70_Iris_Down.plot_lineouts_mean_all(ax[0], stage)\n",
    "MCP70_Iris_Down.revert_mask()\n",
    "\n",
    "MCP70_Iris_Down.define_bump((None,4))\n",
    "MCP70_Iris_Down.mask_data(mask)\n",
    "\n",
    "ax[1] = MCP70_Iris_Down.plot_lineouts_mean_all(ax[1], stage)\n",
    "ax[1].set_xlabel('Energy eV')\n",
    "plt.legend(loc='center left', bbox_to_anchor=(1, 1))\n",
    "plt.show()\n"
   ]
  },
  {
   "cell_type": "code",
   "execution_count": null,
   "metadata": {},
   "outputs": [],
   "source": [
    "fig, ax = plt.subplots(2)\n",
    "harm, ax[0], ax2 = MCP70_Iris_Down.plot_average(ax[0])\n",
    "ax[0].set_title('Average Trace')\n",
    "ax[0].xaxis.tick_top()\n",
    "ax[0].set_xlabel('Energy [eV]', va = 'top')\n",
    "ax[0].set_ylabel('Divergence [a.u.]')\n",
    "im, ax[1] = MCP70_Iris_Down.plot_scan_mean(ax[1], 'intensity')\n",
    "ax[1].set_xlabel('Intensity [TW/cm2]')\n",
    "ax[1].set_ylabel('Energy eV')\n",
    "plt.show()"
   ]
  },
  {
   "cell_type": "code",
   "execution_count": null,
   "metadata": {},
   "outputs": [],
   "source": [
    "\n",
    "MCP70_Iris_Down.revert_mask()\n",
    "fig, ax = plt.subplots(2)\n",
    "harm, ax[0], ax2 = MCP70_Iris_Down.plot_average(ax[0])\n",
    "ax[0].set_title('Average Trace')\n",
    "ax[0].xaxis.tick_top()\n",
    "ax[0].set_xlabel('Energy [eV]', va = 'top')\n",
    "ax[0].set_ylabel('Divergence [a.u.]')\n",
    "im, ax[1] = MCP70_Iris_Down.plot_scan_mean(ax[1], 'intensity')\n",
    "ax[1].set_xlabel('Intensity [TW/cm2]')\n",
    "ax[1].set_ylabel('Energy eV')\n",
    "plt.show()"
   ]
  },
  {
   "cell_type": "code",
   "execution_count": null,
   "metadata": {},
   "outputs": [],
   "source": [
    "mask_low = MCP70_Iris_Down.scan_data['intensity']>0\n",
    "\n",
    "MCP70_Iris_Down.mask_data(mask_low)\n",
    "fig, ax = plt.subplots(2, sharex = True)\n",
    "ax[0] = MCP70_Iris_Down.plot_lineouts_mean_all(ax[0], stage)\n",
    "ax[0].set_title('Intensity Scans')\n",
    "ax[1] = MCP70_Iris_Down.plot_lineouts_mean_all_log(ax[1], stage)\n",
    "ax[1].set_xlabel('Energy eV')\n",
    "ax[1].set_ylim(bottom=1)\n",
    "ax[1].set_ylabel('Counts Logarithmic')\n",
    "ax[0].set_ylabel('Counts Absolute')\n",
    "plt.legend(loc='center left', bbox_to_anchor=(1, 1))\n",
    "plt.show()\n",
    "MCP70_Iris_Down.revert_mask()"
   ]
  },
  {
   "cell_type": "code",
   "execution_count": null,
   "metadata": {},
   "outputs": [],
   "source": [
    "x, y, Z = MCP70_Iris_Down.return_scan_data(stage='intensity')\n"
   ]
  },
  {
   "cell_type": "code",
   "execution_count": null,
   "metadata": {},
   "outputs": [],
   "source": [
    "Z.shape"
   ]
  },
  {
   "cell_type": "code",
   "execution_count": null,
   "metadata": {},
   "outputs": [],
   "source": [
    "y_mask = (y<16)\n",
    "Z_highE = Z[:,y_mask]"
   ]
  },
  {
   "cell_type": "code",
   "execution_count": null,
   "metadata": {},
   "outputs": [],
   "source": [
    "peak = Z_highE.max(axis=1)"
   ]
  },
  {
   "cell_type": "code",
   "execution_count": null,
   "metadata": {},
   "outputs": [],
   "source": [
    "peak.shape"
   ]
  },
  {
   "cell_type": "code",
   "execution_count": null,
   "metadata": {},
   "outputs": [],
   "source": [
    "plt.scatter(x, peak)"
   ]
  },
  {
   "cell_type": "code",
   "execution_count": null,
   "metadata": {},
   "outputs": [],
   "source": []
  }
 ],
 "metadata": {
  "interpreter": {
   "hash": "96267f45aa239f7579941d6828f831f322b79bfb76f99871cc5e25b5a2000bd9"
  },
  "kernelspec": {
   "display_name": "Python 3.8.8 ('base')",
   "language": "python",
   "name": "python3"
  },
  "language_info": {
   "codemirror_mode": {
    "name": "ipython",
    "version": 3
   },
   "file_extension": ".py",
   "mimetype": "text/x-python",
   "name": "python",
   "nbconvert_exporter": "python",
   "pygments_lexer": "ipython3",
   "version": "3.8.8"
  }
 },
 "nbformat": 4,
 "nbformat_minor": 2
}
