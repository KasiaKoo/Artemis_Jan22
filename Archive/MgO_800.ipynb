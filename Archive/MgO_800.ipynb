{
 "cells": [
  {
   "cell_type": "markdown",
   "metadata": {},
   "source": [
    "# MgO Analysis Manual Scans\n",
    "\n",
    "We start with manual scans from MgO 1800 nm short pulses"
   ]
  },
  {
   "cell_type": "code",
   "execution_count": null,
   "metadata": {},
   "outputs": [],
   "source": [
    "## necessary import statements\n",
    "from HARP.scan_anal import Scan\n",
    "from HARP.iris_functions import Iris\n",
    "from HARP.image_processing import Image\n",
    "import os\n",
    "from scipy.optimize import curve_fit\n",
    "from scipy.signal import find_peaks, savgol_filter, peak_widths\n",
    "import numpy as np \n",
    "import matplotlib.pyplot as plt\n",
    "from functions import Andor_calib\n",
    "from functions import Adams_wedge_thickness, gaus\n",
    "import warnings\n",
    "import pandas as pd\n",
    "warnings.filterwarnings('ignore')"
   ]
  },
  {
   "cell_type": "code",
   "execution_count": null,
   "metadata": {},
   "outputs": [],
   "source": [
    "power = np.array([780 ,745 ,635 ,490 ,300 ,95 ,10 ,10.5 ,14 ,20 ,26 ,33 ,41 ,50 ,59 ,69 ,80 ,10\n",
    ",6 ,3 ,1.2 ,0 ,470])*1e-3\n",
    "iris_pos = np.array([45,30,15\t,0,-15,-30,-40,-39,-38,-37,-36,-35,-34,-33,-32,-31,-30,-40,-41,-42,-43,-44,0])\n",
    "\n",
    "\n",
    "iris_27 = Iris()\n",
    "iris_27.specify_calib(iris_positions=iris_pos, powers=power)\n",
    "iris_27.specify_params(w0_init=100e-6, f=0.75, wl=800e-9, M2=1, reprate=1000,pulse_duration=15e-15)\n"
   ]
  },
  {
   "cell_type": "code",
   "execution_count": null,
   "metadata": {},
   "outputs": [],
   "source": [
    "data_folder = '/Volumes/qolslc/20120009 - Matthews' \n",
    "data_folder = os.path.join(data_folder,'2022-01-27')\n",
    "os.listdir(data_folder)"
   ]
  },
  {
   "cell_type": "code",
   "execution_count": null,
   "metadata": {},
   "outputs": [],
   "source": [
    "l = os.listdir(os.path.join(data_folder,'Rotation_Scan_MgO_30000trans_min22deg'))\n",
    "[int(i.split('d')[0]) for i in l]"
   ]
  },
  {
   "cell_type": "markdown",
   "metadata": {},
   "source": [
    "# Trans 30000\n",
    "Manual Scans but this is the data we have from the MgO"
   ]
  },
  {
   "cell_type": "code",
   "execution_count": null,
   "metadata": {},
   "outputs": [],
   "source": [
    "I40= os.path.join(data_folder,'Iris_Scan_MgO_800_trans40000')\n",
    "I70= os.path.join(data_folder,'Iris_Scan_MgO_800_trans70000')\n",
    "I90= os.path.join(data_folder,'Iris_Scan_MgO_800_trans90000')"
   ]
  },
  {
   "cell_type": "code",
   "execution_count": null,
   "metadata": {},
   "outputs": [],
   "source": [
    "bob4 = Scan()\n",
    "bob4.set_folder(I40)\n",
    "bob4.set_verlim(0, 5000)\n",
    "files = [i for i in os.listdir(I90)]\n",
    "bg = []\n",
    "exclude = bg+[]\n",
    "files = [i for i in files if i not in exclude]\n",
    "print(files)"
   ]
  },
  {
   "cell_type": "code",
   "execution_count": null,
   "metadata": {},
   "outputs": [],
   "source": [
    "files[1].split('d')"
   ]
  },
  {
   "cell_type": "code",
   "execution_count": null,
   "metadata": {},
   "outputs": [],
   "source": [
    "variables = [-1*float(i.split('d')[0].split('n')[1]) for i in files]\n",
    "bob4.set_params(wedge=1060, MCPPos=40000,iris=-22)\n",
    "bob4.set_eVlim((4,35))\n",
    "stage = 'intensity'\n",
    "variables.sort()\n",
    "\n",
    "print(variables)"
   ]
  },
  {
   "cell_type": "code",
   "execution_count": null,
   "metadata": {},
   "outputs": [],
   "source": [
    "bob4.populate_scan_manual(files, variables, stage='iris', function = Andor_calib)\n",
    "bob4.add_calibration_stage('intensity', iris_27.get_intensity_TWcm2, 'iris')\n",
    "#bob4.substract_bg(byitself=True, bg_lim=[0,0,10,10])\n",
    "bob4.sort_by_stage('iris')"
   ]
  },
  {
   "cell_type": "code",
   "execution_count": null,
   "metadata": {},
   "outputs": [],
   "source": [
    "bob4.add_calibration_stage('intensity', iris_27.get_intensity_TWcm2, 'iris')"
   ]
  },
  {
   "cell_type": "code",
   "execution_count": null,
   "metadata": {},
   "outputs": [],
   "source": [
    "fig, ax = plt.subplots(1)\n",
    "im, ax, ax2 = bob4.plot_average(ax)\n",
    "ax.set_title('Average Trace')\n",
    "ax.xaxis.tick_top()\n",
    "ax.set_xlabel('Energy [eV]', va = 'top')\n",
    "ax.set_ylabel('Divergence [a.u.]')\n"
   ]
  },
  {
   "cell_type": "code",
   "execution_count": null,
   "metadata": {},
   "outputs": [],
   "source": [
    "bob4.scan_data['Data'].values[-1].data.shape"
   ]
  },
  {
   "cell_type": "code",
   "execution_count": null,
   "metadata": {},
   "outputs": [],
   "source": [
    "#plt.contourf(bob4.scan_data['Data'].values[-1].eV_axis, np.arange(400), bob4.scan_data['Data'].values[-1].data, vmax = 300, levels=50)\n",
    "plt.imshow(np.log(bob4.scan_data['Data'].values[-1].data),vmax=5.5,aspect='auto')\n",
    "\n",
    "plt.ylim(150,300)\n",
    "plt.colorbar()"
   ]
  },
  {
   "cell_type": "code",
   "execution_count": null,
   "metadata": {},
   "outputs": [],
   "source": [
    "x, y, Z = bob4.return_scan_data_slab('iris')\n",
    "fig, ax = plt.subplots(figsize = (20,10))\n",
    "#cma = ax.contourf(y,x,np.log10(Z), levels=50, cmap='ocean_r')\n",
    "cma = ax.imshow(Z, cmap='ocean_r', extent=[max(y), min(y), -1,1], aspect='auto', vmax=400)\n",
    "cba = plt.colorbar(cma, ax=ax)\n",
    "ax.set_xlim(1240/17, 1240/24)\n",
    "ax.set_yticks([])"
   ]
  },
  {
   "cell_type": "code",
   "execution_count": null,
   "metadata": {},
   "outputs": [],
   "source": []
  }
 ],
 "metadata": {
  "interpreter": {
   "hash": "96267f45aa239f7579941d6828f831f322b79bfb76f99871cc5e25b5a2000bd9"
  },
  "kernelspec": {
   "display_name": "Python 3.8.8 ('base')",
   "language": "python",
   "name": "python3"
  },
  "language_info": {
   "codemirror_mode": {
    "name": "ipython",
    "version": 3
   },
   "file_extension": ".py",
   "mimetype": "text/x-python",
   "name": "python",
   "nbconvert_exporter": "python",
   "pygments_lexer": "ipython3",
   "version": "3.8.8"
  }
 },
 "nbformat": 4,
 "nbformat_minor": 2
}
