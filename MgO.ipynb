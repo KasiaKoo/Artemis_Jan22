{
 "cells": [
  {
   "cell_type": "code",
   "execution_count": null,
   "metadata": {},
   "outputs": [],
   "source": [
    "import numpy as np\n",
    "import matplotlib.pyplot as plt\n",
    "from functions import loading, plot_heatmap, plot_linouts, plot_all,add_har_order, cmap_map, Alps1, plot_har_yield\n",
    "import os\n",
    "from scipy import ndimage\n",
    "import pandas as pd\n",
    "from matplotlib import cycler\n",
    "from matplotlib.colors import Normalize, LogNorm, TwoSlopeNorm, PowerNorm, FuncNorm\n",
    "from matplotlib import colorbar\n",
    "from mycolorpy import colorlist as mcp\n",
    "from HARP.units import Unit as u\n",
    "light_cmap = plt.get_cmap('magma')#cmap_map(lambda x: x/2 + 0.5, plt.get_cmap('magma'))\n",
    "from scipy.signal import savgol_filter, butter, find_peaks\n",
    "def cm_to_inch(x):\n",
    "    return x/2.54\n",
    "from itertools import product\n",
    "plt.rcParams.update({'axes.labelsize':18, 'image.cmap': light_cmap, 'font.family':'Arial', \"figure.figsize\":(cm_to_inch(18),cm_to_inch(11.5)), 'font.size':18})\n",
    "\n"
   ]
  },
  {
   "cell_type": "code",
   "execution_count": null,
   "metadata": {},
   "outputs": [],
   "source": [
    "save_folder_art = '/Volumes/KasiaDrive/Processed_Artemis'\n",
    "filesart = [i for i in os.listdir(save_folder_art) if 'MgO' in i]\n",
    "filesart.sort()\n",
    "filesart"
   ]
  },
  {
   "cell_type": "markdown",
   "metadata": {},
   "source": [
    "# 1800 nm analysis\n"
   ]
  },
  {
   "cell_type": "markdown",
   "metadata": {
    "heading_collapsed": "true",
    "tags": []
   },
   "source": [
    "## Chirp"
   ]
  },
  {
   "cell_type": "code",
   "execution_count": null,
   "metadata": {},
   "outputs": [],
   "source": [
    "chirp1800 = loading(save_folder_art, \"Scan_220131_('MgO200',)um_1800_shortnm_rotation0_iris-26.5_120000MCP.npz\")"
   ]
  },
  {
   "cell_type": "code",
   "execution_count": null,
   "metadata": {},
   "outputs": [],
   "source": [
    "filtered = chirp1800.copy()\n",
    "fig, ax  = plt.subplots(3)\n",
    "plot_all(chirp1800, 'wedge', (10,25), (0,-1), 1770, fig = fig, ax=ax[0], dp=10,)\n",
    "add_har_order(chirp1800, 'wedge', (10,25), (0,-1), 1770, fig = fig, ax=ax[0], dp=10, color='k', maxh=45)\n",
    "filtered['data'] = filtered['data'].apply(savgol_filter, args=(99,9))\n",
    "plot_all(filtered, 'wedge', (10,25), (0,-1), 1770, fig = fig, ax=ax[1], dp=10)\n",
    "add_har_order(filtered, 'wedge', (10,25), (0,-1), 1770, fig = fig, ax=ax[1], dp=10, color='k', maxh = 45)\n",
    "filtered2 = chirp1800.copy()\n",
    "filtered2['data'] = filtered2['data'].apply(savgol_filter, args=(11,9))\n",
    "plot_all(filtered, 'wedge', (10,25), (0,-1), 1770, fig = fig, ax=ax[2], dp=10)\n",
    "add_har_order(filtered, 'wedge', (10,25), (0,-1), 1770, fig = fig, ax=ax[2], dp=10, color='k', maxh=45)"
   ]
  },
  {
   "cell_type": "code",
   "execution_count": null,
   "metadata": {},
   "outputs": [],
   "source": [
    "filtered = chirp1800.copy()\n",
    "fig, ax  = plt.subplots(3)\n",
    "plot_linouts(chirp1800, 'wedge', (10,25), (0,-1), 1770, fig = fig, ax=ax[0], dp=10)\n",
    "add_har_order(chirp1800, 'wedge', (10,25), (0,-1), 1770, fig = fig, ax=ax[0], dp=10, color='k', maxh=45)\n",
    "filtered['data'] = filtered['data'].apply(savgol_filter, args=(99,9))\n",
    "plot_linouts(filtered, 'wedge', (10,25), (0,-1), 1770, fig = fig, ax=ax[1], dp=10)\n",
    "add_har_order(filtered, 'wedge', (10,25), (0,-1), 1770, fig = fig, ax=ax[1], dp=10, color='k', maxh = 45)\n",
    "filtered2 = chirp1800.copy()\n",
    "filtered2['data'] = filtered2['data'].apply(savgol_filter, args=(11,9))\n",
    "plot_linouts(filtered, 'wedge', (10,25), (0,-1), 1770, fig = fig, ax=ax[2], dp=10)\n",
    "add_har_order(filtered, 'wedge', (10,25), (0,-1), 1770, fig = fig, ax=ax[2], dp=10, color='k', maxh=45)"
   ]
  },
  {
   "cell_type": "code",
   "execution_count": null,
   "metadata": {},
   "outputs": [],
   "source": [
    "filtered = chirp1800.copy()\n",
    "fig, ax  = plt.subplots(3)\n",
    "norm = Normalize()\n",
    "plot_heatmap(chirp1800, 'wedge', (10,25), (0,-1), 1770, fig = fig, ax=ax[0], dp=10, norm = norm, levels=1000)\n",
    "add_har_order(chirp1800, 'wedge', (10,25), (0,-1), 1770, fig = fig, ax=ax[0], dp=10, color='k', maxh=45)\n",
    "filtered['data'] = filtered['data'].apply(savgol_filter, args=(99,9))\n",
    "plot_heatmap(filtered, 'wedge', (10,25), (0,-1), 1770, fig = fig, ax=ax[1], dp=10, norm = norm)\n",
    "add_har_order(filtered, 'wedge', (10,25), (0,-1), 1770, fig = fig, ax=ax[1], dp=10, color='k', maxh = 45)\n",
    "filtered2 = chirp1800.copy()\n",
    "filtered2['data'] = filtered2['data'].apply(savgol_filter, args=(11,9))\n",
    "plot_heatmap(filtered, 'wedge', (10,25), (0,-1), 1770, fig = fig, ax=ax[2], dp=10, norm = norm)\n",
    "add_har_order(filtered, 'wedge', (10,25), (0,-1), 1770, fig = fig, ax=ax[2], dp=10, color='k', maxh=45)"
   ]
  },
  {
   "cell_type": "code",
   "execution_count": null,
   "metadata": {},
   "outputs": [],
   "source": [
    "fig, ax = plt.subplots(2)\n",
    "filtered = chirp1800.copy()\n",
    "filtered['data'] = filtered['data'].apply(savgol_filter, args=(99,9))\n",
    "wl = 1770\n",
    "plot_linouts(filtered, 'wedge', (10,25), (0,-1), wl, fig = fig, ax=ax[0], dp=10)\n",
    "h = add_har_order(filtered, 'wedge', (10,25), (0,-1), wl, fig = fig, ax=ax[0], dp=5, color='k', maxh = 45)\n",
    "plot_har_yield(filtered, 'wedge', (10,25), (0,-1), wl=wl, h_lims= h[4:8],fig = fig, ax=ax[1], dp=10)\n",
    "h_name = ['H{}'.format(round(np.mean(i)/(1240/wl))) for i in h[4:8]]\n",
    "ax[1].legend(h_name, loc='center left', bbox_to_anchor=(1, 0.5))\n"
   ]
  },
  {
   "cell_type": "code",
   "execution_count": null,
   "metadata": {},
   "outputs": [],
   "source": [
    "fig, ax = plt.subplots(3, figsize=(15,15))\n",
    "filtered = chirp1800.copy()\n",
    "#filtered['data'] = filtered['data'].apply(savgol_filter, args=(11,2))\n",
    "wl = 1780\n",
    "ev, l = plot_linouts(filtered, 'wedge', (12.5,27), (0,-1), wl, fig = fig, ax=ax[0])\n",
    "h = add_har_order(filtered, 'wedge', (12.5,27), (0,-1), wl, fig = fig, ax=ax[0], dp=5, color='k', maxh = 45)\n",
    "for w in range(len(l)):\n",
    "    ax[1].plot(ev, l[w])\n",
    "    peaks, _ = find_peaks(l[w])\n",
    "    true_peaks = []\n",
    "\n",
    "    true_peaks = [i for i in peaks if any(ev[i] >= j[0] and ev[i]<=j[1] for j in h)]\n",
    "    visible_h = [j for j in h if any(ev[i] >= j[0] and ev[i]<=j[1] for i in peaks)]\n",
    "    ax[1].plot(ev[true_peaks], l[w][true_peaks],'x')\n",
    "    plot_har_yield(filtered, 'wedge', (10,25), (0,-1), wl=wl, h_lims= visible_h,fig = fig, ax=ax[2])\n",
    "    h_name = ['H{}'.format(round(np.mean(i)/(1240/wl))) for i in visible_h]\n",
    "    ax[2].legend(h_name, loc='center left', bbox_to_anchor=(1, 0.5))"
   ]
  },
  {
   "cell_type": "markdown",
   "metadata": {
    "heading_collapsed": "true",
    "tags": []
   },
   "source": [
    "## Rot"
   ]
  },
  {
   "cell_type": "code",
   "execution_count": null,
   "metadata": {},
   "outputs": [],
   "source": [
    "rot1800 = loading(save_folder_art, \"Scan_220131_('MgO200',)um_1800_shortnm_wedge1060_iris-26.5_120000MCP.npz\")"
   ]
  },
  {
   "cell_type": "code",
   "execution_count": null,
   "metadata": {},
   "outputs": [],
   "source": [
    "\n",
    "fig, ax  = plt.subplots(1)\n",
    "plot_all(rot1800, 'rotation', (15,21), (0,-1), 1770, fig = fig, ax=ax, dp=10)\n",
    "add_har_order(rot1800, 'rotation', (15,21), (0,-1), 1770, fig = fig, ax=ax, dp=10, color='k', maxh=45)\n"
   ]
  },
  {
   "cell_type": "code",
   "execution_count": null,
   "metadata": {},
   "outputs": [],
   "source": [
    "\n",
    "fig, ax  = plt.subplots(1)\n",
    "plot_linouts(rot1800, 'rotation', (15,21), (0,-1), 1770, fig = fig, ax=ax, dp=10)\n",
    "add_har_order(rot1800, 'rotation', (15,21), (0,-1), 1770, fig = fig, ax=ax, dp=10, color='k', maxh=45)\n"
   ]
  },
  {
   "cell_type": "code",
   "execution_count": null,
   "metadata": {},
   "outputs": [],
   "source": [
    "fig, ax  = plt.subplots(1)\n",
    "ev, deg, Z = plot_heatmap(rot1800, 'rotation', (15,19), (0,-1), 1770, fig = fig, ax=ax, dp=10, norm = LogNorm())\n",
    "h = add_har_order(rot1800, 'rotation', (15,21), (0,-1), 1770, fig = fig, ax=ax, dp=10, color='k', maxh=45)"
   ]
  },
  {
   "cell_type": "code",
   "execution_count": null,
   "metadata": {},
   "outputs": [],
   "source": [
    "scan = rot1800.copy()\n",
    "scan.data = scan.data.apply(lambda x: savgol_filter(x,11,3))"
   ]
  },
  {
   "cell_type": "code",
   "execution_count": null,
   "metadata": {},
   "outputs": [],
   "source": [
    "fig, ax  = plt.subplots(1)\n",
    "plot_all(scan, 'rotation', (16,20.5), (10,13), 1770, fig = fig, ax=ax, dp=10, norm = LogNorm())\n",
    "h = add_har_order(scan, 'rotation', (15,21), (0,-1), 1800, fig = fig, ax=ax, dp=10, color='k', maxh=45)"
   ]
  },
  {
   "cell_type": "code",
   "execution_count": null,
   "metadata": {},
   "outputs": [],
   "source": [
    "fig, ax  = plt.subplots(1)\n",
    "ev, deg, Z = plot_heatmap(scan, 'rotation', (16,20.5), (10,13), 1770, fig = fig, ax=ax, dp=10, norm = LogNorm())"
   ]
  },
  {
   "cell_type": "code",
   "execution_count": null,
   "metadata": {},
   "outputs": [],
   "source": [
    "print(scan.iris.unique(), scan.intensity.unique())"
   ]
  },
  {
   "cell_type": "code",
   "execution_count": null,
   "metadata": {},
   "outputs": [],
   "source": [
    "fig, ax = plt.subplots(1,2, figsize=(15/2.54,15/2.54), gridspec_kw={'width_ratios': [1, 30]})\n",
    "\n",
    "\n",
    "cmap = plt.get_cmap('BuPu')\n",
    "norm = LogNorm(vmin=10**2.5, vmax=10**3.6)\n",
    "\n",
    "cb1 = colorbar.ColorbarBase(ax[0], cmap=cmap,\n",
    "                                norm=norm,\n",
    "                                extend='max')\n",
    "cb1.ax.set_yticklabels([])\n",
    "cb1.set_label('Counts')\n",
    "cb1.ax.yaxis.set_ticks_position('left')\n",
    "cb1.ax.yaxis.set_label_position('left')\n",
    "ax[1].remove()\n",
    "ax = fig.add_subplot(1, 2, 2, projection='polar')\n",
    "\n",
    "r, theta = np.meshgrid(ev, np.radians(deg))\n",
    "im = ax.contourf(theta,r, np.log10(Z), cmap='BuPu', levels=15, vmin=2.5, vmax=3.6)\n",
    "ax.set_thetalim(np.radians(0), np.radians(100))\n",
    "ax.axvspan(h[0][0], h[0][1])\n",
    "ax.set_rticks([16,18,20])\n",
    "ax.set_xlabel('Energy [eV]')\n",
    "\n",
    "plt.tight_layout()\n",
    "plt.savefig('/Volumes/KasiaDrive/Poster/MgO1800nm_rotation_scan.png')"
   ]
  },
  {
   "cell_type": "code",
   "execution_count": null,
   "metadata": {},
   "outputs": [],
   "source": [
    "fig, ax = plt.subplots(1)\n",
    "cmap = plt.get_cmap('BuPu')\n",
    "norm = LogNorm(vmin=10**2.5, vmax=10**3.6)\n",
    "\n",
    "cb1 = colorbar.ColorbarBase(ax, cmap=cmap,\n",
    "                                norm=norm,\n",
    "                                extend='both')\n",
    "cb1.set_label('')\n",
    "\n",
    "plt.tight_layout()"
   ]
  },
  {
   "cell_type": "code",
   "execution_count": null,
   "metadata": {},
   "outputs": [],
   "source": [
    "fig, ax = plt.subplots(2)\n",
    "plot_linouts(rot1800, 'rotation', (15,21), (0,-1), 1770, fig = fig, ax=ax[0], dp=10)\n",
    "h = add_har_order(rot1800, 'rotation', (15,21), (0,-1), 1770, fig = fig, ax=ax[0], dp=5, color='k', maxh=45)\n",
    "plot_har_yield(rot1800, 'rotation', (15,21), (0,-1), wl=wl, h_lims= h,fig = fig, ax=ax[1], dp=5)\n",
    "h_name = ['H{}'.format(round(np.mean(i)/(1240/wl))) for i in h]\n",
    "ax[1].legend(h_name, loc='center left', bbox_to_anchor=(1, 0.5))\n",
    "ax[1].set_xlim(0,90)\n"
   ]
  },
  {
   "cell_type": "markdown",
   "metadata": {},
   "source": [
    "## Iris"
   ]
  },
  {
   "cell_type": "code",
   "execution_count": null,
   "metadata": {},
   "outputs": [],
   "source": [
    "scan70up = loading(save_folder_art, \"Scan_220128_('MgO200',)um_1800_shortnm_scanning_up_70000MCP.npz\")"
   ]
  },
  {
   "cell_type": "code",
   "execution_count": null,
   "metadata": {},
   "outputs": [],
   "source": [
    "plt.rcParams.update({'image.cmap':'ocean'})\n",
    "fig, ax  = plt.subplots(2, sharex=True)\n",
    "plot_all(scan70up , 'iris', (11,21), (50,150), 1770, fig = fig, ax=ax[0], dp=10, norm=LogNorm(vmin=600))\n",
    "ax[0].set_ylim(900)\n",
    "ax[0].set_xlabel('')\n",
    "plt.rcParams.update({'image.cmap':'ocean_r'})\n",
    "plot_all(scan70up , 'iris', (11,21), (50,150), 1770, fig = fig, ax=ax[1], dp=10, norm=LogNorm(vmin=100,vmax=500))\n",
    "ax[1].set_ylim(top=900)\n",
    "plt.subplots_adjust(hspace=0)\n",
    "h = add_har_order(scan70up , 'iris', (11,21), (50,150), 1750, fig = fig, ax=ax[0], dp=10)\n",
    "h = add_har_order(scan70up , 'iris', (11,21), (50,150), 1750, fig = fig, ax=ax[1], dp=10)"
   ]
  },
  {
   "cell_type": "code",
   "execution_count": null,
   "metadata": {},
   "outputs": [],
   "source": [
    "\n",
    "fig, ax  = plt.subplots(1)\n",
    "plot_linouts(scan70up , 'iris', (11,25), (50,150), 1770, fig = fig, ax=ax, dp=10)\n",
    "ax.semilogy()\n",
    "add_har_order(scan70up , 'iris', (11,25), (90,100), 1770, fig = fig, ax=ax, dp=10, color='k', maxh=45)\n"
   ]
  },
  {
   "cell_type": "code",
   "execution_count": null,
   "metadata": {},
   "outputs": [],
   "source": [
    "\n",
    "fig, ax  = plt.subplots(4)\n",
    "plot_heatmap(scan70up , 'iris', (11,21), (50,150), 1770, fig = fig, ax=ax[0], dp=10, norm = LogNorm(vmin=1000))\n",
    "plot_heatmap(scan70up , 'iris', (11,21), (50,150), 1770, fig = fig, ax=ax[1], dp=10, norm = LogNorm(vmax=1e4, vmin=300))\n",
    "plot_heatmap(scan70up , 'iris', (11,21), (90,100), 1770, fig = fig, ax=ax[2], dp=10, norm = LogNorm(vmax=1000, vmin=130))\n",
    "plot_heatmap(scan70up , 'iris', (11,21), (90,100), 1770, fig = fig, ax=ax[3], dp=10, norm =  Normalize(vmin=130, vmax=200))\n",
    "ax[0].set_ylim(bottom=-23, top=-21.5)\n",
    "ax[1].set_ylim(-26.5,-23)\n",
    "ax[2].set_ylim(-28,-26.5)\n",
    "ax[3].set_ylim(-31,top=-28)"
   ]
  },
  {
   "cell_type": "markdown",
   "metadata": {},
   "source": [
    "### Iris 70 down"
   ]
  },
  {
   "cell_type": "code",
   "execution_count": null,
   "metadata": {},
   "outputs": [],
   "source": [
    "scan70down = loading(save_folder_art, \"Scan_220128_('MgO200',)um_1800_shortnm_scanning_down_70000MCP.npz\")"
   ]
  },
  {
   "cell_type": "code",
   "execution_count": null,
   "metadata": {},
   "outputs": [],
   "source": [
    "\n",
    "fig, ax  = plt.subplots(2, sharex=True)\n",
    "plot_all(scan70down , 'iris', (11,21), (50,150), 1770, fig = fig, ax=ax[0], dp=10, norm=LogNorm(vmin=600))\n",
    "ax[0].set_ylim(900)\n",
    "ax[0].set_xlabel('')\n",
    "plot_all(scan70down , 'iris', (11,21), (50,150), 1770, fig = fig, ax=ax[1], dp=10, norm=LogNorm(vmin=100,vmax=600))\n",
    "#add_har_order(scan70up , 'iris', (15,21), (0,-1), 1770, fig = fig, ax=ax[1], dp=10, color='k', maxh=45)\n",
    "ax[1].set_ylim(top = 1000)\n",
    "fig.subplots_adjust(hspace=0.1)"
   ]
  },
  {
   "cell_type": "code",
   "execution_count": null,
   "metadata": {},
   "outputs": [],
   "source": [
    "\n",
    "fig, ax  = plt.subplots(1)\n",
    "plot_linouts(scan70down , 'iris', (11,25), (90,100), 1770, fig = fig, ax=ax, dp=10)\n",
    "ax.semilogy()\n",
    "add_har_order(scan70down , 'iris', (11,25), (90,100), 1770, fig = fig, ax=ax, dp=10, color='k', maxh=45)\n"
   ]
  },
  {
   "cell_type": "code",
   "execution_count": null,
   "metadata": {},
   "outputs": [],
   "source": [
    "\n",
    "fig, ax  = plt.subplots(4)\n",
    "plot_heatmap(scan70down , 'iris', (11,21), (50,150), 1770, fig = fig, ax=ax[0], dp=10, norm = LogNorm(vmin=1000))\n",
    "plot_heatmap(scan70down , 'iris', (11,21), (50,150), 1770, fig = fig, ax=ax[1], dp=10, norm = LogNorm(vmax=1e4, vmin=300))\n",
    "plot_heatmap(scan70down , 'iris', (11,21), (90,100), 1770, fig = fig, ax=ax[2], dp=10, norm = LogNorm(vmax=5000, vmin=130))\n",
    "plot_heatmap(scan70down , 'iris', (11,21), (90,100), 1770, fig = fig, ax=ax[3], dp=10, norm = LogNorm(vmin=130, vmax=500))\n",
    "ax[0].set_ylim(bottom=-24, top=-22.5)\n",
    "ax[1].set_ylim(-26,-24)\n",
    "ax[2].set_ylim(-27.5,-26)\n",
    "ax[3].set_ylim(-31,top=-27.5)"
   ]
  },
  {
   "cell_type": "markdown",
   "metadata": {},
   "source": [
    "## Trans 1000"
   ]
  },
  {
   "cell_type": "code",
   "execution_count": null,
   "metadata": {},
   "outputs": [],
   "source": [
    "scan100up = loading(save_folder_art, \"Scan_220128_('MgO200',)um_1800_shortnm_scanning_up_100000MCP.npz\")"
   ]
  },
  {
   "cell_type": "code",
   "execution_count": null,
   "metadata": {},
   "outputs": [],
   "source": [
    "\n",
    "fig, ax  = plt.subplots(2, sharex=True)\n",
    "plot_all(scan100up , 'iris', (11,25), (50,150), 1770, fig = fig, ax=ax[0], dp=10, norm=LogNorm(vmin=600))\n",
    "ax[0].set_ylim(1300)\n",
    "ax[0].set_xlabel('')\n",
    "plot_all(scan100up , 'iris', (11,25), (50,150), 1770, fig = fig, ax=ax[1], dp=10, norm=LogNorm(vmax=200))\n",
    "#add_har_order(scan70up , 'iris', (15,21), (0,-1), 1770, fig = fig, ax=ax[1], dp=10, color='k', maxh=45)\n",
    "ax[1].set_ylim(top = 1400)\n",
    "fig.subplots_adjust(hspace=0.1)"
   ]
  },
  {
   "cell_type": "code",
   "execution_count": null,
   "metadata": {},
   "outputs": [],
   "source": [
    "\n",
    "fig, ax  = plt.subplots(1)\n",
    "plot_linouts(scan100up , 'iris', (11,25), (50,150), 1770, fig = fig, ax=ax, dp=10)\n",
    "ax.semilogy()\n",
    "add_har_order(scan100up , 'iris', (11,25), (90,100), 1770, fig = fig, ax=ax, dp=10, color='k', maxh=45)\n"
   ]
  },
  {
   "cell_type": "code",
   "execution_count": null,
   "metadata": {},
   "outputs": [],
   "source": [
    "\n",
    "fig, ax  = plt.subplots(4)\n",
    "plot_heatmap(scan100up , 'iris', (11,21), (50,150), 1770, fig = fig, ax=ax[0], dp=10, norm = LogNorm(vmin=1000))\n",
    "plot_heatmap(scan100up , 'iris', (11,21), (50,150), 1770, fig = fig, ax=ax[1], dp=10, norm = LogNorm(vmax=1e4, vmin=300))\n",
    "plot_heatmap(scan100up , 'iris', (11,21), (90,100), 1770, fig = fig, ax=ax[2], dp=10, norm = LogNorm(vmax=1000, vmin=130))\n",
    "plot_heatmap(scan100up , 'iris', (11,21), (90,100), 1770, fig = fig, ax=ax[3], dp=10, norm =  Normalize(vmin=130, vmax=200))\n",
    "ax[0].set_ylim(bottom=-23, top=-21.5)\n",
    "ax[1].set_ylim(-26.5,-23)\n",
    "ax[2].set_ylim(-28,-26.5)\n",
    "ax[3].set_ylim(-31,top=-28)"
   ]
  },
  {
   "cell_type": "markdown",
   "metadata": {},
   "source": [
    "# 800 nm"
   ]
  },
  {
   "cell_type": "code",
   "execution_count": null,
   "metadata": {},
   "outputs": [],
   "source": [
    "iris40 = loading(save_folder_art,  \"Scan_220127_('MgO200',)um_800nm_none_40000MCP.npz\")\n",
    "iris70 = loading(save_folder_art,  \"Scan_220127_('MgO200',)um_800nm_none_70000MCP.npz\")\n",
    "iris90 = loading(save_folder_art,  \"Scan_220127_('MgO200',)um_800nm_none_90000MCP.npz\")"
   ]
  },
  {
   "cell_type": "code",
   "execution_count": null,
   "metadata": {},
   "outputs": [],
   "source": [
    "fig, ax  = plt.subplots(3, sharex=True)\n",
    "wl = 780\n",
    "plot_all(iris40 , 'iris', (4.5,17), (50,150), wl, fig = fig, ax=ax[0], dp=10, norm=LogNorm(vmax=500))\n",
    "add_har_order(iris40 , 'iris', (4.5,17), (50,150), wl, fig = fig, ax=ax[0], dp=10)\n",
    "plot_all(iris70 , 'iris', (4.5,17), (50,150), wl, fig = fig, ax=ax[1], dp=10, norm=LogNorm(vmax=500))\n",
    "add_har_order(iris70 , 'iris', (4.5,17), (50,150), wl, fig = fig, ax=ax[1], dp=10)\n",
    "plot_all(iris90 , 'iris', (4.5,17), (50,150), wl, fig = fig, ax=ax[2], dp=10, norm=LogNorm(vmax=500))\n",
    "add_har_order(iris90 , 'iris', (4.5,17), (50,150), wl, fig = fig, ax=ax[2], dp=10)"
   ]
  },
  {
   "cell_type": "code",
   "execution_count": null,
   "metadata": {},
   "outputs": [],
   "source": [
    "fig, ax  = plt.subplots(3, sharex=True)\n",
    "wl = 780\n",
    "plot_linouts(iris40 , 'iris', (4.5,17), (50,150), wl, fig = fig, ax=ax[0], dp=10)\n",
    "add_har_order(iris40 , 'iris', (4.5,17), (50,150), wl, fig = fig, ax=ax[0], dp=10, color='k')\n",
    "plot_linouts(iris70 , 'iris', (4.5,17), (50,150), wl, fig = fig, ax=ax[1], dp=10)\n",
    "add_har_order(iris70 , 'iris', (4.5,17), (50,150), wl, fig = fig, ax=ax[1], dp=10, color='k')\n",
    "plot_linouts(iris90 , 'iris', (4.5,17), (50,150), wl, fig = fig, ax=ax[2], dp=10)\n",
    "add_har_order(iris90 , 'iris', (4.5,17), (50,150), wl, fig = fig, ax=ax[2], dp=10, color='k')\n",
    "ax[0].semilogy()\n",
    "ax[1].semilogy()\n",
    "ax[2].semilogy()"
   ]
  },
  {
   "cell_type": "code",
   "execution_count": null,
   "metadata": {},
   "outputs": [],
   "source": [
    "fig, ax = plt.subplots(2)\n",
    "wl = 780\n",
    "plot_linouts(iris90 , 'iris', (5,17), (50,150), wl, fig = fig, ax=ax[0], dp=20)\n",
    "h = add_har_order(iris90 , 'iris',(5,17), (50,150), wl, fig = fig, ax=ax[0], dp=20, color='k', maxh = 15)\n",
    "plot_har_yield(iris90 , 'iris' ,(5,17), (50,150), wl=wl, h_lims= h,fig = fig, ax=ax[1], dp=20)\n",
    "h_name = ['H{}'.format(round(np.mean(i)/(1240/wl))) for i in h]\n",
    "ax[1].legend(h_name, loc='center left', bbox_to_anchor=(1, 0.5))\n",
    "ax[1].semilogy()"
   ]
  },
  {
   "cell_type": "code",
   "execution_count": null,
   "metadata": {},
   "outputs": [],
   "source": [
    "fig, ax = plt.subplots(2)\n",
    "wl = 770\n",
    "plot_linouts(iris70 , 'iris', (5,17), (50,150), wl, fig = fig, ax=ax[0], dp=20)\n",
    "h = add_har_order(iris70 , 'iris',(5,17), (50,150), wl, fig = fig, ax=ax[0], dp=20, color='k', maxh = 15)\n",
    "plot_har_yield(iris70 , 'iris' ,(5,17), (50,150), wl=wl, h_lims= h,fig = fig, ax=ax[1], dp=200)\n",
    "h_name = ['H{}'.format(round(np.mean(i)/(1240/wl))) for i in h]\n",
    "ax[1].legend(h_name, loc='center left', bbox_to_anchor=(1, 0.5))\n",
    "ax[1].semilogy()"
   ]
  },
  {
   "cell_type": "code",
   "execution_count": null,
   "metadata": {},
   "outputs": [],
   "source": [
    "fig, ax = plt.subplots(2)\n",
    "wl = 770\n",
    "plot_linouts(iris40 , 'iris', (3,17), (50,150), wl, fig = fig, ax=ax[0], dp=20)\n",
    "h = add_har_order(iris40 , 'iris',(3,17), (50,150), wl, fig = fig, ax=ax[0], dp=20, color='k', maxh = 15)\n",
    "plot_har_yield(iris40 , 'iris' ,(3,17), (50,150), wl=wl, h_lims= h,fig = fig, ax=ax[1], dp=20)\n",
    "h_name = ['H{}'.format(round(np.mean(i)/(1240/wl))) for i in h]\n",
    "ax[1].legend(h_name, loc='center left', bbox_to_anchor=(1, 0.5))\n",
    "ax[1].semilogy()"
   ]
  },
  {
   "cell_type": "code",
   "execution_count": null,
   "metadata": {},
   "outputs": [],
   "source": []
  },
  {
   "cell_type": "markdown",
   "metadata": {},
   "source": [
    "# 800 nm rotation"
   ]
  },
  {
   "cell_type": "code",
   "execution_count": null,
   "metadata": {},
   "outputs": [],
   "source": [
    "rot800 = loading(save_folder_art,\"Scan_220127_('MgO200',)um_800nm_-22iris_30000MCP.npz\")\n",
    "rot800_course = loading(save_folder_art, \"Scan_220127_('MgO200',)um_800nm_-22iris_corse_30000MCP.npz\")"
   ]
  },
  {
   "cell_type": "code",
   "execution_count": null,
   "metadata": {},
   "outputs": [],
   "source": [
    "fig, ax  = plt.subplots(2, sharex=True)\n",
    "wl = 780\n",
    "plot_all(rot800, 'rotation', (4.5,17), (0,-1), wl, fig = fig, ax=ax[0], dp=10, norm=LogNorm())\n",
    "add_har_order(rot800, 'rotation', (4.5,17), (0,-1), wl, fig = fig, ax=ax[0], dp=10)\n",
    "plot_all(rot800_course, 'rotation', (4.5,17), (0,-1), wl, fig = fig, ax=ax[1], dp=10, norm=LogNorm())\n",
    "add_har_order(rot800_course, 'rotation', (4.5,17), (0,-1), wl, fig = fig, ax=ax[1], dp=10)"
   ]
  },
  {
   "cell_type": "code",
   "execution_count": null,
   "metadata": {},
   "outputs": [],
   "source": [
    "fig, ax  = plt.subplots(1)\n",
    "scan = rot800.copy()\n",
    "scan.data = scan.data.apply(lambda x: savgol_filter(x,11,3))\n",
    "ev, deg, Z = plot_heatmap(scan, 'rotation', (4.5,17), (0,-1), 780, fig = fig, ax=ax, dp=10, norm = LogNorm())"
   ]
  },
  {
   "cell_type": "code",
   "execution_count": null,
   "metadata": {},
   "outputs": [],
   "source": [
    "fig, ax = plt.subplots(1,2, figsize=(15/2.54,15/2.54), gridspec_kw={'width_ratios': [1, 30]})\n",
    "\n",
    "\n",
    "cmap = plt.get_cmap('BuPu')\n",
    "norm = LogNorm(vmin=10**2.5, vmax=10**3.6)\n",
    "\n",
    "cb1 = colorbar.ColorbarBase(ax[0], cmap=cmap,\n",
    "                                norm=norm,\n",
    "                                extend='max')\n",
    "cb1.ax.set_yticklabels([])\n",
    "cb1.set_label('Counts')\n",
    "cb1.ax.yaxis.set_ticks_position('left')\n",
    "cb1.ax.yaxis.set_label_position('left')\n",
    "ax[1].remove()\n",
    "ax = fig.add_subplot(1, 2, 2, projection='polar')\n",
    "\n",
    "r, theta = np.meshgrid(ev, np.radians(deg))\n",
    "im = ax.contourf(theta,r, np.log10(Z), cmap='BuPu', levels=15, vmin=2.7, vmax=4.6)\n",
    "ax.set_thetalim(np.radians(0), np.radians(85))\n",
    "ax.axvspan(h[0][0], h[0][1])\n",
    "ax.set_rticks([5,7,9,11,13])\n",
    "ax.set_rlim(4.5,13)\n",
    "ax.set_xlabel('Energy [eV]')\n",
    "\n",
    "plt.tight_layout()"
   ]
  },
  {
   "cell_type": "code",
   "execution_count": null,
   "metadata": {},
   "outputs": [],
   "source": [
    "os.listdir(save_folder_art)"
   ]
  },
  {
   "cell_type": "code",
   "execution_count": null,
   "metadata": {},
   "outputs": [],
   "source": [
    " high800 = loading(save_folder_art,\"Scan_220127_('MgO200',)um_800nm_none_90000MCP.npz\")"
   ]
  },
  {
   "cell_type": "code",
   "execution_count": null,
   "metadata": {},
   "outputs": [],
   "source": [
    "plt.rcParams.update({'image.cmap':'ocean'})\n",
    "fig, ax  = plt.subplots(2, sharex=True)\n",
    "plot_all(high800 , 'iris', (5,15), (60,110), 780, fig = fig, ax=ax[0], dp=10, norm=LogNorm())\n",
    "ax[0].set_ylim(350)\n",
    "ax[0].set_xlabel('')\n",
    "plt.rcParams.update({'image.cmap':'ocean_r'})\n",
    "plot_all(high800 , 'iris', (5,15), (60,110), 780, fig = fig, ax=ax[1], dp=10, norm=LogNorm(vmax=500))\n",
    "ax[1].set_ylim(top=700)\n",
    "plt.subplots_adjust(hspace=0)\n",
    "h = add_har_order(high800 , 'iris', (5,15), (60,110), 780, fig = fig, ax=ax[0], dp=10)\n",
    "h = add_har_order(high800 , 'iris', (5,15), (60,110), 780, fig = fig, ax=ax[1], dp=10)"
   ]
  },
  {
   "cell_type": "code",
   "execution_count": null,
   "metadata": {},
   "outputs": [],
   "source": []
  }
 ],
 "metadata": {
  "interpreter": {
   "hash": "96267f45aa239f7579941d6828f831f322b79bfb76f99871cc5e25b5a2000bd9"
  },
  "kernelspec": {
   "display_name": "Python 3",
   "language": "python",
   "name": "python3"
  },
  "language_info": {
   "codemirror_mode": {
    "name": "ipython",
    "version": 3
   },
   "file_extension": ".py",
   "mimetype": "text/x-python",
   "name": "python",
   "nbconvert_exporter": "python",
   "pygments_lexer": "ipython3",
   "version": "3.8.8"
  }
 },
 "nbformat": 4,
 "nbformat_minor": 4
}
