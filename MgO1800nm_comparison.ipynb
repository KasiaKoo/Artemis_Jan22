{
 "cells": [
  {
   "cell_type": "code",
   "execution_count": null,
   "metadata": {},
   "outputs": [],
   "source": [
    "import numpy as np\n",
    "import matplotlib.pyplot as plt\n",
    "from functions import loading, Adams_wedge_thickness, wedgeold_thickness\n",
    "import os\n",
    "from scipy import ndimage\n",
    "import pandas as pd\n"
   ]
  },
  {
   "cell_type": "code",
   "execution_count": null,
   "metadata": {},
   "outputs": [],
   "source": [
    "save_folder012 = '/Volumes/KasiaDrive/Processed_012'\n",
    "files012 = os.listdir(save_folder012)\n",
    "save_folder_art = '/Volumes/KasiaDrive/Processed_Artemis'\n",
    "filesart = os.listdir(save_folder_art)"
   ]
  },
  {
   "cell_type": "code",
   "execution_count": null,
   "metadata": {},
   "outputs": [],
   "source": [
    "filesart"
   ]
  },
  {
   "cell_type": "code",
   "execution_count": null,
   "metadata": {},
   "outputs": [],
   "source": [
    "chirp_012 = loading(save_folder012, \"Scan_220214_('MgO400',)um_1800nm_27gain_10000ms_finerepeat_1750_3950V_1cm.npz\")\n",
    "chirp_Artemis = loading(save_folder_art, \"Scan_220131_('MgO200',)um_1800_shortnm_rotation0_iris-26.5_120000MCP.npz\")"
   ]
  },
  {
   "cell_type": "code",
   "execution_count": null,
   "metadata": {},
   "outputs": [],
   "source": [
    "df = pd.DataFrame()\n",
    "with np.load(os.path.join(save_folder012, 'Scan_210218_MgO400um_1800nm_1cm.npz'), allow_pickle=True) as f:\n",
    "    df['wedge'] = f['wedge']\n",
    "    df['data'] = f['data']\n",
    "    df['eV'] = f['eV']\n",
    "chirp_old  = df"
   ]
  },
  {
   "cell_type": "code",
   "execution_count": null,
   "metadata": {},
   "outputs": [],
   "source": [
    "#Checking for chirp changes\n",
    "scan = chirp_old\n",
    "N = len(scan.wedge.unique())\n",
    "fig, ax = plt.subplots(N//2+1,2, figsize=(6, N), sharex=True)\n",
    "ax = ax.flatten()\n",
    "for i in range(N):\n",
    "    ax[i].imshow(scan[scan['wedge']==scan.wedge.unique()[i]].data.sum(), aspect='auto', vmax=0.01)\n",
    "    ax[i].set_ylabel('Wedge %.1f' %scan.wedge.unique()[i])\n",
    "    ax[i].set_yticks([])\n",
    "    #ax[i].set_xticks([])\n",
    "plt.tight_layout()\n",
    "plt.show()"
   ]
  },
  {
   "cell_type": "code",
   "execution_count": null,
   "metadata": {},
   "outputs": [],
   "source": [
    "#Checking for chirp changes\n",
    "scan = chirp_Artemis\n",
    "N = len(scan.wedge.unique())\n",
    "fig, ax = plt.subplots(N//2+1,2, figsize=(6, N), sharex=True)\n",
    "ax[0][0].set_title('Iris %.f Lens %.f'%(scan.iris.unique()[0],scan.Lens.unique()[0]))\n",
    "ax = ax.flatten()\n",
    "for i in range(N):\n",
    "    ax[i].imshow(scan[scan['wedge']==scan.wedge.unique()[i]].data.sum(), aspect='auto')\n",
    "    ax[i].set_ylabel('Wedge %.1f' %scan.wedge.unique()[i])\n",
    "    ax[i].set_yticks([])\n",
    "    #ax[i].set_xticks([])\n",
    "plt.tight_layout()\n",
    "plt.show()"
   ]
  },
  {
   "cell_type": "code",
   "execution_count": null,
   "metadata": {},
   "outputs": [],
   "source": [
    "scan = chirp_012\n",
    "scan = scan[scan['iris']==scan.iris.unique()[-1]]\n",
    "N = len(scan.wedge.unique())\n",
    "fig, ax = plt.subplots(N//2+1,2, figsize=(6, N), sharex=True)\n",
    "ax[0][0].set_title('Iris %.f Lens %.f'%(scan.iris.unique()[0],scan.Lens.unique()[0]))\n",
    "ax = ax.flatten()\n",
    "for i in range(N):\n",
    "    ax[i].imshow(scan[scan['wedge']==scan.wedge.unique()[i]].data.sum(), vmax=4,aspect='auto')\n",
    "    ax[i].set_ylabel('Wedge %.1f' %scan.wedge.unique()[i])\n",
    "    ax[i].set_yticks([])\n",
    "    #ax[i].set_xticks([])\n",
    "plt.tight_layout()\n",
    "plt.show()"
   ]
  },
  {
   "cell_type": "code",
   "execution_count": null,
   "metadata": {},
   "outputs": [],
   "source": [
    "chirp_copy = chirp_012[chirp_012['iris']==chirp_012.iris.unique()[-1]]\n",
    "max(chirp_copy[chirp_copy['wedge']==chirp_copy.wedge.unique()[11]].data.sum().flatten())\n"
   ]
  },
  {
   "cell_type": "code",
   "execution_count": null,
   "metadata": {},
   "outputs": [],
   "source": [
    "chirp_copy = chirp_012[chirp_012['iris']==chirp_012.iris.unique()[-1]].copy()\n",
    "trace_012 = chirp_copy[chirp_copy['wedge']==chirp_copy.wedge.unique()[11]].data.sum()[:,500:3000]\n",
    "plt.imshow(trace_012, vmax=10)\n",
    "plt.figure()\n",
    "plt.hist(trace_012.flatten(), bins=255)\n",
    "plt.ylim(0.1)\n",
    "plt.yscale('log')\n",
    "\n"
   ]
  },
  {
   "cell_type": "code",
   "execution_count": null,
   "metadata": {},
   "outputs": [],
   "source": [
    "gauss_denoised = ndimage.gaussian_filter(trace_012, 6)\n",
    "plt.imshow(gauss_denoised, vmax=6)\n",
    "plt.colorbar()\n",
    "plt.figure()\n",
    "plt.hist(gauss_denoised.flatten(), bins=255)\n",
    "plt.ylim(0.1)\n",
    "plt.yscale('log')"
   ]
  },
  {
   "cell_type": "code",
   "execution_count": null,
   "metadata": {},
   "outputs": [],
   "source": [
    "trace_old = chirp_old[chirp_old['wedge']==chirp_old.wedge.unique()[7]].data.sum()[:,500:3000]\n",
    "plt.imshow(trace_012, vmax=10)\n",
    "plt.figure()\n",
    "plt.hist(trace_012.flatten(), bins=255)\n",
    "plt.ylim(0.1)\n",
    "plt.yscale('log')\n"
   ]
  },
  {
   "cell_type": "code",
   "execution_count": null,
   "metadata": {},
   "outputs": [],
   "source": [
    "wedge012 = chirp_012.wedge.unique()[11]\n",
    "chirp_copy = chirp_012[chirp_012['iris']==chirp_012.iris.unique()[-1]].copy()\n",
    "trace_012 = chirp_copy[chirp_copy['wedge']==wedge012].data.sum()[:,500:3000]\n",
    "trace_012 = ndimage.gaussian_filter(trace_012, 6)\n",
    "norm_012 = max(trace_012.flatten())\n",
    "trace_012/norm_012\n",
    "eV_012 = chirp_copy[chirp_copy['wedge']==wedge012].eV.values[0][500:3000]\n",
    "wedgeold = chirp_old.wedge.unique()[7]\n",
    "trace_old = chirp_old[chirp_old['wedge']==wedgeold].data.sum()\n",
    "trace_old = ndimage.gaussian_filter(trace_old, 6)\n",
    "trace_old/max(trace_old.flatten())\n",
    "eV_old = chirp_old[chirp_old['wedge']==wedgeold].eV.values[0]\n",
    "wedgeart = 2750\n",
    "trace_art = chirp_Artemis[chirp_Artemis['wedge']==wedgeart].data.sum()\n",
    "norm_art = max(trace_art.flatten())\n",
    "trace_art = trace_art/norm_art\n",
    "eV_art = chirp_Artemis[chirp_Artemis['wedge']==wedgeart].eV.values[0]"
   ]
  },
  {
   "cell_type": "code",
   "execution_count": null,
   "metadata": {},
   "outputs": [],
   "source": [
    "fig, ax = plt.subplots(2, sharex=True)\n",
    "ax[0].contourf(eV_012, np.arange(trace_012.shape[0])[300:575], trace_012[300:575,:], levels=25, cmap='magma')\n",
    "ax[0].set_yticks([])\n",
    "ax[1].contourf(eV_art, np.arange(trace_art.shape[0]), trace_art, levels=50, cmap='magma')\n",
    "ax[1].set_yticks([])\n",
    "ax[1].set_xlim(14,22)\n",
    "har_ord = np.array(range(45))[11:34:2]\n",
    "wl = 1750\n",
    "for i in har_ord:\n",
    "    ax[1].axvline((1240/wl)*i, color='white')\n",
    "    ax[0].axvline((1240/wl)*i, color='white')\n",
    "    if (1240/1800)*i >= 14 and (1240/1800)*i <= 22:\n",
    "        ax[0].text((1240/wl)*i,575, 'H{}'.format(i))\n",
    "\n",
    "wl = 1800\n",
    "for i in har_ord:\n",
    "    ax[1].axvline((1240/wl)*i, color='red')\n",
    "    ax[0].axvline((1240/wl)*i, color='red')\n",
    "\n",
    "\n",
    "    "
   ]
  },
  {
   "cell_type": "code",
   "execution_count": null,
   "metadata": {},
   "outputs": [],
   "source": [
    "har_ord"
   ]
  },
  {
   "cell_type": "code",
   "execution_count": null,
   "metadata": {},
   "outputs": [],
   "source": [
    "np.array(range(30))[12:29:2]"
   ]
  },
  {
   "cell_type": "code",
   "execution_count": null,
   "metadata": {},
   "outputs": [],
   "source": [
    "scan = chirp_012\n",
    "scan = scan[scan['iris']==scan.iris.unique()[-1]]\n",
    "N = len(scan.wedge.unique())\n",
    "fig, ax = plt.subplots(1,N-4, sharey=True, figsize=(N,5))\n",
    "for i in range(N)[4:]:\n",
    "    eV_012 = scan[scan['wedge']==scan.wedge.unique()[i]].eV.values[0]\n",
    "    mask_eV = (eV_012>16)*(eV_012<19.5)\n",
    "    trace_012 = scan[scan['wedge']==scan.wedge.unique()[i]].data.sum()\n",
    "    trace_012 = ndimage.gaussian_filter(trace_012, 5)\n",
    "    trace_012/norm_012\n",
    "    ax[i-4].contourf(np.arange(trace_012.shape[0])[300:575], eV_012[mask_eV], trace_012[300:575,mask_eV].T, cmap='magma')\n",
    "    ax[i-4].set_xlabel('%.1f' %wedgeold_thickness(scan.wedge.unique()[i]), size=14)\n",
    "    ax[i-4].set_yticks([])\n",
    "    ax[i-4].set_xticks([])\n",
    "\n",
    "\n",
    "ax[0].set_ylim(16,19.5)\n",
    "ax[0].set_ylabel('Energy [eV]', size=18)\n",
    "ax[0].set_yticks([16,17,18,19])\n",
    "ax[0].tick_params(axis='y', labelsize=14)\n",
    "plt.subplots_adjust(wspace = .001)\n",
    "plt.show()"
   ]
  },
  {
   "cell_type": "code",
   "execution_count": null,
   "metadata": {},
   "outputs": [],
   "source": [
    "scan = chirp_Artemis\n",
    "scan = scan[scan['iris']==scan.iris.unique()[-1]]\n",
    "N = len(scan.wedge.unique())\n",
    "fig, ax = plt.subplots(1,N, sharey=True, figsize=(N,5))\n",
    "for i in range(N):\n",
    "    trace_art = scan[scan['wedge']==scan.wedge.unique()[i]].data.sum()\n",
    "    trace_art/norm_art\n",
    "    eV_art = scan[scan['wedge']==scan.wedge.unique()[i]].eV.values[0]\n",
    "    ax[i].contourf(np.arange(trace_art.shape[0]), eV_art, trace_art.T, cmap='magma', levels=25)\n",
    "    ax[i].set_xlabel('%.1f' % Adams_wedge_thickness(scan.wedge.unique()[i]), size=14)\n",
    "    ax[i].set_yticks([])\n",
    "    ax[i].set_xticks([])\n",
    "\n",
    "\n",
    "ax[0].set_ylim(14,22)\n",
    "ax[0].set_ylabel('Energy [eV]', size=18)\n",
    "ax[0].set_yticks([14,16,18,20,22])\n",
    "ax[0].tick_params(axis='y', labelsize=14)\n",
    "plt.subplots_adjust(wspace = .001)\n",
    "plt.show()"
   ]
  },
  {
   "cell_type": "code",
   "execution_count": null,
   "metadata": {},
   "outputs": [],
   "source": [
    "Adams_wedge_thickness"
   ]
  }
 ],
 "metadata": {
  "interpreter": {
   "hash": "96267f45aa239f7579941d6828f831f322b79bfb76f99871cc5e25b5a2000bd9"
  },
  "kernelspec": {
   "display_name": "Python 3",
   "language": "python",
   "name": "python3"
  },
  "language_info": {
   "codemirror_mode": {
    "name": "ipython",
    "version": 3
   },
   "file_extension": ".py",
   "mimetype": "text/x-python",
   "name": "python",
   "nbconvert_exporter": "python",
   "pygments_lexer": "ipython3",
   "version": "3.8.8"
  }
 },
 "nbformat": 4,
 "nbformat_minor": 4
}
