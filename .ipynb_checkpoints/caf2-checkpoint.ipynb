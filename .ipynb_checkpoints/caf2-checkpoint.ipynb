{
 "cells": [
  {
   "cell_type": "code",
   "execution_count": null,
   "metadata": {},
   "outputs": [],
   "source": [
    "import numpy as np\n",
    "import matplotlib.pyplot as plt\n",
    "from functions import loading, plot_heatmap, plot_linouts, plot_all, add_har_order\n",
    "import os\n",
    "from scipy import ndimage\n",
    "import pandas as pd\n",
    "from matplotlib.ticker import LogFormatter \n",
    "from HARP.units import Unit as u\n",
    "plt.rcParams.update({'font.size': 22, 'image.cmap': 'ocean_r'})\n",
    "save_folder_art = '/Volumes/KasiaDrive/Processed_Artemis'\n",
    "filesart = os.listdir(save_folder_art)\n",
    "filesart.sort()\n",
    "filesart"
   ]
  },
  {
   "cell_type": "code",
   "execution_count": null,
   "metadata": {},
   "outputs": [],
   "source": [
    "import numpy as np\n",
    "import matplotlib.pyplot as plt\n",
    "from functions import loading, plot_heatmap, plot_linouts, plot_all,add_har_order, cmap_map, Alps1, plot_har_yield\n",
    "import os\n",
    "from scipy import ndimage\n",
    "import pandas as pd\n",
    "from matplotlib import cycler\n",
    "from matplotlib.colors import Normalize, LogNorm, TwoSlopeNorm, PowerNorm, FuncNorm\n",
    "from matplotlib import colorbar\n",
    "from mycolorpy import colorlist as mcp\n",
    "from HARP.units import Unit as u\n",
    "light_cmap = plt.get_cmap('magma')#cmap_map(lambda x: x/2 + 0.5, plt.get_cmap('magma'))\n",
    "from scipy.signal import savgol_filter, butter, find_peaks\n",
    "def cm_to_inch(x):\n",
    "    return x/2.54\n",
    "from itertools import product\n",
    "plt.rcParams.update({'axes.labelsize':18, 'image.cmap': light_cmap, 'font.family':'Arial', \"figure.figsize\":(cm_to_inch(18),cm_to_inch(11.5)), 'font.size':18})\n",
    "\n"
   ]
  },
  {
   "cell_type": "code",
   "execution_count": null,
   "metadata": {},
   "outputs": [],
   "source": [
    "cafh = loading(save_folder_art, \"Scan_220202_('CaF2200',)um_800longnm_HighE_80000MCP.npz\")"
   ]
  },
  {
   "cell_type": "code",
   "execution_count": null,
   "metadata": {},
   "outputs": [],
   "source": [
    "cafh.head()"
   ]
  },
  {
   "cell_type": "code",
   "execution_count": null,
   "metadata": {},
   "outputs": [],
   "source": [
    "plt.rcParams.update({'image.cmap':'ocean'})\n",
    "fig, ax  = plt.subplots(2, sharex=True)\n",
    "plot_all(cafh, 'iris', (5,30), (0,-1), 780, fig = fig, ax=ax[0], dp=10, norm=LogNorm(vmin=600))\n",
    "#ax[0].set_ylim(900)\n",
    "ax[0].set_xlabel('')\n",
    "plt.rcParams.update({'image.cmap':'ocean_r'})\n",
    "plot_all(cafh, 'iris', (5,30), (0,-1), 780, fig = fig, ax=ax[1], dp=10, norm=LogNorm(vmin=100,vmax=500))\n",
    "#ax[1].set_ylim(top=900)\n",
    "plt.subplots_adjust(hspace=0)\n",
    "h = add_har_order(scan70up , 'iris', (11,21), (50,150), 1750, fig = fig, ax=ax[0], dp=10)\n",
    "h = add_har_order(scan70up , 'iris', (11,21), (50,150), 1750, fig = fig, ax=ax[1], dp=10)"
   ]
  },
  {
   "cell_type": "code",
   "execution_count": null,
   "metadata": {},
   "outputs": [],
   "source": [
    "caf = loading(save_folder_art, \"Scan_220203_('CaF2200',)um_800longnm_lowE_30000MCP.npz\")\n",
    "mgo = loading(save_folder_art,\"Scan_220127_('MgO200',)um_800nm_none_40000MCP.npz\")"
   ]
  },
  {
   "cell_type": "code",
   "execution_count": null,
   "metadata": {},
   "outputs": [],
   "source": [
    "fig, ax = plt.subplots(3, sharex=True)\n",
    "plot_linouts(caf,'iris', (3,12), (0,-1), 780, fig, ax[0], 20)\n",
    "plot_heatmap(caf,'iris', (3,12), (0,-1), 780, fig, ax[1], 20)\n",
    "plot_all(caf,'iris', (3,12), (0,-1), 780, fig, ax[2],20)\n",
    "plt.tight_layout()"
   ]
  },
  {
   "cell_type": "code",
   "execution_count": null,
   "metadata": {},
   "outputs": [],
   "source": [
    "fig, ax = plt.subplots(1, figsize=(10,10))\n",
    "plot_linouts(mgo,'iris', (5,15), (70,90), 780, fig, ax, 20)\n"
   ]
  },
  {
   "cell_type": "code",
   "execution_count": null,
   "metadata": {},
   "outputs": [],
   "source": [
    "fig, ax = plt.subplots(1, figsize=(10,10))\n",
    "plot_heatmap(mgo,'iris', (5,15), (50,100), 780, fig, ax, levels=1000)\n"
   ]
  },
  {
   "cell_type": "code",
   "execution_count": null,
   "metadata": {},
   "outputs": [],
   "source": [
    "fig, ax = plt.subplots(1, figsize=(10,10))\n",
    "plot_all(mgo,'iris', (5,15), (50,100), 780, fig, ax)\n"
   ]
  },
  {
   "cell_type": "code",
   "execution_count": null,
   "metadata": {},
   "outputs": [],
   "source": [
    "fig, ax = plt.subplots(2, figsize=(10,10))\n",
    "plot_linouts(caf,'rotation', (3,12), (0,-1), 800, fig, ax[0], 20)\n",
    "plot_heatmap(caf,'rotation', (3,12), (0,-1), 800, fig, ax[1], 20)"
   ]
  },
  {
   "cell_type": "code",
   "execution_count": null,
   "metadata": {},
   "outputs": [],
   "source": []
  }
 ],
 "metadata": {
  "interpreter": {
   "hash": "96267f45aa239f7579941d6828f831f322b79bfb76f99871cc5e25b5a2000bd9"
  },
  "kernelspec": {
   "display_name": "Python 3",
   "language": "python",
   "name": "python3"
  },
  "language_info": {
   "codemirror_mode": {
    "name": "ipython",
    "version": 3
   },
   "file_extension": ".py",
   "mimetype": "text/x-python",
   "name": "python",
   "nbconvert_exporter": "python",
   "pygments_lexer": "ipython3",
   "version": "3.8.8"
  }
 },
 "nbformat": 4,
 "nbformat_minor": 4
}
