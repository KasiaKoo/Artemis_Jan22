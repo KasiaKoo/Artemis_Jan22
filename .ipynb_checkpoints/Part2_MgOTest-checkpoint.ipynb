{
 "cells": [
  {
   "cell_type": "code",
   "execution_count": null,
   "id": "a25be0ae-08ed-406d-90d0-f3dd4d6408ff",
   "metadata": {},
   "outputs": [],
   "source": [
    "import numpy as np\n",
    "import matplotlib.pyplot as plt\n",
    "from functions import loading, plot_heatmap, plot_linouts, plot_all,add_har_order, cmap_map, Alps1, plot_har_yield\n",
    "import os\n",
    "from scipy import ndimage\n",
    "import pandas as pd\n",
    "from matplotlib import cycler\n",
    "from matplotlib.colors import Normalize, LogNorm, TwoSlopeNorm, PowerNorm, FuncNorm\n",
    "from matplotlib import colorbar\n",
    "from mycolorpy import colorlist as mcp\n",
    "from HARP.units import Unit as u\n",
    "light_cmap = plt.get_cmap('magma')#cmap_map(lambda x: x/2 + 0.5, plt.get_cmap('magma'))\n",
    "from scipy.signal import savgol_filter, butter, find_peaks\n",
    "def cm_to_inch(x):\n",
    "    return x/2.54\n",
    "from itertools import product\n",
    "plt.rcParams.update({'axes.labelsize':18, 'image.cmap': light_cmap, 'font.family':'Arial', \"figure.figsize\":(cm_to_inch(18),cm_to_inch(11.5)), 'font.size':18})\n",
    "\n"
   ]
  },
  {
   "cell_type": "code",
   "execution_count": null,
   "id": "7ec2f7f9-bbeb-4d24-9d14-26c6cf6b0f3d",
   "metadata": {},
   "outputs": [],
   "source": [
    "save_folder_art = '/Volumes/KasiaDrive/Processed_Artemis'\n",
    "filesart = [i for i in os.listdir(save_folder_art) if 'MgO' and 'part2' in i]\n",
    "filesart.sintort()\n",
    "filesart"
   ]
  },
  {
   "cell_type": "markdown",
   "id": "ad7107c5-cd07-4b57-a3b2-b9246e6d3dc2",
   "metadata": {
    "heading_collapsed": "true",
    "tags": []
   },
   "source": [
    "## Testing Rotations Scans"
   ]
  },
  {
   "cell_type": "code",
   "execution_count": null,
   "id": "488ce22a-314f-4589-b05f-99dcf36e1fa9",
   "metadata": {},
   "outputs": [],
   "source": [
    "rot800 = loading(save_folder_art, \"Scan_220620_('MgO200',)um_800longnm_part2_test_theta_multi_70000MCP.npz\")"
   ]
  },
  {
   "cell_type": "code",
   "execution_count": null,
   "id": "754994d8-df22-483b-899c-15475c776f15",
   "metadata": {},
   "outputs": [],
   "source": [
    "rot800"
   ]
  },
  {
   "cell_type": "code",
   "execution_count": null,
   "id": "e280b97e-1bff-460a-9d25-ffbd59f940c9",
   "metadata": {},
   "outputs": [],
   "source": [
    "fig, ax  = plt.subplots(1, figsize=(15,15))\n",
    "plot_all(rot800, 'rotation', (3.3*1240/780,14), (0,-1), 780, fig = fig, ax=ax, dp=5)\n",
    "plt.show()"
   ]
  },
  {
   "cell_type": "code",
   "execution_count": null,
   "id": "fe0941d6-5ba3-4938-a85d-ee53941d1eaa",
   "metadata": {},
   "outputs": [],
   "source": [
    "scan = rot800.copy()\n",
    "#scan.data = scan.data.apply(lambda x: x - min(x.flatten()))\n",
    "#scan.data = scan.data.apply(lambda x: savgol_filter(x,11,3))"
   ]
  },
  {
   "cell_type": "code",
   "execution_count": null,
   "id": "453f5650-0571-4b73-96dd-c7c3cb79d0c3",
   "metadata": {},
   "outputs": [],
   "source": [
    "fig, ax  = plt.subplots(1, figsize=(15,15))\n",
    "plot_all(scan, 'rotation', (3.3*1240/780,14), (250,350), 780, fig = fig, ax=ax, dp=10, norm = LogNorm())\n",
    "plt.show()"
   ]
  },
  {
   "cell_type": "code",
   "execution_count": null,
   "id": "808698a6-3f38-4ae2-ae54-524d9257b6fc",
   "metadata": {},
   "outputs": [],
   "source": [
    "fig, ax  = plt.subplots(1)\n",
    "ev, deg, Z = plot_heatmap(scan, 'rotation', (3.3*1240/780,12), (250,350), 780, fig = fig, ax=ax, dp=10, norm = LogNorm(vmax=2e2))\n",
    "plt.show()"
   ]
  },
  {
   "cell_type": "code",
   "execution_count": null,
   "id": "85a859bc-10bc-42bc-83bc-da2715ea3d1b",
   "metadata": {},
   "outputs": [],
   "source": [
    "fig, ax = plt.subplots(1,2, figsize=(20,10), subplot_kw={'projection': 'polar'})\n",
    "\n",
    "\n",
    "cmap = plt.get_cmap('BuPu')\n",
    "r, theta = np.meshgrid(ev, np.radians(deg))\n",
    "im = ax[0].contourf(theta,r, Z, cmap='BuPu', levels=50, vmin=120)\n",
    "# ax[0].set_thetalim(np.radians(0), np.radians(180))\n",
    "ax[0].set_rlim(5,9)\n",
    "ax[0].set_rticks([6,8])\n",
    "ax[0].set_xlabel('Energy [eV]')\n",
    "\n",
    "im2 = ax[1].contourf(theta,r, Z, cmap='BuPu', vmax=120,levels=100)\n",
    "#ax[1].set_thetalim(np.radians(0), np.radians(180))\n",
    "ax[1].set_rlim(8,12)\n",
    "ax[1].set_rticks([8,10,12])\n",
    "ax[1].set_xlabel('Energy [eV]')\n"
   ]
  },
  {
   "cell_type": "markdown",
   "id": "316b0a5b-e1ef-4216-a043-691c28781390",
   "metadata": {},
   "source": [
    "## Intensity Focus Scans\n"
   ]
  },
  {
   "cell_type": "code",
   "execution_count": null,
   "id": "33077213-2c04-40fc-b398-4d009aa95582",
   "metadata": {},
   "outputs": [],
   "source": [
    "int800 = loading(save_folder_art, \"Scan_220620_('MgO200',)um_800longnm_part2_intensityfocusscan_70000MCP.npz\")"
   ]
  },
  {
   "cell_type": "code",
   "execution_count": null,
   "id": "cc07137b-89f7-4ba7-bf28-98325bb7d32d",
   "metadata": {},
   "outputs": [],
   "source": []
  }
 ],
 "metadata": {
  "kernelspec": {
   "display_name": "Python 3",
   "language": "python",
   "name": "python3"
  },
  "language_info": {
   "codemirror_mode": {
    "name": "ipython",
    "version": 3
   },
   "file_extension": ".py",
   "mimetype": "text/x-python",
   "name": "python",
   "nbconvert_exporter": "python",
   "pygments_lexer": "ipython3",
   "version": "3.8.8"
  }
 },
 "nbformat": 4,
 "nbformat_minor": 5
}
