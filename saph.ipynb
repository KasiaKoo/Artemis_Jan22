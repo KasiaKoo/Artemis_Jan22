{
 "cells": [
  {
   "cell_type": "code",
   "execution_count": null,
   "metadata": {},
   "outputs": [],
   "source": [
    "import numpy as np\n",
    "import matplotlib.pyplot as plt\n",
    "from functions import loading, Adams_wedge_thickness, wedgeold_thickness\n",
    "import os\n",
    "from scipy import ndimage\n",
    "import pandas as pd\n"
   ]
  },
  {
   "cell_type": "code",
   "execution_count": null,
   "metadata": {},
   "outputs": [],
   "source": [
    "save_folder_art = '/Volumes/KasiaDrive/Processed_Artemis'\n",
    "filesart = os.listdir(save_folder_art)\n",
    "filesart.sort()\n",
    "filesart"
   ]
  },
  {
   "cell_type": "code",
   "execution_count": null,
   "metadata": {},
   "outputs": [],
   "source": [
    "scan1 = loading(save_folder_art, \"Scan_220201_('Saph200',)um_1800_shortnm_4repeats_90000MCP.npz\")\n",
    "scan1.data.sum().shape\n",
    "scan2 = loading(save_folder_art, \"Scan_220201_('Saph200',)um_1800_shortnm_Rot0_-8iris_90000MCP.npz\")\n",
    "scan2.data.sum().shape"
   ]
  },
  {
   "cell_type": "code",
   "execution_count": null,
   "metadata": {},
   "outputs": [],
   "source": []
  }
 ],
 "metadata": {
  "interpreter": {
   "hash": "96267f45aa239f7579941d6828f831f322b79bfb76f99871cc5e25b5a2000bd9"
  },
  "kernelspec": {
   "display_name": "Python 3.8.8 ('base')",
   "language": "python",
   "name": "python3"
  },
  "language_info": {
   "codemirror_mode": {
    "name": "ipython",
    "version": 3
   },
   "file_extension": ".py",
   "mimetype": "text/x-python",
   "name": "python",
   "nbconvert_exporter": "python",
   "pygments_lexer": "ipython3",
   "version": "3.8.8"
  }
 },
 "nbformat": 4,
 "nbformat_minor": 2
}
