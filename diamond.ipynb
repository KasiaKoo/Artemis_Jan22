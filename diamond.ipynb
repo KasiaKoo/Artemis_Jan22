{
 "cells": [
  {
   "cell_type": "code",
   "execution_count": null,
   "metadata": {},
   "outputs": [],
   "source": [
    "import numpy as np\n",
    "import matplotlib.pyplot as plt\n",
    "from functions import loading, Adams_wedge_thickness, wedgeold_thickness\n",
    "import os\n",
    "from scipy import ndimage\n",
    "import pandas as pd\n",
    "save_folder_art = '/Volumes/KasiaDrive/Processed_Artemis'\n",
    "filesart = os.listdir(save_folder_art)\n",
    "filesart.sort()\n",
    "filesart"
   ]
  },
  {
   "cell_type": "code",
   "execution_count": null,
   "metadata": {},
   "outputs": [],
   "source": [
    "diam = loading(save_folder_art, \"Scan_220202_('Diamond500um',)um_1800_shortnm_Rotation0_70000MCP.npz\")"
   ]
  },
  {
   "cell_type": "code",
   "execution_count": null,
   "metadata": {},
   "outputs": [],
   "source": [
    "#Checking for chirp changes\n",
    "scan = diam\n",
    "energy_mask = (scan.eV.values[0]>5)*(scan.eV.values[0]<35)\n",
    "vmin = 0\n",
    "vmax = 5000\n",
    "N = len(scan.iris.unique())\n",
    "fig, ax = plt.subplots(N//2,2, figsize=(6, N), sharex=True)\n",
    "ax = ax.flatten()\n",
    "for i in range(N):\n",
    "    im=ax[i].imshow(np.log10(scan[scan['iris']==scan.iris.unique()[i]].data.sum()[vmin:vmax,energy_mask]), aspect='auto')\n",
    "    ax[i].set_ylabel('Iris %.1f' %scan.iris.unique()[i]) \n",
    "    ax[i].set_yticks([])\n",
    "    #ax[i].set_xticks([])\n",
    "\n",
    "    fig.colorbar(im, ax=ax[i])\n",
    "plt.tight_layout()\n",
    "plt.show()\n",
    "\n",
    "N = len(scan.iris.unique())\n",
    "fig, ax = plt.subplots(1)\n",
    "\n",
    "for i in range(N):\n",
    "    lineout = scan[scan['iris']==scan.iris.unique()[i]].data.sum()[vmin:vmax,energy_mask].mean(axis=0)\n",
    "    ax.plot(scan.eV.values[0][energy_mask],lineout, label = 'Iris %.1f' %scan.iris.unique()[i])\n",
    "\n",
    "plt.tight_layout()\n",
    "plt.legend(loc='center left', bbox_to_anchor=(1, 0.5))\n",
    "plt.show()\n",
    "\n",
    "N = len(scan.iris.unique())\n",
    "fig, ax = plt.subplots(1)\n",
    "Z = np.zeros((N, len(scan.eV.values[0][energy_mask])))\n",
    "Y = np.ones(N)\n",
    "for i in range(N):\n",
    "    lineout = scan[scan['iris']==scan.iris.unique()[i]].data.sum()[vmin:vmax,energy_mask].mean(axis=0)\n",
    "    Z[i] = lineout\n",
    "    Y[i] = scan.iris.unique()[i]\n",
    "\n",
    "plt.contourf(scan.eV.values[0][energy_mask], Y, np.log(Z), extend='both', levels=1000)\n",
    "plt.colorbar()\n",
    "plt.tight_layout()\n",
    "plt.show()"
   ]
  }
 ],
 "metadata": {
  "interpreter": {
   "hash": "96267f45aa239f7579941d6828f831f322b79bfb76f99871cc5e25b5a2000bd9"
  },
  "kernelspec": {
   "display_name": "Python 3.8.8 ('base')",
   "language": "python",
   "name": "python3"
  },
  "language_info": {
   "codemirror_mode": {
    "name": "ipython",
    "version": 3
   },
   "file_extension": ".py",
   "mimetype": "text/x-python",
   "name": "python",
   "nbconvert_exporter": "python",
   "pygments_lexer": "ipython3",
   "version": "3.8.8"
  }
 },
 "nbformat": 4,
 "nbformat_minor": 2
}
