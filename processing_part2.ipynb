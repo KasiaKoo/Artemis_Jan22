{
 "cells": [
  {
   "cell_type": "code",
   "execution_count": null,
   "id": "60dcb3e9-9284-4785-9139-ea39e4257286",
   "metadata": {},
   "outputs": [],
   "source": [
    "from HARP.scan_anal import Scan\n",
    "from HARP.iris_functions import Iris\n",
    "from HARP.image_processing import Image\n",
    "import os\n",
    "import numpy as np \n",
    "import matplotlib.pyplot as plt\n",
    "from functions import Adam_calib\n",
    "import pandas as pd\n",
    "import json\n",
    "\n"
   ]
  },
  {
   "cell_type": "code",
   "execution_count": null,
   "id": "7c605feb-0561-43ce-8fe1-d12f355c6e03",
   "metadata": {},
   "outputs": [],
   "source": [
    "\n",
    "# Define where to save the processed scan\n",
    "save_folder = '/Volumes/KasiaDrive/Processed_Artemis'\n",
    "\n",
    "\n",
    "#Where to take the scan data from\n",
    "data_folder = '/Volumes/KasiaDrive/Data/Artemis'\n",
    "#data_folder =os.path.join(data_folder,'AndorScan-021-20220624-1310 - MgO 200mm Rotation Intensity')\n",
    "h5files = [i for i in os.listdir(data_folder) if i != 'Camera.h5' and 'h5' in i]\n"
   ]
  },
  {
   "cell_type": "code",
   "execution_count": null,
   "id": "28e3e322-d3bd-45c0-987a-a8c08418e8cc",
   "metadata": {},
   "outputs": [],
   "source": [
    "os.listdir(data_folder)\n",
    "h5files = ['ImgData-000-20220629-210037.h5']"
   ]
  },
  {
   "cell_type": "code",
   "execution_count": null,
   "id": "2cdcacdc-84d7-4053-a472-56d402ba031e",
   "metadata": {},
   "outputs": [],
   "source": [
    "h5files"
   ]
  },
  {
   "cell_type": "code",
   "execution_count": null,
   "id": "0c4c9542-254c-4242-b22b-8b8d00a47ac9",
   "metadata": {},
   "outputs": [],
   "source": [
    "\n",
    "#Open the Scan class\n",
    "scan = Scan()\n",
    "scan.set_folder(data_folder)\n",
    "# fill out which are available from \n",
    "scan.set_params(iris=-1, wedge=None, rotation=0, MCPPos=30000) # here fill out the variables that you are not scanning through. This scan is Rotation and iris so I fill out the other MCPPos and Wedge\n",
    "scan.set_verlim(0, -1) #this is the vertical cropping you want to do\n",
    "scan.set_eVlim((0,40)) #this is the energy limits you want to look at\n",
    "scan.wl0 = 780e-9\n",
    "\n",
    "#To add all files or at least multiples uncomment:\n",
    "# for f in h5files[:3]:\n",
    "#    try:\n",
    "#        scan.populate_scan_h5(f, function=Adam_calib)\n",
    "#    except:\n",
    "#        print('Failed to add {}'.format(f))\n",
    "\n",
    "\n",
    "# for h5 in h5files:\n",
    "#     try:\n",
    "#         iris = h5.split('_')[1][:2]\n",
    "#         scan.populate_scan_h5(h5, function=Adam_calib)\n",
    "#         mask = scan.scan_data['iris']==-1\n",
    "#         scan.scan_data.loc[mask, 'iris'] = int(iris)\n",
    "#     except:\n",
    "#         print('unable to open h5', h5)\n"
   ]
  },
  {
   "cell_type": "code",
   "execution_count": null,
   "id": "427d34e6-8f6c-4ad8-9b39-18e59a93891e",
   "metadata": {},
   "outputs": [],
   "source": [
    "\n",
    "#scan.populate_scan_h5(h5files[0], function=Adam_calib)\n",
    "scan.populate_scan_h5(h5files[0], function=Adam_calib)"
   ]
  },
  {
   "cell_type": "code",
   "execution_count": null,
   "id": "d18c50c9-4948-4549-bb02-f54ef8cdee7b",
   "metadata": {},
   "outputs": [],
   "source": [
    "#\n",
    "date = '220621'\n",
    "sample = 'MgO',\n",
    "wl0 = '800'\n",
    "set_params = 'part2_polar_rotation_comparison_course'\n",
    "MCPpos = 30000\n",
    "\n",
    "save_name = 'Scan_{}_{}um_{}nm_{}_{}MCP.npz'.format(date, sample, wl0, set_params, MCPpos)\n",
    "\n"
   ]
  },
  {
   "cell_type": "code",
   "execution_count": null,
   "id": "a7232750-e88d-44f1-982c-d8d7b33e482e",
   "metadata": {},
   "outputs": [],
   "source": [
    "scan.scan_data"
   ]
  },
  {
   "cell_type": "code",
   "execution_count": null,
   "id": "874df1d5-9d9d-437c-a5f6-602c253973fb",
   "metadata": {},
   "outputs": [],
   "source": [
    "scan.scan_data['waveplate'] = scan.scan_data['waveplate 1']\n",
    "scan.scan_data['wp2'] = scan.scan_data['waveplate 2']\n",
    "scan.scan_data['rotation'] = scan.scan_data['sample rotation']\n",
    "scan.scan_data"
   ]
  },
  {
   "cell_type": "code",
   "execution_count": null,
   "id": "3f8fe82f-f362-41bb-ad9e-b451edf6130f",
   "metadata": {},
   "outputs": [],
   "source": [
    "test1 = scan.scan_data.copy()\n",
    "test1['data'] = test1.apply(lambda row: row.Data.data, axis=1)\n",
    "test1['eV'] = test1.apply(lambda row: row.Data.eV_axis, axis=1)\n",
    "test1['ver'] = test1.apply(lambda row: row.Data.ver_lim, axis=1)\n",
    "test1['wl0'] = test1.apply(lambda row: row.Data.wl0, axis=1)\n",
    "test1 = test1.drop(['Data'], axis=1)\n",
    "np.savez(os.path.join(save_folder, save_name), \n",
    "            iris = test1['iris'].values, \n",
    "            rotation=test1['rotation'].values,\n",
    "            mcppos=test1['MCP Pos'].values, \n",
    "            data=test1['data'].values,\n",
    "            ver=test1['ver'].values,\n",
    "            wl0=test1['wl0'].values,\n",
    "            eV = test1['eV'].values, \n",
    "            wp = test1['waveplate'].values,\n",
    "            wp2 = test1['wp2'].values\n",
    "        )"
   ]
  },
  {
   "cell_type": "code",
   "execution_count": null,
   "id": "eb055a70-0458-49b2-bc02-1361c002e950",
   "metadata": {},
   "outputs": [],
   "source": []
  },
  {
   "cell_type": "code",
   "execution_count": null,
   "id": "bb5f1442-c7ef-4aa2-b152-27f00348de87",
   "metadata": {},
   "outputs": [],
   "source": []
  }
 ],
 "metadata": {
  "kernelspec": {
   "display_name": "Python 3",
   "language": "python",
   "name": "python3"
  },
  "language_info": {
   "codemirror_mode": {
    "name": "ipython",
    "version": 3
   },
   "file_extension": ".py",
   "mimetype": "text/x-python",
   "name": "python",
   "nbconvert_exporter": "python",
   "pygments_lexer": "ipython3",
   "version": "3.8.8"
  }
 },
 "nbformat": 4,
 "nbformat_minor": 5
}
